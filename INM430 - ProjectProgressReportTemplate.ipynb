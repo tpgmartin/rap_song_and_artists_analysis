{
 "cells": [
  {
   "cell_type": "markdown",
   "metadata": {},
   "source": [
    "# INM430 - Tiny DS Project Progress Report\n",
    "\n",
    "\n",
    "***\n",
    "\n",
    "** Student Name: ** Thomas Martin\n",
    "\n",
    "** Project Title:** Clustering Analysis of R&B/Hip-Hop Artists\n",
    "\n",
    "***\n",
    "\n",
    "\n"
   ]
  },
  {
   "cell_type": "markdown",
   "metadata": {},
   "source": [
    "## Part-1: Data source and domain description (maximum 150 words):\n",
    "\n",
    "Section-1: Data source and domain description (maximum 150 words): This is a very brief overview of your Stage-1 process as described above. Briefly describe your data sources and the domain they are related to. Try to write at least one key question you want answer with your analysis.\n",
    "\n",
    "***\n",
    "\n",
    "* Relevant artists found from Billboard\n",
    "* Song lyrics from\n",
    "* Question to answer: Can we predict the review rating from the written review fields?"
   ]
  },
  {
   "cell_type": "markdown",
   "metadata": {},
   "source": [
    "## Part-2: Analysis Strategy and Plans (maximum 200 words):\n",
    "\n",
    "Section-2: Analysis Strategy and Plans (maximum 200 words): This is a very brief overview of your Stage-2 process as described above. Briefly comment on what your overall strategy is, what transformations you will need to do, what analytical tools you plan to use.\n",
    "\n",
    "***"
   ]
  },
  {
   "cell_type": "markdown",
   "metadata": {},
   "source": [
    "## Part-3: Initial investigations on the data sources (maximum 150 words): \n",
    "\n",
    "Section-3: Initial investigations on the data sources (maximum 150 words): Report some very brief early observations here. Some examples could be: How many features you have, what are the data types, do you observe several problematic data features, will you need significant data transformations? The answers might come from the code you include in the following section.\n",
    "\n",
    "***"
   ]
  },
  {
   "cell_type": "markdown",
   "metadata": {},
   "source": [
    "## Part-4: Python code for initial investigations\n",
    "\n",
    "Section-4: Python code for initial investigations: Here, we only want you to demonstrate that you've loaded your data into Python for initial investigation. For the full project, you may choose to use also other tools and programming languages so we only expect to see some very first steps here in Python. Some code where you load your data and get the first statistical and/or visual summaries to provide you the insight you document in Part-3 will be sufficient. We just want to see evidence of your progress.\n",
    "\n",
    "Put code for Part-3 writeup here ..."
   ]
  },
  {
   "cell_type": "code",
   "execution_count": 2,
   "metadata": {
    "collapsed": true
   },
   "outputs": [],
   "source": [
    "# This cell is where you can copy + paste your Python code which loads your data and produces \n",
    "# When you press CTRL+Enter, this cell will execute and produce some output\n",
    "# You can develop your code in Spyder (or another IDE) and copy + paste over here\n",
    "\n",
    "# Step-1: Load your data\n",
    "# Step-2: Get an overview of the data features, some suggestions to look for:\n",
    "#         number of features, data types, any missing values?, \n",
    "#         any transformations needed?\n",
    "\n",
    "# Start with your import (s) here.\n",
    "\n",
    "# The following is essential to get your matplotlib plots inline, so do not miss this one if you have graphics.\n",
    "\n",
    "%matplotlib inline\n",
    "\n",
    "# Some usual imports here\n",
    "import csv as csv \n",
    "import numpy as np\n",
    "import pandas as pd\n",
    "\n",
    "# Continue here with your code\n",
    "\n"
   ]
  }
 ],
 "metadata": {
  "kernelspec": {
   "display_name": "Python 3",
   "language": "python",
   "name": "python3"
  },
  "language_info": {
   "codemirror_mode": {
    "name": "ipython",
    "version": 3
   },
   "file_extension": ".py",
   "mimetype": "text/x-python",
   "name": "python",
   "nbconvert_exporter": "python",
   "pygments_lexer": "ipython3",
   "version": "3.6.4"
  }
 },
 "nbformat": 4,
 "nbformat_minor": 1
}
