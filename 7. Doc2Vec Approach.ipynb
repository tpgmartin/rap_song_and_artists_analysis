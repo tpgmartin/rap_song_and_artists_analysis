{
 "cells": [
  {
   "cell_type": "code",
   "execution_count": 1,
   "metadata": {
    "collapsed": true
   },
   "outputs": [],
   "source": [
    "from gensim.models.doc2vec import Doc2Vec, TaggedDocument\n",
    "import nltk\n",
    "from nltk.tokenize import word_tokenize\n",
    "import pandas as pd\n",
    "import re\n",
    "from sklearn.linear_model import LogisticRegression\n",
    "from sklearn.model_selection import train_test_split\n",
    "from sklearn import utils"
   ]
  },
  {
   "cell_type": "code",
   "execution_count": 2,
   "metadata": {},
   "outputs": [
    {
     "name": "stdout",
     "output_type": "stream",
     "text": [
      "[nltk_data] Downloading package punkt to /Users/tom/nltk_data...\n",
      "[nltk_data]   Package punkt is already up-to-date!\n"
     ]
    },
    {
     "data": {
      "text/plain": [
       "True"
      ]
     },
     "execution_count": 2,
     "metadata": {},
     "output_type": "execute_result"
    }
   ],
   "source": [
    "# Run nltk downloader\n",
    "nltk.download('punkt')"
   ]
  },
  {
   "cell_type": "code",
   "execution_count": 2,
   "metadata": {
    "collapsed": true
   },
   "outputs": [],
   "source": [
    "tracks_by_artist = pd.read_csv(\"./data/tracks_with_lyrics_since_2013.csv\")"
   ]
  },
  {
   "cell_type": "code",
   "execution_count": 3,
   "metadata": {},
   "outputs": [
    {
     "data": {
      "text/html": [
       "<div>\n",
       "<style scoped>\n",
       "    .dataframe tbody tr th:only-of-type {\n",
       "        vertical-align: middle;\n",
       "    }\n",
       "\n",
       "    .dataframe tbody tr th {\n",
       "        vertical-align: top;\n",
       "    }\n",
       "\n",
       "    .dataframe thead th {\n",
       "        text-align: right;\n",
       "    }\n",
       "</style>\n",
       "<table border=\"1\" class=\"dataframe\">\n",
       "  <thead>\n",
       "    <tr style=\"text-align: right;\">\n",
       "      <th></th>\n",
       "      <th>artist</th>\n",
       "      <th>album</th>\n",
       "      <th>track</th>\n",
       "      <th>lyrics</th>\n",
       "    </tr>\n",
       "  </thead>\n",
       "  <tbody>\n",
       "    <tr>\n",
       "      <th>0</th>\n",
       "      <td>2 Chainz</td>\n",
       "      <td>ColleGrove</td>\n",
       "      <td>Not Invited</td>\n",
       "      <td>[Intro]\\nOf course I'ma stunt\\nOf course I'ma ...</td>\n",
       "    </tr>\n",
       "    <tr>\n",
       "      <th>1</th>\n",
       "      <td>2 Chainz</td>\n",
       "      <td>Based On A T.R.U. Story</td>\n",
       "      <td>Money Machine</td>\n",
       "      <td>[Intro]\\nI told them, get on my level\\nBitch, ...</td>\n",
       "    </tr>\n",
       "    <tr>\n",
       "      <th>2</th>\n",
       "      <td>2 Chainz</td>\n",
       "      <td>ColleGrove</td>\n",
       "      <td>MF'N Right</td>\n",
       "      <td>[Produced by Mike WiLL Made It &amp; Zaytoven]\\n\\n...</td>\n",
       "    </tr>\n",
       "    <tr>\n",
       "      <th>3</th>\n",
       "      <td>2 Chainz</td>\n",
       "      <td>ColleGrove</td>\n",
       "      <td>100 Joints</td>\n",
       "      <td>[Hook]\\nYeah uum\\nNo matter what they say I sm...</td>\n",
       "    </tr>\n",
       "    <tr>\n",
       "      <th>4</th>\n",
       "      <td>2 Chainz</td>\n",
       "      <td>Based On A T.R.U. Story</td>\n",
       "      <td>I'm Different</td>\n",
       "      <td>[Intro: YG]\\nMustard on the beat, ho!\\n\\n[Hook...</td>\n",
       "    </tr>\n",
       "  </tbody>\n",
       "</table>\n",
       "</div>"
      ],
      "text/plain": [
       "     artist                    album          track  \\\n",
       "0  2 Chainz               ColleGrove    Not Invited   \n",
       "1  2 Chainz  Based On A T.R.U. Story  Money Machine   \n",
       "2  2 Chainz               ColleGrove     MF'N Right   \n",
       "3  2 Chainz               ColleGrove     100 Joints   \n",
       "4  2 Chainz  Based On A T.R.U. Story  I'm Different   \n",
       "\n",
       "                                              lyrics  \n",
       "0  [Intro]\\nOf course I'ma stunt\\nOf course I'ma ...  \n",
       "1  [Intro]\\nI told them, get on my level\\nBitch, ...  \n",
       "2  [Produced by Mike WiLL Made It & Zaytoven]\\n\\n...  \n",
       "3  [Hook]\\nYeah uum\\nNo matter what they say I sm...  \n",
       "4  [Intro: YG]\\nMustard on the beat, ho!\\n\\n[Hook...  "
      ]
     },
     "execution_count": 3,
     "metadata": {},
     "output_type": "execute_result"
    }
   ],
   "source": [
    "tracks_by_artist.head()"
   ]
  },
  {
   "cell_type": "code",
   "execution_count": 4,
   "metadata": {},
   "outputs": [
    {
     "data": {
      "text/html": [
       "<div>\n",
       "<style scoped>\n",
       "    .dataframe tbody tr th:only-of-type {\n",
       "        vertical-align: middle;\n",
       "    }\n",
       "\n",
       "    .dataframe tbody tr th {\n",
       "        vertical-align: top;\n",
       "    }\n",
       "\n",
       "    .dataframe thead th {\n",
       "        text-align: right;\n",
       "    }\n",
       "</style>\n",
       "<table border=\"1\" class=\"dataframe\">\n",
       "  <thead>\n",
       "    <tr style=\"text-align: right;\">\n",
       "      <th></th>\n",
       "      <th>artist</th>\n",
       "      <th>album</th>\n",
       "      <th>track</th>\n",
       "      <th>lyrics</th>\n",
       "    </tr>\n",
       "  </thead>\n",
       "  <tbody>\n",
       "    <tr>\n",
       "      <th>1049</th>\n",
       "      <td>Z-Ro</td>\n",
       "      <td>Drankin &amp; Drivin</td>\n",
       "      <td>Devil Ass City</td>\n",
       "      <td>[Hook]\\nI only fear god in this devil ass city...</td>\n",
       "    </tr>\n",
       "    <tr>\n",
       "      <th>1051</th>\n",
       "      <td>Z-Ro</td>\n",
       "      <td>Legendary</td>\n",
       "      <td>Dome, Kush, and Codeine</td>\n",
       "      <td>[Hook]\\nDome, kush, and codeine\\nYou know that...</td>\n",
       "    </tr>\n",
       "    <tr>\n",
       "      <th>1053</th>\n",
       "      <td>Z-Ro</td>\n",
       "      <td>Drankin &amp; Drivin</td>\n",
       "      <td>New Shit</td>\n",
       "      <td>[Hook]\\nIf you don't like my new shit you can ...</td>\n",
       "    </tr>\n",
       "    <tr>\n",
       "      <th>1056</th>\n",
       "      <td>Z-Ro</td>\n",
       "      <td>Legendary</td>\n",
       "      <td>Out His Mind</td>\n",
       "      <td>[Chorus: Z-Ro]\\nZ-ro must be out his mind\\nThi...</td>\n",
       "    </tr>\n",
       "    <tr>\n",
       "      <th>1058</th>\n",
       "      <td>Z-Ro</td>\n",
       "      <td>Drankin &amp; Drivin</td>\n",
       "      <td>Hate Me So Much</td>\n",
       "      <td>[Verse 1]\\nY'all can keep on talking, dropping...</td>\n",
       "    </tr>\n",
       "  </tbody>\n",
       "</table>\n",
       "</div>"
      ],
      "text/plain": [
       "     artist             album                    track  \\\n",
       "1049   Z-Ro  Drankin & Drivin           Devil Ass City   \n",
       "1051   Z-Ro         Legendary  Dome, Kush, and Codeine   \n",
       "1053   Z-Ro  Drankin & Drivin                 New Shit   \n",
       "1056   Z-Ro         Legendary             Out His Mind   \n",
       "1058   Z-Ro  Drankin & Drivin          Hate Me So Much   \n",
       "\n",
       "                                                 lyrics  \n",
       "1049  [Hook]\\nI only fear god in this devil ass city...  \n",
       "1051  [Hook]\\nDome, kush, and codeine\\nYou know that...  \n",
       "1053  [Hook]\\nIf you don't like my new shit you can ...  \n",
       "1056  [Chorus: Z-Ro]\\nZ-ro must be out his mind\\nThi...  \n",
       "1058  [Verse 1]\\nY'all can keep on talking, dropping...  "
      ]
     },
     "execution_count": 4,
     "metadata": {},
     "output_type": "execute_result"
    }
   ],
   "source": [
    "tracks_by_artist = tracks_by_artist[~tracks_by_artist[\"lyrics\"].isnull()]\n",
    "tracks_by_artist.tail()"
   ]
  },
  {
   "cell_type": "code",
   "execution_count": 6,
   "metadata": {},
   "outputs": [
    {
     "data": {
      "text/plain": [
       "artist\n",
       "2 Chainz                      20\n",
       "A$AP Rocky                    20\n",
       "Atmosphere                    17\n",
       "Big Sean                      19\n",
       "Cardi B                       17\n",
       "Chief Keef                    18\n",
       "Danny Brown                   17\n",
       "Drake                         20\n",
       "Eminem                        20\n",
       "Future                        20\n",
       "G-Eazy                        18\n",
       "Gucci Mane                    17\n",
       "Hopsin                        18\n",
       "Isaiah Rashad                 18\n",
       "J. Cole                       20\n",
       "Jeezy                         16\n",
       "Kendrick Lamar                19\n",
       "Kevin Gates                   18\n",
       "Kid Cudi                      20\n",
       "Kodak Black                   20\n",
       "Lecrae                        14\n",
       "Lil Uzi Vert                  20\n",
       "Lil Wayne                     20\n",
       "Lil Yachty                    17\n",
       "Logic                         19\n",
       "Mac Miller                    19\n",
       "Machine Gun Kelly             16\n",
       "Migos                         20\n",
       "Mike Stud                     17\n",
       "Moneybagg Yo                  15\n",
       "NF                            15\n",
       "Nicki Minaj                   20\n",
       "Pink Guy                      20\n",
       "Post Malone                   20\n",
       "Rick Ross                     20\n",
       "Rittz                         17\n",
       "Russ                          17\n",
       "Starbomb                      18\n",
       "Swollen Members               17\n",
       "Tech N9ne                     17\n",
       "The Game                      18\n",
       "The Lacs                      16\n",
       "Tory Lanez                    19\n",
       "Upchurch                      16\n",
       "Wale                          19\n",
       "Wiz Khalifa                   16\n",
       "YG                            19\n",
       "Yo Gotti                      16\n",
       "Young Thug                    19\n",
       "YoungBoy Never Broke Again    20\n",
       "Z-Ro                          12\n",
       "Name: lyrics, dtype: int64"
      ]
     },
     "execution_count": 6,
     "metadata": {},
     "output_type": "execute_result"
    }
   ],
   "source": [
    "tracks_by_artist.groupby(\"artist\").agg(\"count\")[\"lyrics\"]"
   ]
  },
  {
   "cell_type": "code",
   "execution_count": 60,
   "metadata": {},
   "outputs": [],
   "source": [
    "artist_sample = tracks_by_artist[tracks_by_artist[\"artist\"].isin([\"J. Cole\", \"Lil Uzi Vert\"])]"
   ]
  },
  {
   "cell_type": "code",
   "execution_count": 61,
   "metadata": {},
   "outputs": [
    {
     "data": {
      "text/html": [
       "<div>\n",
       "<style scoped>\n",
       "    .dataframe tbody tr th:only-of-type {\n",
       "        vertical-align: middle;\n",
       "    }\n",
       "\n",
       "    .dataframe tbody tr th {\n",
       "        vertical-align: top;\n",
       "    }\n",
       "\n",
       "    .dataframe thead th {\n",
       "        text-align: right;\n",
       "    }\n",
       "</style>\n",
       "<table border=\"1\" class=\"dataframe\">\n",
       "  <thead>\n",
       "    <tr style=\"text-align: right;\">\n",
       "      <th></th>\n",
       "      <th>artist</th>\n",
       "      <th>album</th>\n",
       "      <th>track</th>\n",
       "      <th>lyrics</th>\n",
       "    </tr>\n",
       "  </thead>\n",
       "  <tbody>\n",
       "    <tr>\n",
       "      <th>320</th>\n",
       "      <td>J. Cole</td>\n",
       "      <td>2014 Forest Hills Drive</td>\n",
       "      <td>Note to Self</td>\n",
       "      <td>[Chorus]\\nAnd wherever we go\\nAnd whatever we ...</td>\n",
       "    </tr>\n",
       "    <tr>\n",
       "      <th>321</th>\n",
       "      <td>J. Cole</td>\n",
       "      <td>KOD</td>\n",
       "      <td>Intro (KOD)</td>\n",
       "      <td>Can someone please turn off my mind?\\nMy thoug...</td>\n",
       "    </tr>\n",
       "    <tr>\n",
       "      <th>322</th>\n",
       "      <td>J. Cole</td>\n",
       "      <td>2014 Forest Hills Drive</td>\n",
       "      <td>Hello</td>\n",
       "      <td>[Chorus]\\nHello, hello, hello\\nHello, hello, h...</td>\n",
       "    </tr>\n",
       "    <tr>\n",
       "      <th>323</th>\n",
       "      <td>J. Cole</td>\n",
       "      <td>KOD</td>\n",
       "      <td>Photograph</td>\n",
       "      <td>[Chorus]\\nFell in love through photograph\\nI d...</td>\n",
       "    </tr>\n",
       "    <tr>\n",
       "      <th>324</th>\n",
       "      <td>J. Cole</td>\n",
       "      <td>2014 Forest Hills Drive</td>\n",
       "      <td>G.O.M.D.</td>\n",
       "      <td>[Produced by J.Cole]\\n[Directed by Lawrence La...</td>\n",
       "    </tr>\n",
       "    <tr>\n",
       "      <th>325</th>\n",
       "      <td>J. Cole</td>\n",
       "      <td>Born Sinner</td>\n",
       "      <td>Mo Money (Interlude)</td>\n",
       "      <td>[Verse]\\nMo Money, yeah\\nMo Money, Blow Money,...</td>\n",
       "    </tr>\n",
       "    <tr>\n",
       "      <th>326</th>\n",
       "      <td>J. Cole</td>\n",
       "      <td>Born Sinner</td>\n",
       "      <td>Miss America</td>\n",
       "      <td>[Intro]\\nThis is a public service announcement...</td>\n",
       "    </tr>\n",
       "    <tr>\n",
       "      <th>327</th>\n",
       "      <td>J. Cole</td>\n",
       "      <td>2014 Forest Hills Drive</td>\n",
       "      <td>03' Adolescence</td>\n",
       "      <td>[Produced by Willie B]\\n\\n[Verse 1]\\nI grew up...</td>\n",
       "    </tr>\n",
       "    <tr>\n",
       "      <th>328</th>\n",
       "      <td>J. Cole</td>\n",
       "      <td>2014 Forest Hills Drive</td>\n",
       "      <td>Apparently</td>\n",
       "      <td>[Produced by J. Cole and Omen]\\n[Directed by S...</td>\n",
       "    </tr>\n",
       "    <tr>\n",
       "      <th>329</th>\n",
       "      <td>J. Cole</td>\n",
       "      <td>4 Your Eyez Only</td>\n",
       "      <td>She's Mine, Pt. 2</td>\n",
       "      <td>[Intro]\\nCatch me, don't you\\nCatch me, don't ...</td>\n",
       "    </tr>\n",
       "    <tr>\n",
       "      <th>330</th>\n",
       "      <td>J. Cole</td>\n",
       "      <td>Born Sinner</td>\n",
       "      <td>LAnd of the Snakes</td>\n",
       "      <td>[Intro]\\nYeah, uh-huh\\n\\n[Verse 1]\\nThis the s...</td>\n",
       "    </tr>\n",
       "    <tr>\n",
       "      <th>331</th>\n",
       "      <td>J. Cole</td>\n",
       "      <td>Born Sinner</td>\n",
       "      <td>Chaining Day</td>\n",
       "      <td>[Intro]\\nAyy\\nCole World\\nForreal\\n\\n[Verse 1]...</td>\n",
       "    </tr>\n",
       "    <tr>\n",
       "      <th>332</th>\n",
       "      <td>J. Cole</td>\n",
       "      <td>2014 Forest Hills Drive</td>\n",
       "      <td>Fire Squad</td>\n",
       "      <td>[Produced by J. Cole &amp; Vinylz]\\n\\n[Hook]\\nNigg...</td>\n",
       "    </tr>\n",
       "    <tr>\n",
       "      <th>333</th>\n",
       "      <td>J. Cole</td>\n",
       "      <td>4 Your Eyez Only</td>\n",
       "      <td>Deja Vu</td>\n",
       "      <td>[Intro]\\nAyy, put a finger in the sky if you w...</td>\n",
       "    </tr>\n",
       "    <tr>\n",
       "      <th>334</th>\n",
       "      <td>J. Cole</td>\n",
       "      <td>KOD</td>\n",
       "      <td>ATM</td>\n",
       "      <td>[Intro]\\nLife can bring much pain\\nThere are m...</td>\n",
       "    </tr>\n",
       "    <tr>\n",
       "      <th>335</th>\n",
       "      <td>J. Cole</td>\n",
       "      <td>4 Your Eyez Only</td>\n",
       "      <td>Foldin Clothes</td>\n",
       "      <td>[Hook]\\nI wanna fold clothes for you\\nI wanna ...</td>\n",
       "    </tr>\n",
       "    <tr>\n",
       "      <th>336</th>\n",
       "      <td>J. Cole</td>\n",
       "      <td>Born Sinner</td>\n",
       "      <td>Kerney Sermon (Skit)</td>\n",
       "      <td>[Kerney Thomas]\\nI'm just thankful\\n18 years o...</td>\n",
       "    </tr>\n",
       "    <tr>\n",
       "      <th>337</th>\n",
       "      <td>J. Cole</td>\n",
       "      <td>2014 Forest Hills Drive</td>\n",
       "      <td>St. Tropez</td>\n",
       "      <td>[Produced by J. Cole]\\n\\n[Verse 1]\\nRoll up an...</td>\n",
       "    </tr>\n",
       "    <tr>\n",
       "      <th>338</th>\n",
       "      <td>J. Cole</td>\n",
       "      <td>KOD</td>\n",
       "      <td>Motiv8</td>\n",
       "      <td>[Intro]\\nYou really wanna know who Superman is...</td>\n",
       "    </tr>\n",
       "    <tr>\n",
       "      <th>339</th>\n",
       "      <td>J. Cole</td>\n",
       "      <td>Born Sinner</td>\n",
       "      <td>Ain't That Some Shit (Interlude)</td>\n",
       "      <td>[Intro]\\nOkay, I lied\\nUh-huh\\n\\n[Verse 1]\\nMo...</td>\n",
       "    </tr>\n",
       "    <tr>\n",
       "      <th>460</th>\n",
       "      <td>Lil Uzi Vert</td>\n",
       "      <td>The Perfect LUV Tape</td>\n",
       "      <td>Alfa Romeo AW30 (I Can Drive)</td>\n",
       "      <td>[Intro]\\nI heard that's a lie\\nTook his bitch ...</td>\n",
       "    </tr>\n",
       "    <tr>\n",
       "      <th>461</th>\n",
       "      <td>Lil Uzi Vert</td>\n",
       "      <td>Luv Is Rage 2</td>\n",
       "      <td>For Real</td>\n",
       "      <td>[Intro]\\nDamn, DJ Plugg, you just killed it\\nB...</td>\n",
       "    </tr>\n",
       "    <tr>\n",
       "      <th>462</th>\n",
       "      <td>Lil Uzi Vert</td>\n",
       "      <td>The Perfect LUV Tape</td>\n",
       "      <td>Original Uzi (4 Of Us)</td>\n",
       "      <td>[Chorus]\\nNigga, I tucked the burner (yeah)\\nD...</td>\n",
       "    </tr>\n",
       "    <tr>\n",
       "      <th>463</th>\n",
       "      <td>Lil Uzi Vert</td>\n",
       "      <td>The Perfect LUV Tape</td>\n",
       "      <td>SideLine Watching (Hold Up)</td>\n",
       "      <td>[Intro]\\nZaytoven\\n\\n[Chorus]\\nHold up, hold u...</td>\n",
       "    </tr>\n",
       "    <tr>\n",
       "      <th>464</th>\n",
       "      <td>Lil Uzi Vert</td>\n",
       "      <td>Luv Is Rage 2</td>\n",
       "      <td>XO TOUR Llif3</td>\n",
       "      <td>[Intro]\\nAre you alright?\\nI'm alright, I'm qu...</td>\n",
       "    </tr>\n",
       "    <tr>\n",
       "      <th>465</th>\n",
       "      <td>Lil Uzi Vert</td>\n",
       "      <td>Luv Is Rage 2</td>\n",
       "      <td>444+222</td>\n",
       "      <td>[Intro]\\nOkay I'm ready\\n\\n[Chorus]\\nBreathe i...</td>\n",
       "    </tr>\n",
       "    <tr>\n",
       "      <th>466</th>\n",
       "      <td>Lil Uzi Vert</td>\n",
       "      <td>The Perfect LUV Tape</td>\n",
       "      <td>Money Mitch</td>\n",
       "      <td>[Intro]\\nYeah, yeah, yeah, yeah\\nYeah, yeah, y...</td>\n",
       "    </tr>\n",
       "    <tr>\n",
       "      <th>467</th>\n",
       "      <td>Lil Uzi Vert</td>\n",
       "      <td>Luv Is Rage 2</td>\n",
       "      <td>Sauce It Up</td>\n",
       "      <td>[Intro]\\nSauce it up, ayy, sauce it up, ayy\\nS...</td>\n",
       "    </tr>\n",
       "    <tr>\n",
       "      <th>468</th>\n",
       "      <td>Lil Uzi Vert</td>\n",
       "      <td>Luv Is Rage 2</td>\n",
       "      <td>Two®</td>\n",
       "      <td>[Intro]\\nG.O.A.T. (yah)\\nThat's true! Yah!\\nUz...</td>\n",
       "    </tr>\n",
       "    <tr>\n",
       "      <th>469</th>\n",
       "      <td>Lil Uzi Vert</td>\n",
       "      <td>Luv Is Rage 2</td>\n",
       "      <td>X</td>\n",
       "      <td>[Intro]\\nAre you alright?\\nI'm alright, I'm qu...</td>\n",
       "    </tr>\n",
       "    <tr>\n",
       "      <th>470</th>\n",
       "      <td>Lil Uzi Vert</td>\n",
       "      <td>Lil Uzi Vert Vs. The World</td>\n",
       "      <td>Money Longer</td>\n",
       "      <td>[Chorus]\\nYah, it do not matter\\nTurned to a s...</td>\n",
       "    </tr>\n",
       "    <tr>\n",
       "      <th>471</th>\n",
       "      <td>Lil Uzi Vert</td>\n",
       "      <td>The Perfect LUV Tape</td>\n",
       "      <td>Erase Your Social</td>\n",
       "      <td>[Producer tag]\\nCannon (cannon)\\n\\n[Pre-Chorus...</td>\n",
       "    </tr>\n",
       "    <tr>\n",
       "      <th>472</th>\n",
       "      <td>Lil Uzi Vert</td>\n",
       "      <td>Luv Is Rage 2</td>\n",
       "      <td>Loaded</td>\n",
       "      <td>[Intro]\\nYou know my pockets loaded\\nYou know ...</td>\n",
       "    </tr>\n",
       "    <tr>\n",
       "      <th>473</th>\n",
       "      <td>Lil Uzi Vert</td>\n",
       "      <td>Lil Uzi Vert Vs. The World</td>\n",
       "      <td>Team Rocket</td>\n",
       "      <td>[Hook]\\nLike when it come to hundreds that's m...</td>\n",
       "    </tr>\n",
       "    <tr>\n",
       "      <th>474</th>\n",
       "      <td>Lil Uzi Vert</td>\n",
       "      <td>Lil Uzi Vert Vs. The World</td>\n",
       "      <td>Canadian Goose</td>\n",
       "      <td>[Verse 1]\\nI woke up in the morning, brush my ...</td>\n",
       "    </tr>\n",
       "    <tr>\n",
       "      <th>475</th>\n",
       "      <td>Lil Uzi Vert</td>\n",
       "      <td>Lil Uzi Vert Vs. The World</td>\n",
       "      <td>Scott and Ramona</td>\n",
       "      <td>[Produced by WondaGurl]\\n\\n[Intro]\\nYaaahhh, y...</td>\n",
       "    </tr>\n",
       "    <tr>\n",
       "      <th>476</th>\n",
       "      <td>Lil Uzi Vert</td>\n",
       "      <td>Luv Is Rage 2</td>\n",
       "      <td>Pretty Mami</td>\n",
       "      <td>[Intro]\\nCan't nobody touch my swag\\nCan't nob...</td>\n",
       "    </tr>\n",
       "    <tr>\n",
       "      <th>477</th>\n",
       "      <td>Lil Uzi Vert</td>\n",
       "      <td>The Perfect LUV Tape</td>\n",
       "      <td>Do What I Want</td>\n",
       "      <td>[Intro]\\nUm, I'm on some shit like\\nNow I do w...</td>\n",
       "    </tr>\n",
       "    <tr>\n",
       "      <th>478</th>\n",
       "      <td>Lil Uzi Vert</td>\n",
       "      <td>The Perfect LUV Tape</td>\n",
       "      <td>Ronda (Winners)</td>\n",
       "      <td>[Hook]\\nGet knocked down, act like you never l...</td>\n",
       "    </tr>\n",
       "    <tr>\n",
       "      <th>479</th>\n",
       "      <td>Lil Uzi Vert</td>\n",
       "      <td>Luv Is Rage 2</td>\n",
       "      <td>Feelings Mutual</td>\n",
       "      <td>[Intro]\\nAnd I...\\nWant you to know something ...</td>\n",
       "    </tr>\n",
       "  </tbody>\n",
       "</table>\n",
       "</div>"
      ],
      "text/plain": [
       "           artist                       album  \\\n",
       "320       J. Cole     2014 Forest Hills Drive   \n",
       "321       J. Cole                         KOD   \n",
       "322       J. Cole     2014 Forest Hills Drive   \n",
       "323       J. Cole                         KOD   \n",
       "324       J. Cole     2014 Forest Hills Drive   \n",
       "325       J. Cole                 Born Sinner   \n",
       "326       J. Cole                 Born Sinner   \n",
       "327       J. Cole     2014 Forest Hills Drive   \n",
       "328       J. Cole     2014 Forest Hills Drive   \n",
       "329       J. Cole            4 Your Eyez Only   \n",
       "330       J. Cole                 Born Sinner   \n",
       "331       J. Cole                 Born Sinner   \n",
       "332       J. Cole     2014 Forest Hills Drive   \n",
       "333       J. Cole            4 Your Eyez Only   \n",
       "334       J. Cole                         KOD   \n",
       "335       J. Cole            4 Your Eyez Only   \n",
       "336       J. Cole                 Born Sinner   \n",
       "337       J. Cole     2014 Forest Hills Drive   \n",
       "338       J. Cole                         KOD   \n",
       "339       J. Cole                 Born Sinner   \n",
       "460  Lil Uzi Vert        The Perfect LUV Tape   \n",
       "461  Lil Uzi Vert               Luv Is Rage 2   \n",
       "462  Lil Uzi Vert        The Perfect LUV Tape   \n",
       "463  Lil Uzi Vert        The Perfect LUV Tape   \n",
       "464  Lil Uzi Vert               Luv Is Rage 2   \n",
       "465  Lil Uzi Vert               Luv Is Rage 2   \n",
       "466  Lil Uzi Vert        The Perfect LUV Tape   \n",
       "467  Lil Uzi Vert               Luv Is Rage 2   \n",
       "468  Lil Uzi Vert               Luv Is Rage 2   \n",
       "469  Lil Uzi Vert               Luv Is Rage 2   \n",
       "470  Lil Uzi Vert  Lil Uzi Vert Vs. The World   \n",
       "471  Lil Uzi Vert        The Perfect LUV Tape   \n",
       "472  Lil Uzi Vert               Luv Is Rage 2   \n",
       "473  Lil Uzi Vert  Lil Uzi Vert Vs. The World   \n",
       "474  Lil Uzi Vert  Lil Uzi Vert Vs. The World   \n",
       "475  Lil Uzi Vert  Lil Uzi Vert Vs. The World   \n",
       "476  Lil Uzi Vert               Luv Is Rage 2   \n",
       "477  Lil Uzi Vert        The Perfect LUV Tape   \n",
       "478  Lil Uzi Vert        The Perfect LUV Tape   \n",
       "479  Lil Uzi Vert               Luv Is Rage 2   \n",
       "\n",
       "                                track  \\\n",
       "320                      Note to Self   \n",
       "321                       Intro (KOD)   \n",
       "322                             Hello   \n",
       "323                        Photograph   \n",
       "324                          G.O.M.D.   \n",
       "325              Mo Money (Interlude)   \n",
       "326                      Miss America   \n",
       "327                   03' Adolescence   \n",
       "328                        Apparently   \n",
       "329                 She's Mine, Pt. 2   \n",
       "330                LAnd of the Snakes   \n",
       "331                      Chaining Day   \n",
       "332                        Fire Squad   \n",
       "333                           Deja Vu   \n",
       "334                               ATM   \n",
       "335                    Foldin Clothes   \n",
       "336              Kerney Sermon (Skit)   \n",
       "337                        St. Tropez   \n",
       "338                            Motiv8   \n",
       "339  Ain't That Some Shit (Interlude)   \n",
       "460     Alfa Romeo AW30 (I Can Drive)   \n",
       "461                          For Real   \n",
       "462            Original Uzi (4 Of Us)   \n",
       "463       SideLine Watching (Hold Up)   \n",
       "464                     XO TOUR Llif3   \n",
       "465                           444+222   \n",
       "466                       Money Mitch   \n",
       "467                       Sauce It Up   \n",
       "468                              Two®   \n",
       "469                                 X   \n",
       "470                      Money Longer   \n",
       "471                 Erase Your Social   \n",
       "472                            Loaded   \n",
       "473                       Team Rocket   \n",
       "474                    Canadian Goose   \n",
       "475                  Scott and Ramona   \n",
       "476                       Pretty Mami   \n",
       "477                    Do What I Want   \n",
       "478                   Ronda (Winners)   \n",
       "479                   Feelings Mutual   \n",
       "\n",
       "                                                lyrics  \n",
       "320  [Chorus]\\nAnd wherever we go\\nAnd whatever we ...  \n",
       "321  Can someone please turn off my mind?\\nMy thoug...  \n",
       "322  [Chorus]\\nHello, hello, hello\\nHello, hello, h...  \n",
       "323  [Chorus]\\nFell in love through photograph\\nI d...  \n",
       "324  [Produced by J.Cole]\\n[Directed by Lawrence La...  \n",
       "325  [Verse]\\nMo Money, yeah\\nMo Money, Blow Money,...  \n",
       "326  [Intro]\\nThis is a public service announcement...  \n",
       "327  [Produced by Willie B]\\n\\n[Verse 1]\\nI grew up...  \n",
       "328  [Produced by J. Cole and Omen]\\n[Directed by S...  \n",
       "329  [Intro]\\nCatch me, don't you\\nCatch me, don't ...  \n",
       "330  [Intro]\\nYeah, uh-huh\\n\\n[Verse 1]\\nThis the s...  \n",
       "331  [Intro]\\nAyy\\nCole World\\nForreal\\n\\n[Verse 1]...  \n",
       "332  [Produced by J. Cole & Vinylz]\\n\\n[Hook]\\nNigg...  \n",
       "333  [Intro]\\nAyy, put a finger in the sky if you w...  \n",
       "334  [Intro]\\nLife can bring much pain\\nThere are m...  \n",
       "335  [Hook]\\nI wanna fold clothes for you\\nI wanna ...  \n",
       "336  [Kerney Thomas]\\nI'm just thankful\\n18 years o...  \n",
       "337  [Produced by J. Cole]\\n\\n[Verse 1]\\nRoll up an...  \n",
       "338  [Intro]\\nYou really wanna know who Superman is...  \n",
       "339  [Intro]\\nOkay, I lied\\nUh-huh\\n\\n[Verse 1]\\nMo...  \n",
       "460  [Intro]\\nI heard that's a lie\\nTook his bitch ...  \n",
       "461  [Intro]\\nDamn, DJ Plugg, you just killed it\\nB...  \n",
       "462  [Chorus]\\nNigga, I tucked the burner (yeah)\\nD...  \n",
       "463  [Intro]\\nZaytoven\\n\\n[Chorus]\\nHold up, hold u...  \n",
       "464  [Intro]\\nAre you alright?\\nI'm alright, I'm qu...  \n",
       "465  [Intro]\\nOkay I'm ready\\n\\n[Chorus]\\nBreathe i...  \n",
       "466  [Intro]\\nYeah, yeah, yeah, yeah\\nYeah, yeah, y...  \n",
       "467  [Intro]\\nSauce it up, ayy, sauce it up, ayy\\nS...  \n",
       "468  [Intro]\\nG.O.A.T. (yah)\\nThat's true! Yah!\\nUz...  \n",
       "469  [Intro]\\nAre you alright?\\nI'm alright, I'm qu...  \n",
       "470  [Chorus]\\nYah, it do not matter\\nTurned to a s...  \n",
       "471  [Producer tag]\\nCannon (cannon)\\n\\n[Pre-Chorus...  \n",
       "472  [Intro]\\nYou know my pockets loaded\\nYou know ...  \n",
       "473  [Hook]\\nLike when it come to hundreds that's m...  \n",
       "474  [Verse 1]\\nI woke up in the morning, brush my ...  \n",
       "475  [Produced by WondaGurl]\\n\\n[Intro]\\nYaaahhh, y...  \n",
       "476  [Intro]\\nCan't nobody touch my swag\\nCan't nob...  \n",
       "477  [Intro]\\nUm, I'm on some shit like\\nNow I do w...  \n",
       "478  [Hook]\\nGet knocked down, act like you never l...  \n",
       "479  [Intro]\\nAnd I...\\nWant you to know something ...  "
      ]
     },
     "execution_count": 61,
     "metadata": {},
     "output_type": "execute_result"
    }
   ],
   "source": [
    "artist_sample"
   ]
  },
  {
   "cell_type": "code",
   "execution_count": 67,
   "metadata": {
    "collapsed": true
   },
   "outputs": [],
   "source": [
    "# train, test = train_test_split(tracks_by_artist, test_size=0.3, random_state=42)\n",
    "train, test = train_test_split(artist_sample, test_size=0.3, random_state=40)"
   ]
  },
  {
   "cell_type": "code",
   "execution_count": 68,
   "metadata": {},
   "outputs": [
    {
     "data": {
      "text/plain": [
       "2"
      ]
     },
     "execution_count": 68,
     "metadata": {},
     "output_type": "execute_result"
    }
   ],
   "source": [
    "train.groupby(\"artist\").agg(\"count\")[\"track\"].size"
   ]
  },
  {
   "cell_type": "code",
   "execution_count": 69,
   "metadata": {},
   "outputs": [
    {
     "data": {
      "text/plain": [
       "2"
      ]
     },
     "execution_count": 69,
     "metadata": {},
     "output_type": "execute_result"
    }
   ],
   "source": [
    "test.groupby(\"artist\").agg(\"count\")[\"track\"].size"
   ]
  },
  {
   "cell_type": "code",
   "execution_count": 70,
   "metadata": {},
   "outputs": [
    {
     "data": {
      "text/plain": [
       "artist\n",
       "J. Cole         15\n",
       "Lil Uzi Vert    13\n",
       "Name: track, dtype: int64"
      ]
     },
     "execution_count": 70,
     "metadata": {},
     "output_type": "execute_result"
    }
   ],
   "source": [
    "train.groupby(\"artist\").agg(\"count\")[\"track\"]"
   ]
  },
  {
   "cell_type": "code",
   "execution_count": 71,
   "metadata": {},
   "outputs": [
    {
     "data": {
      "text/plain": [
       "artist\n",
       "J. Cole         5\n",
       "Lil Uzi Vert    7\n",
       "Name: track, dtype: int64"
      ]
     },
     "execution_count": 71,
     "metadata": {},
     "output_type": "execute_result"
    }
   ],
   "source": [
    "test.groupby(\"artist\").agg(\"count\")[\"track\"]"
   ]
  },
  {
   "cell_type": "code",
   "execution_count": 72,
   "metadata": {
    "collapsed": true
   },
   "outputs": [],
   "source": [
    "train_artists = train[\"artist\"].tolist()\n",
    "train_lyrics = train[\"lyrics\"].tolist()\n",
    "\n",
    "test_artists = test[\"artist\"].tolist()\n",
    "test_lyrics = test[\"lyrics\"].tolist()"
   ]
  },
  {
   "cell_type": "code",
   "execution_count": 73,
   "metadata": {
    "collapsed": true
   },
   "outputs": [],
   "source": [
    "# preprocess lyrics ...\n",
    "def preprocess(raw_lyrics):\n",
    "    # Some choices here are specific to the format of Genius lyrics, want to remove non-vocalised \n",
    "    # text in square brackets, and other text not part of the main song body such as adlibs in \n",
    "    # round brackets\n",
    "    raw_lyrics = re.sub(\"([\\(\\[].*?[\\)\\]])|([^\\w\\d'\\s]+)\", \"\", raw_lyrics)\n",
    "    raw_lyrics = re.sub(\"[\\n]+\", \" \", raw_lyrics)\n",
    "    raw_lyrics = raw_lyrics.strip()\n",
    "    raw_lyrics = raw_lyrics.lower()\n",
    "\n",
    "    return raw_lyrics"
   ]
  },
  {
   "cell_type": "code",
   "execution_count": 74,
   "metadata": {
    "collapsed": true
   },
   "outputs": [],
   "source": [
    "train_tagged = [TaggedDocument(words=word_tokenize(preprocess(train_lyrics[idx])), tags=[train_artists[idx]]) for idx, _ in enumerate(train_artists)]\n",
    "test_tagged = [TaggedDocument(words=word_tokenize(preprocess(test_lyrics[idx])), tags=[test_artists[idx]]) for idx, _ in enumerate(test_artists)]"
   ]
  },
  {
   "cell_type": "code",
   "execution_count": 75,
   "metadata": {
    "collapsed": true
   },
   "outputs": [],
   "source": [
    "import multiprocessing\n",
    "cores = multiprocessing.cpu_count()"
   ]
  },
  {
   "cell_type": "code",
   "execution_count": 76,
   "metadata": {
    "collapsed": true
   },
   "outputs": [],
   "source": [
    "model_dbow = Doc2Vec(dm=0, vector_size=300, negative=5, hs=0, min_count=2, sample = 0, workers=cores)\n",
    "model_dbow.build_vocab(train_tagged)"
   ]
  },
  {
   "cell_type": "code",
   "execution_count": 77,
   "metadata": {},
   "outputs": [
    {
     "data": {
      "text/plain": [
       "28"
      ]
     },
     "execution_count": 77,
     "metadata": {},
     "output_type": "execute_result"
    }
   ],
   "source": [
    "model_dbow.corpus_count"
   ]
  },
  {
   "cell_type": "code",
   "execution_count": 78,
   "metadata": {},
   "outputs": [
    {
     "name": "stdout",
     "output_type": "stream",
     "text": [
      "iteration 0\n",
      "iteration 1\n",
      "iteration 2\n",
      "iteration 3\n",
      "iteration 4\n",
      "iteration 5\n",
      "iteration 6\n",
      "iteration 7\n",
      "iteration 8\n",
      "iteration 9\n",
      "iteration 10\n",
      "iteration 11\n",
      "iteration 12\n",
      "iteration 13\n",
      "iteration 14\n",
      "iteration 15\n",
      "iteration 16\n",
      "iteration 17\n",
      "iteration 18\n",
      "iteration 19\n",
      "iteration 20\n",
      "iteration 21\n",
      "iteration 22\n",
      "iteration 23\n",
      "iteration 24\n",
      "iteration 25\n",
      "iteration 26\n",
      "iteration 27\n",
      "iteration 28\n",
      "iteration 29\n",
      "Model Saved\n"
     ]
    }
   ],
   "source": [
    "max_epochs = 30\n",
    "for epoch in range(max_epochs):\n",
    "    print('iteration {0}'.format(epoch))\n",
    "    model_dbow.train(utils.shuffle(train_tagged), total_examples=model_dbow.corpus_count, epochs=1)\n",
    "    model_dbow.alpha -= 0.002\n",
    "    model_dbow.min_alpha = model_dbow.alpha\n",
    "#     previouse example\n",
    "#     model_dbow.train(tagged_lyrics,\n",
    "#                 total_examples=model.corpus_count,\n",
    "#                 epochs=model.iter)\n",
    "#     # decrease the learning rate\n",
    "#     model.alpha -= 0.0002\n",
    "#     # fix the learning rate, no decay\n",
    "#     model.min_alpha = model.alpha\n",
    "\n",
    "model_dbow.save(\"dbow.model\")\n",
    "print(\"Model Saved\")"
   ]
  },
  {
   "cell_type": "code",
   "execution_count": 79,
   "metadata": {
    "collapsed": true
   },
   "outputs": [],
   "source": [
    "def vec_for_learning(model, tagged_docs):\n",
    "    targets, regressors = zip(*[(doc.tags[0], model.infer_vector(doc.words, steps=20)) for doc in tagged_docs])\n",
    "    return targets, regressors"
   ]
  },
  {
   "cell_type": "code",
   "execution_count": 80,
   "metadata": {
    "collapsed": true
   },
   "outputs": [],
   "source": [
    "y_train, X_train = vec_for_learning(model_dbow, train_tagged)\n",
    "y_test, X_test = vec_for_learning(model_dbow, test_tagged)"
   ]
  },
  {
   "cell_type": "code",
   "execution_count": 81,
   "metadata": {},
   "outputs": [
    {
     "name": "stdout",
     "output_type": "stream",
     "text": [
      "Testing accuracy 0.75\n",
      "Testing F1 score: 0.7517482517482517\n"
     ]
    }
   ],
   "source": [
    "logreg = LogisticRegression(n_jobs=1, C=1e5)\n",
    "logreg.fit(X_train, y_train)\n",
    "y_pred = logreg.predict(X_test)\n",
    "\n",
    "from sklearn.metrics import accuracy_score, f1_score\n",
    "\n",
    "print('Testing accuracy %s' % accuracy_score(y_test, y_pred))\n",
    "print('Testing F1 score: {}'.format(f1_score(y_test, y_pred, average='weighted')))"
   ]
  },
  {
   "cell_type": "code",
   "execution_count": 82,
   "metadata": {},
   "outputs": [
    {
     "name": "stdout",
     "output_type": "stream",
     "text": [
      "Testing accuracy 0.4166666666666667\n",
      "Testing F1 score: 0.2450980392156863\n"
     ]
    },
    {
     "name": "stderr",
     "output_type": "stream",
     "text": [
      "/Library/Frameworks/Python.framework/Versions/3.6/lib/python3.6/site-packages/sklearn/metrics/classification.py:1135: UndefinedMetricWarning: F-score is ill-defined and being set to 0.0 in labels with no predicted samples.\n",
      "  'precision', 'predicted', average, warn_for)\n"
     ]
    }
   ],
   "source": [
    "from sklearn import svm\n",
    "\n",
    "svc = svm.SVC(kernel=\"poly\")\n",
    "svc.fit(X_train, y_train)\n",
    "y_pred = svc.predict(X_test)\n",
    "\n",
    "print('Testing accuracy %s' % accuracy_score(y_test, y_pred))\n",
    "print('Testing F1 score: {}'.format(f1_score(y_test, y_pred, average='weighted')))"
   ]
  },
  {
   "cell_type": "code",
   "execution_count": 59,
   "metadata": {
    "collapsed": true
   },
   "outputs": [],
   "source": [
    "model_dmm = Doc2Vec(dm=1, dm_mean=1, vector_size=300, window=10, negative=5, min_count=1, workers=5, alpha=0.065, min_alpha=0.065)\n",
    "model_dmm.build_vocab(train_tagged)"
   ]
  },
  {
   "cell_type": "code",
   "execution_count": 60,
   "metadata": {
    "collapsed": true
   },
   "outputs": [],
   "source": [
    "for epoch in range(30):\n",
    "    model_dmm.train(utils.shuffle(train_tagged), total_examples=len(train_tagged), epochs=1)\n",
    "    model_dmm.alpha -= 0.002\n",
    "    model_dmm.min_alpha = model_dmm.alpha"
   ]
  },
  {
   "cell_type": "code",
   "execution_count": 61,
   "metadata": {},
   "outputs": [
    {
     "name": "stdout",
     "output_type": "stream",
     "text": [
      "Testing accuracy 0.11956521739130435\n",
      "Testing F1 score: 0.11944127014002791\n"
     ]
    },
    {
     "name": "stderr",
     "output_type": "stream",
     "text": [
      "/Library/Frameworks/Python.framework/Versions/3.6/lib/python3.6/site-packages/sklearn/metrics/classification.py:1135: UndefinedMetricWarning: F-score is ill-defined and being set to 0.0 in labels with no predicted samples.\n",
      "  'precision', 'predicted', average, warn_for)\n"
     ]
    }
   ],
   "source": [
    "y_train, X_train = vec_for_learning(model_dmm, train_tagged)\n",
    "y_test, X_test = vec_for_learning(model_dmm, test_tagged)\n",
    "\n",
    "logreg = LogisticRegression(n_jobs=1, C=1e5)\n",
    "logreg.fit(X_train, y_train)\n",
    "y_pred = logreg.predict(X_test)\n",
    "\n",
    "from sklearn.metrics import accuracy_score, f1_score\n",
    "\n",
    "print('Testing accuracy %s' % accuracy_score(y_test, y_pred))\n",
    "print('Testing F1 score: {}'.format(f1_score(y_test, y_pred, average='weighted')))"
   ]
  },
  {
   "cell_type": "code",
   "execution_count": 12,
   "metadata": {
    "collapsed": true
   },
   "outputs": [],
   "source": [
    "topn = len(set(artists))-1"
   ]
  },
  {
   "cell_type": "code",
   "execution_count": 13,
   "metadata": {},
   "outputs": [
    {
     "data": {
      "text/plain": [
       "[('Russ', 0.5853328108787537),\n",
       " ('Kevin Gates', 0.5152955055236816),\n",
       " ('YoungBoy Never Broke Again', 0.48948970437049866),\n",
       " ('Post Malone', 0.4561176002025604),\n",
       " ('BROCKHAMPTON', 0.4287121593952179),\n",
       " ('Lil Yachty', 0.35661354660987854),\n",
       " ('NF', 0.324750155210495),\n",
       " ('Future', 0.2802601456642151),\n",
       " ('Lil Uzi Vert', 0.2795082628726959),\n",
       " ('J. Cole', 0.2701497972011566),\n",
       " ('Wiz Khalifa', 0.2618672251701355),\n",
       " ('Moneybagg Yo', 0.24229663610458374),\n",
       " ('Migos', 0.23129615187644958),\n",
       " ('Kendrick Lamar', 0.19112615287303925),\n",
       " ('Kodak Black', 0.18138381838798523),\n",
       " ('Eminem', 0.09486167132854462),\n",
       " ('Gucci Mane', -0.01438937522470951)]"
      ]
     },
     "execution_count": 13,
     "metadata": {},
     "output_type": "execute_result"
    }
   ],
   "source": [
    "closest_drake = model.docvecs.most_similar(\"Drake\", topn=topn)\n",
    "closest_drake.sort(key=lambda x: x[1], reverse=True)\n",
    "closest_drake"
   ]
  },
  {
   "cell_type": "code",
   "execution_count": 14,
   "metadata": {},
   "outputs": [
    {
     "data": {
      "text/plain": [
       "[('Kendrick Lamar', 0.5769816637039185),\n",
       " ('Gucci Mane', 0.4730648994445801),\n",
       " ('Lil Yachty', 0.4245752990245819),\n",
       " ('BROCKHAMPTON', 0.39214181900024414),\n",
       " ('YoungBoy Never Broke Again', 0.38885417580604553),\n",
       " ('Eminem', 0.38101840019226074),\n",
       " ('Kevin Gates', 0.3272707462310791),\n",
       " ('Kodak Black', 0.272230863571167),\n",
       " ('Drake', 0.27014976739883423),\n",
       " ('NF', 0.26713502407073975),\n",
       " ('Wiz Khalifa', 0.18016491830348969),\n",
       " ('Migos', 0.15268343687057495),\n",
       " ('Moneybagg Yo', 0.13472585380077362),\n",
       " ('Lil Uzi Vert', 0.07694961130619049),\n",
       " ('Russ', 0.07243375480175018),\n",
       " ('Post Malone', 0.06938178092241287),\n",
       " ('Future', 0.045791659504175186)]"
      ]
     },
     "execution_count": 14,
     "metadata": {},
     "output_type": "execute_result"
    }
   ],
   "source": [
    "closest_j_cole = model.docvecs.most_similar(\"J. Cole\", topn=topn)\n",
    "closest_j_cole.sort(key=lambda x: x[1], reverse=True)\n",
    "closest_j_cole"
   ]
  },
  {
   "cell_type": "code",
   "execution_count": 15,
   "metadata": {},
   "outputs": [
    {
     "data": {
      "text/plain": [
       "[('BROCKHAMPTON', 0.5922399163246155),\n",
       " ('Eminem', 0.558570384979248),\n",
       " ('Russ', 0.5573232769966125),\n",
       " ('Drake', 0.3247501254081726),\n",
       " ('Kendrick Lamar', 0.3203350305557251),\n",
       " ('J. Cole', 0.26713502407073975),\n",
       " ('Migos', 0.20939365029335022),\n",
       " ('Wiz Khalifa', 0.18576228618621826),\n",
       " ('Post Malone', 0.18536292016506195),\n",
       " ('Gucci Mane', 0.1551463007926941),\n",
       " ('Kevin Gates', 0.12770546972751617),\n",
       " ('Moneybagg Yo', 0.11673309653997421),\n",
       " ('Lil Uzi Vert', 0.11299404501914978),\n",
       " ('Future', 0.07157484441995621),\n",
       " ('Lil Yachty', -0.009864097461104393),\n",
       " ('YoungBoy Never Broke Again', -0.02485552616417408),\n",
       " ('Kodak Black', -0.1735169142484665)]"
      ]
     },
     "execution_count": 15,
     "metadata": {},
     "output_type": "execute_result"
    }
   ],
   "source": [
    "closest_nf = model.docvecs.most_similar(\"NF\", topn=topn)\n",
    "closest_nf.sort(key=lambda x: x[1], reverse=True)\n",
    "closest_nf"
   ]
  },
  {
   "cell_type": "code",
   "execution_count": 16,
   "metadata": {},
   "outputs": [
    {
     "data": {
      "text/plain": [
       "[('Russ', 0.6033599972724915),\n",
       " ('NF', 0.5922399759292603),\n",
       " ('Post Malone', 0.44411501288414),\n",
       " ('Drake', 0.4287121295928955),\n",
       " ('Lil Uzi Vert', 0.3980545401573181),\n",
       " ('Kendrick Lamar', 0.3945070207118988),\n",
       " ('J. Cole', 0.39214178919792175),\n",
       " ('Gucci Mane', 0.3679358661174774),\n",
       " ('Eminem', 0.30388718843460083),\n",
       " ('Lil Yachty', 0.27308738231658936),\n",
       " ('Kodak Black', 0.1908894181251526),\n",
       " ('YoungBoy Never Broke Again', 0.07527803629636765),\n",
       " ('Kevin Gates', 0.017246827483177185),\n",
       " ('Wiz Khalifa', 0.01604609377682209),\n",
       " ('Future', 0.0073099881410598755),\n",
       " ('Migos', -0.006686776876449585),\n",
       " ('Moneybagg Yo', -0.02164846658706665)]"
      ]
     },
     "execution_count": 16,
     "metadata": {},
     "output_type": "execute_result"
    }
   ],
   "source": [
    "closest_brockhampton = model.docvecs.most_similar(\"BROCKHAMPTON\", topn=topn)\n",
    "closest_brockhampton.sort(key=lambda x: x[1], reverse=True)\n",
    "closest_brockhampton"
   ]
  },
  {
   "cell_type": "code",
   "execution_count": 110,
   "metadata": {},
   "outputs": [
    {
     "data": {
      "text/plain": [
       "[('Wiz Khalifa', 0.339235782623291),\n",
       " ('Post Malone', 0.2566002607345581),\n",
       " ('Gucci Mane', 0.14417427778244019),\n",
       " ('NF', 0.0957019180059433),\n",
       " ('Kendrick Lamar', 0.08413362503051758),\n",
       " ('Migos', 0.03958903253078461),\n",
       " ('J. Cole', 0.030617788434028625),\n",
       " ('Drake', 0.004214301705360413),\n",
       " ('BROCKHAMPTON', -0.013500861823558807),\n",
       " ('Kodak Black', -0.1294480860233307),\n",
       " ('Lil Uzi Vert', -0.14480730891227722),\n",
       " ('Eminem', -0.23411545157432556),\n",
       " ('YoungBoy Never Broke Again', -0.29086756706237793),\n",
       " ('Kevin Gates', -0.2930602431297302),\n",
       " ('Russ', -0.37881702184677124),\n",
       " ('Future', -0.37943166494369507),\n",
       " ('Moneybagg Yo', -0.5447709560394287)]"
      ]
     },
     "execution_count": 110,
     "metadata": {},
     "output_type": "execute_result"
    }
   ],
   "source": [
    "closest_lil_yachty = model.docvecs.most_similar(\"Lil Yachty\", topn=topn)\n",
    "closest_lil_yachty.sort(key=lambda x: x[1], reverse=True)\n",
    "closest_lil_yachty"
   ]
  },
  {
   "cell_type": "code",
   "execution_count": null,
   "metadata": {
    "collapsed": true
   },
   "outputs": [],
   "source": []
  }
 ],
 "metadata": {
  "kernelspec": {
   "display_name": "Python 3",
   "language": "python",
   "name": "python3"
  },
  "language_info": {
   "codemirror_mode": {
    "name": "ipython",
    "version": 3
   },
   "file_extension": ".py",
   "mimetype": "text/x-python",
   "name": "python",
   "nbconvert_exporter": "python",
   "pygments_lexer": "ipython3",
   "version": "3.6.4"
  }
 },
 "nbformat": 4,
 "nbformat_minor": 2
}
