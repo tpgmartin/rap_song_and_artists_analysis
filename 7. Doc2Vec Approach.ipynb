{
 "cells": [
  {
   "cell_type": "code",
   "execution_count": 56,
   "metadata": {
    "collapsed": true
   },
   "outputs": [],
   "source": [
    "from gensim.models.doc2vec import Doc2Vec, TaggedDocument\n",
    "import nltk\n",
    "from nltk.tokenize import word_tokenize\n",
    "import pandas as pd\n",
    "import re\n",
    "from sklearn.linear_model import LogisticRegression\n",
    "from sklearn.model_selection import train_test_split\n",
    "from sklearn import utils"
   ]
  },
  {
   "cell_type": "code",
   "execution_count": 2,
   "metadata": {},
   "outputs": [
    {
     "name": "stdout",
     "output_type": "stream",
     "text": [
      "[nltk_data] Downloading package punkt to /Users/tom/nltk_data...\n",
      "[nltk_data]   Package punkt is already up-to-date!\n"
     ]
    },
    {
     "data": {
      "text/plain": [
       "True"
      ]
     },
     "execution_count": 2,
     "metadata": {},
     "output_type": "execute_result"
    }
   ],
   "source": [
    "# Run nltk downloader\n",
    "nltk.download('punkt')"
   ]
  },
  {
   "cell_type": "code",
   "execution_count": 4,
   "metadata": {},
   "outputs": [],
   "source": [
    "tracks_by_artist = pd.read_csv(\"./data/tracks_with_lyrics_since_2013.csv\")"
   ]
  },
  {
   "cell_type": "code",
   "execution_count": 5,
   "metadata": {},
   "outputs": [
    {
     "data": {
      "text/html": [
       "<div>\n",
       "<style scoped>\n",
       "    .dataframe tbody tr th:only-of-type {\n",
       "        vertical-align: middle;\n",
       "    }\n",
       "\n",
       "    .dataframe tbody tr th {\n",
       "        vertical-align: top;\n",
       "    }\n",
       "\n",
       "    .dataframe thead th {\n",
       "        text-align: right;\n",
       "    }\n",
       "</style>\n",
       "<table border=\"1\" class=\"dataframe\">\n",
       "  <thead>\n",
       "    <tr style=\"text-align: right;\">\n",
       "      <th></th>\n",
       "      <th>artist</th>\n",
       "      <th>album</th>\n",
       "      <th>track</th>\n",
       "      <th>lyrics</th>\n",
       "    </tr>\n",
       "  </thead>\n",
       "  <tbody>\n",
       "    <tr>\n",
       "      <th>0</th>\n",
       "      <td>2 Chainz</td>\n",
       "      <td>ColleGrove</td>\n",
       "      <td>Not Invited</td>\n",
       "      <td>[Intro]\\nOf course I'ma stunt\\nOf course I'ma ...</td>\n",
       "    </tr>\n",
       "    <tr>\n",
       "      <th>1</th>\n",
       "      <td>2 Chainz</td>\n",
       "      <td>Based On A T.R.U. Story</td>\n",
       "      <td>Money Machine</td>\n",
       "      <td>[Intro]\\nI told them, get on my level\\nBitch, ...</td>\n",
       "    </tr>\n",
       "    <tr>\n",
       "      <th>2</th>\n",
       "      <td>2 Chainz</td>\n",
       "      <td>ColleGrove</td>\n",
       "      <td>MF'N Right</td>\n",
       "      <td>[Produced by Mike WiLL Made It &amp; Zaytoven]\\n\\n...</td>\n",
       "    </tr>\n",
       "    <tr>\n",
       "      <th>3</th>\n",
       "      <td>2 Chainz</td>\n",
       "      <td>ColleGrove</td>\n",
       "      <td>100 Joints</td>\n",
       "      <td>[Hook]\\nYeah uum\\nNo matter what they say I sm...</td>\n",
       "    </tr>\n",
       "    <tr>\n",
       "      <th>4</th>\n",
       "      <td>2 Chainz</td>\n",
       "      <td>Based On A T.R.U. Story</td>\n",
       "      <td>I'm Different</td>\n",
       "      <td>[Intro: YG]\\nMustard on the beat, ho!\\n\\n[Hook...</td>\n",
       "    </tr>\n",
       "  </tbody>\n",
       "</table>\n",
       "</div>"
      ],
      "text/plain": [
       "     artist                    album          track  \\\n",
       "0  2 Chainz               ColleGrove    Not Invited   \n",
       "1  2 Chainz  Based On A T.R.U. Story  Money Machine   \n",
       "2  2 Chainz               ColleGrove     MF'N Right   \n",
       "3  2 Chainz               ColleGrove     100 Joints   \n",
       "4  2 Chainz  Based On A T.R.U. Story  I'm Different   \n",
       "\n",
       "                                              lyrics  \n",
       "0  [Intro]\\nOf course I'ma stunt\\nOf course I'ma ...  \n",
       "1  [Intro]\\nI told them, get on my level\\nBitch, ...  \n",
       "2  [Produced by Mike WiLL Made It & Zaytoven]\\n\\n...  \n",
       "3  [Hook]\\nYeah uum\\nNo matter what they say I sm...  \n",
       "4  [Intro: YG]\\nMustard on the beat, ho!\\n\\n[Hook...  "
      ]
     },
     "execution_count": 5,
     "metadata": {},
     "output_type": "execute_result"
    }
   ],
   "source": [
    "tracks_by_artist.head()"
   ]
  },
  {
   "cell_type": "code",
   "execution_count": 28,
   "metadata": {},
   "outputs": [
    {
     "data": {
      "text/html": [
       "<div>\n",
       "<style scoped>\n",
       "    .dataframe tbody tr th:only-of-type {\n",
       "        vertical-align: middle;\n",
       "    }\n",
       "\n",
       "    .dataframe tbody tr th {\n",
       "        vertical-align: top;\n",
       "    }\n",
       "\n",
       "    .dataframe thead th {\n",
       "        text-align: right;\n",
       "    }\n",
       "</style>\n",
       "<table border=\"1\" class=\"dataframe\">\n",
       "  <thead>\n",
       "    <tr style=\"text-align: right;\">\n",
       "      <th></th>\n",
       "      <th>artist</th>\n",
       "      <th>album</th>\n",
       "      <th>track</th>\n",
       "      <th>lyrics</th>\n",
       "    </tr>\n",
       "  </thead>\n",
       "  <tbody>\n",
       "    <tr>\n",
       "      <th>1049</th>\n",
       "      <td>Z-Ro</td>\n",
       "      <td>Drankin &amp; Drivin</td>\n",
       "      <td>Devil Ass City</td>\n",
       "      <td>[Hook]\\nI only fear god in this devil ass city...</td>\n",
       "    </tr>\n",
       "    <tr>\n",
       "      <th>1051</th>\n",
       "      <td>Z-Ro</td>\n",
       "      <td>Legendary</td>\n",
       "      <td>Dome, Kush, and Codeine</td>\n",
       "      <td>[Hook]\\nDome, kush, and codeine\\nYou know that...</td>\n",
       "    </tr>\n",
       "    <tr>\n",
       "      <th>1053</th>\n",
       "      <td>Z-Ro</td>\n",
       "      <td>Drankin &amp; Drivin</td>\n",
       "      <td>New Shit</td>\n",
       "      <td>[Hook]\\nIf you don't like my new shit you can ...</td>\n",
       "    </tr>\n",
       "    <tr>\n",
       "      <th>1056</th>\n",
       "      <td>Z-Ro</td>\n",
       "      <td>Legendary</td>\n",
       "      <td>Out His Mind</td>\n",
       "      <td>[Chorus: Z-Ro]\\nZ-ro must be out his mind\\nThi...</td>\n",
       "    </tr>\n",
       "    <tr>\n",
       "      <th>1058</th>\n",
       "      <td>Z-Ro</td>\n",
       "      <td>Drankin &amp; Drivin</td>\n",
       "      <td>Hate Me So Much</td>\n",
       "      <td>[Verse 1]\\nY'all can keep on talking, dropping...</td>\n",
       "    </tr>\n",
       "  </tbody>\n",
       "</table>\n",
       "</div>"
      ],
      "text/plain": [
       "     artist             album                    track  \\\n",
       "1049   Z-Ro  Drankin & Drivin           Devil Ass City   \n",
       "1051   Z-Ro         Legendary  Dome, Kush, and Codeine   \n",
       "1053   Z-Ro  Drankin & Drivin                 New Shit   \n",
       "1056   Z-Ro         Legendary             Out His Mind   \n",
       "1058   Z-Ro  Drankin & Drivin          Hate Me So Much   \n",
       "\n",
       "                                                 lyrics  \n",
       "1049  [Hook]\\nI only fear god in this devil ass city...  \n",
       "1051  [Hook]\\nDome, kush, and codeine\\nYou know that...  \n",
       "1053  [Hook]\\nIf you don't like my new shit you can ...  \n",
       "1056  [Chorus: Z-Ro]\\nZ-ro must be out his mind\\nThi...  \n",
       "1058  [Verse 1]\\nY'all can keep on talking, dropping...  "
      ]
     },
     "execution_count": 28,
     "metadata": {},
     "output_type": "execute_result"
    }
   ],
   "source": [
    "tracks_by_artist = tracks_by_artist[~tracks_by_artist[\"lyrics\"].isnull()]\n",
    "tracks_by_artist.tail()"
   ]
  },
  {
   "cell_type": "code",
   "execution_count": 58,
   "metadata": {},
   "outputs": [
    {
     "data": {
      "text/plain": [
       "51"
      ]
     },
     "execution_count": 58,
     "metadata": {},
     "output_type": "execute_result"
    }
   ],
   "source": [
    "tracks_by_artist[\"artist\"].unique().size"
   ]
  },
  {
   "cell_type": "code",
   "execution_count": 29,
   "metadata": {},
   "outputs": [
    {
     "data": {
      "text/plain": [
       "artist\n",
       "2 Chainz                      20\n",
       "A$AP Rocky                    20\n",
       "Atmosphere                    17\n",
       "Big Sean                      19\n",
       "Cardi B                       17\n",
       "Chief Keef                    18\n",
       "Danny Brown                   17\n",
       "Drake                         20\n",
       "Eminem                        20\n",
       "Future                        20\n",
       "G-Eazy                        18\n",
       "Gucci Mane                    17\n",
       "Hopsin                        18\n",
       "Isaiah Rashad                 18\n",
       "J. Cole                       20\n",
       "Jeezy                         16\n",
       "Kendrick Lamar                19\n",
       "Kevin Gates                   18\n",
       "Kid Cudi                      20\n",
       "Kodak Black                   20\n",
       "Lecrae                        14\n",
       "Lil Uzi Vert                  20\n",
       "Lil Wayne                     20\n",
       "Lil Yachty                    17\n",
       "Logic                         19\n",
       "Mac Miller                    19\n",
       "Machine Gun Kelly             16\n",
       "Migos                         20\n",
       "Mike Stud                     17\n",
       "Moneybagg Yo                  15\n",
       "NF                            15\n",
       "Nicki Minaj                   20\n",
       "Pink Guy                      20\n",
       "Post Malone                   20\n",
       "Rick Ross                     20\n",
       "Rittz                         17\n",
       "Russ                          17\n",
       "Starbomb                      18\n",
       "Swollen Members               17\n",
       "Tech N9ne                     17\n",
       "The Game                      18\n",
       "The Lacs                      16\n",
       "Tory Lanez                    19\n",
       "Upchurch                      16\n",
       "Wale                          19\n",
       "Wiz Khalifa                   16\n",
       "YG                            19\n",
       "Yo Gotti                      16\n",
       "Young Thug                    19\n",
       "YoungBoy Never Broke Again    20\n",
       "Z-Ro                          12\n",
       "Name: lyrics, dtype: int64"
      ]
     },
     "execution_count": 29,
     "metadata": {},
     "output_type": "execute_result"
    }
   ],
   "source": [
    "tracks_by_artist.groupby(\"artist\").agg(\"count\")[\"lyrics\"]"
   ]
  },
  {
   "cell_type": "code",
   "execution_count": 30,
   "metadata": {},
   "outputs": [],
   "source": [
    "train, test = train_test_split(tracks_by_artist, test_size=0.3, random_state=42)"
   ]
  },
  {
   "cell_type": "code",
   "execution_count": 33,
   "metadata": {},
   "outputs": [
    {
     "data": {
      "text/plain": [
       "51"
      ]
     },
     "execution_count": 33,
     "metadata": {},
     "output_type": "execute_result"
    }
   ],
   "source": [
    "train.groupby(\"artist\").agg(\"count\")[\"track\"].size"
   ]
  },
  {
   "cell_type": "code",
   "execution_count": 35,
   "metadata": {},
   "outputs": [
    {
     "data": {
      "text/plain": [
       "51"
      ]
     },
     "execution_count": 35,
     "metadata": {},
     "output_type": "execute_result"
    }
   ],
   "source": [
    "test.groupby(\"artist\").agg(\"count\")[\"track\"].size"
   ]
  },
  {
   "cell_type": "code",
   "execution_count": 31,
   "metadata": {},
   "outputs": [
    {
     "data": {
      "text/plain": [
       "artist\n",
       "2 Chainz                      16\n",
       "A$AP Rocky                    13\n",
       "Atmosphere                    13\n",
       "Big Sean                      11\n",
       "Cardi B                        9\n",
       "Chief Keef                    12\n",
       "Danny Brown                   15\n",
       "Drake                         15\n",
       "Eminem                        16\n",
       "Future                        18\n",
       "G-Eazy                        13\n",
       "Gucci Mane                     9\n",
       "Hopsin                        14\n",
       "Isaiah Rashad                 14\n",
       "J. Cole                       14\n",
       "Jeezy                         10\n",
       "Kendrick Lamar                 9\n",
       "Kevin Gates                   10\n",
       "Kid Cudi                      12\n",
       "Kodak Black                   10\n",
       "Lecrae                        10\n",
       "Lil Uzi Vert                  15\n",
       "Lil Wayne                     11\n",
       "Lil Yachty                    12\n",
       "Logic                         12\n",
       "Mac Miller                    15\n",
       "Machine Gun Kelly             13\n",
       "Migos                         17\n",
       "Mike Stud                     11\n",
       "Moneybagg Yo                   8\n",
       "NF                            11\n",
       "Nicki Minaj                   16\n",
       "Pink Guy                      12\n",
       "Post Malone                   15\n",
       "Rick Ross                     16\n",
       "Rittz                         14\n",
       "Russ                          10\n",
       "Starbomb                      13\n",
       "Swollen Members               13\n",
       "Tech N9ne                     15\n",
       "The Game                      12\n",
       "The Lacs                       7\n",
       "Tory Lanez                    17\n",
       "Upchurch                       9\n",
       "Wale                          13\n",
       "Wiz Khalifa                   11\n",
       "YG                            16\n",
       "Yo Gotti                      11\n",
       "Young Thug                    12\n",
       "YoungBoy Never Broke Again    16\n",
       "Z-Ro                           8\n",
       "Name: track, dtype: int64"
      ]
     },
     "execution_count": 31,
     "metadata": {},
     "output_type": "execute_result"
    }
   ],
   "source": [
    "train.groupby(\"artist\").agg(\"count\")[\"track\"]"
   ]
  },
  {
   "cell_type": "code",
   "execution_count": 32,
   "metadata": {},
   "outputs": [
    {
     "data": {
      "text/plain": [
       "artist\n",
       "2 Chainz                       4\n",
       "A$AP Rocky                     7\n",
       "Atmosphere                     4\n",
       "Big Sean                       8\n",
       "Cardi B                        8\n",
       "Chief Keef                     6\n",
       "Danny Brown                    2\n",
       "Drake                          5\n",
       "Eminem                         4\n",
       "Future                         2\n",
       "G-Eazy                         5\n",
       "Gucci Mane                     8\n",
       "Hopsin                         4\n",
       "Isaiah Rashad                  4\n",
       "J. Cole                        6\n",
       "Jeezy                          6\n",
       "Kendrick Lamar                10\n",
       "Kevin Gates                    8\n",
       "Kid Cudi                       8\n",
       "Kodak Black                   10\n",
       "Lecrae                         4\n",
       "Lil Uzi Vert                   5\n",
       "Lil Wayne                      9\n",
       "Lil Yachty                     5\n",
       "Logic                          7\n",
       "Mac Miller                     4\n",
       "Machine Gun Kelly              3\n",
       "Migos                          3\n",
       "Mike Stud                      6\n",
       "Moneybagg Yo                   7\n",
       "NF                             4\n",
       "Nicki Minaj                    4\n",
       "Pink Guy                       8\n",
       "Post Malone                    5\n",
       "Rick Ross                      4\n",
       "Rittz                          3\n",
       "Russ                           7\n",
       "Starbomb                       5\n",
       "Swollen Members                4\n",
       "Tech N9ne                      2\n",
       "The Game                       6\n",
       "The Lacs                       9\n",
       "Tory Lanez                     2\n",
       "Upchurch                       7\n",
       "Wale                           6\n",
       "Wiz Khalifa                    5\n",
       "YG                             3\n",
       "Yo Gotti                       5\n",
       "Young Thug                     7\n",
       "YoungBoy Never Broke Again     4\n",
       "Z-Ro                           4\n",
       "Name: track, dtype: int64"
      ]
     },
     "execution_count": 32,
     "metadata": {},
     "output_type": "execute_result"
    }
   ],
   "source": [
    "test.groupby(\"artist\").agg(\"count\")[\"track\"]"
   ]
  },
  {
   "cell_type": "code",
   "execution_count": 36,
   "metadata": {
    "collapsed": true
   },
   "outputs": [],
   "source": [
    "train_artists = train[\"artist\"].tolist()\n",
    "train_lyrics = train[\"lyrics\"].tolist()\n",
    "\n",
    "test_artists = test[\"artist\"].tolist()\n",
    "test_lyrics = test[\"lyrics\"].tolist()"
   ]
  },
  {
   "cell_type": "code",
   "execution_count": 37,
   "metadata": {
    "collapsed": true
   },
   "outputs": [],
   "source": [
    "# preprocess lyrics ...\n",
    "def preprocess(raw_lyrics):\n",
    "    # Some choices here are specific to the format of Genius lyrics, want to remove non-vocalised \n",
    "    # text in square brackets, and other text not part of the main song body such as adlibs in \n",
    "    # round brackets\n",
    "    raw_lyrics = re.sub(\"([\\(\\[].*?[\\)\\]])|([^\\w\\d'\\s]+)\", \"\", raw_lyrics)\n",
    "    raw_lyrics = re.sub(\"[\\n]+\", \" \", raw_lyrics)\n",
    "    raw_lyrics = raw_lyrics.strip()\n",
    "    raw_lyrics = raw_lyrics.lower()\n",
    "\n",
    "    return raw_lyrics"
   ]
  },
  {
   "cell_type": "code",
   "execution_count": 38,
   "metadata": {},
   "outputs": [],
   "source": [
    "train_tagged = [TaggedDocument(words=word_tokenize(preprocess(train_lyrics[idx])), tags=[train_artists[idx]]) for idx, _ in enumerate(train_artists)]\n",
    "test_tagged = [TaggedDocument(words=word_tokenize(preprocess(test_lyrics[idx])), tags=[test_artists[idx]]) for idx, _ in enumerate(test_artists)]"
   ]
  },
  {
   "cell_type": "code",
   "execution_count": 39,
   "metadata": {},
   "outputs": [
    {
     "data": {
      "text/plain": [
       "TaggedDocument(words=['ayo', 'im', 'goin', \"'\", 'places', 'dior', 'homme', 'lacin', \"'\", 'all', 'occasions', 'and', 'lord', 'gave', 'me', 'amazing', 'thinking', 'and', 'short', 'patience', 'lay', 'solo', 'forever', 'flashy', 'though', 'i', 'hate', 'photos', 'date', 'four', 'hoes', 'make', 'her', 'smile', 'and', 'make', 'her', 'moan', 'though', 'lady', 'charmer', 'put', 'armor', 'by', 'your', 'baby', 'mama', 'i', 'hate', 'to', 'say', 'it', 'a', 'later', 'moment', 'i', 'didnt', 'warn', 'ya', 'high', 'roller', 'big', 'spender', 'and', 'my', 'intentions', 'to', 'keep', 'her', 'on', 'the', 'sack', 'you', 'just', 'saks', 'fifth', 'her', 'im', 'that', 'different', 'this', 'cat', 'can', 'react', 'mad', 'pimpish', 'i', 'gathered', 'a', 'couple', 'hundred', 'thousand', 'i', 'cant', 'remember', 'they', 'keep', 'talkin', \"'\", 'and', 'we', 'keep', 'winning', 'why', 'niggas', 'never', 'say', 'capisce', 'until', 'police', 'chalk', 'em', 'because', 'of', 'my', 'bitch', 'that', \"'s\", 'talkin', \"'\", 'givin', \"'\", 'her', 'head', 'the', 'streets', 'will', 'follow', 'i', 'come', 'from', 'a', 'place', 'where', 'niggas', 'my', 'age', 'ai', \"n't\", 'placed', 'to', 'see', 'tomorrow', 'to', 'each', 'his', 'own', 'but', 'each', 'of', 'them', 'is', 'known', 'to', 'steal', 'or', 'rob', 'you', 'but', 'jails', 'are', 'overpopulated', 'but', 'know', 'there', \"'s\", 'seats', 'in', 'college', 'and', 'those', 'are', 'the', 'least', 'of', 'problems', 'i', 'speak', 'to', 'god', 'he', 'says', 'i', \"'m\", 'alright', 'my', 'vision', 'funny', 'though', '2020', \"'s\", 'my', 'hindsight', 'bad', 'bitches', 'with', 'me', 'real', 'niggas', 'with', 'me', 'whole', 'ghetto', 'with', 'me', 'mixin', 'ketel', 'with', 'the', 'simply', 'like', 'the', 'sweet', 'anguish', 'find', 'your', 'peace', 'baby', 'i', 'know', 'the', 'millions', 'you', 'get', 'come', 'with', 'a', 'billion', 'haters', 'yea', 'forgive', 'me', 'im', 'a', 'rider', 'sure', 'im', 'just', 'a', 'simple', 'man', 'all', 'i', 'want', 'is', 'money', 'fuck', 'the', 'fame', 'im', 'a', 'simple', 'man', 'lawd', 'you', 'know', 'that', 'im', 'a', 'rider', 'tell', \"'em\", 'just', 'a', 'simple', 'man', 'all', 'i', 'want', 'is', 'money', 'fuck', 'the', 'fame', 'im', 'a', 'simple', 'man', 'lawd', 'im', 'pickin', \"'\", 'apart', 'my', 'wicked', 'opponents', 'get', 'in', 'my', 'zone', 'niggas', 'ca', \"n't\", 'join', 'us', 'so', 'these', 'niggas', 'done', 'cloned', 'us', 'look', 'at', 'me', 'close', 'see', 'the', 'results', 'you', 'see', 'a', 'nigga', 'a', 'loner', 'cause', 'all', 'of', 'the', 'bitches', 'that', \"'s\", 'giving', 'me', 'grief', 'also', 'be', 'given', 'me', 'boners', 'blow', 'up', 'in', 'rap', 'young', 'and', 'you', 'black', 'niggas', 'be', 'blowin', \"'\", 'your', 'phone', 'up', 'whenever', 'you', 'dont', 'lose', 'you', 'a', 'homie', 'ho', 'adult', 'from', 'show', 'cuz', 'if', 'you', 'get', 'that', 'then', 'roll', 'up', 'if', 'you', 'get', 'that', 'thats', 'no', 'love', 'every', 'move', 'you', 'make', 'they', 'got', 'lip', 'every', 'chick', 'you', 'like', 'done', 'got', 'kids', 'and', 'forget', 'that', 'chick', 'had', 'brought', 'friends', 'every', 'jay', 'you', 'hit', 'you', 'need', 'vent', 'every', 'friend', 'you', 'got', 'got', 'mo', \"'s\", 'im', 'in', 'a', 'game', 'even', 'with', 'a', 'deep', 'bench', \"i'mma\", 'ball', 'like', 'small', 'fro', 'kobe', 'without', 'the', '8', 'but', 'all', 'the', 'hate', 'though', 'pockets', 'thicker', 'all', 'my', 'niggas', 'ai', \"n't\", 'the', 'same', 'though', 'i', 'just', 'came', 'up', 'fuck', 'is', 'you', 'sayin', \"'\", 'though', 'gave', 'the', 'business', 'my', 'heart', 'it', 'just', 'gave', 'me', 'the', 'finger', 'nigga', 'yeah', 'forgive', 'me', 'im', 'a', 'rider', 'sure', 'im', 'just', 'a', 'simple', 'man', 'all', 'i', 'want', 'is', 'money', 'fuck', 'the', 'fame', 'im', 'a', 'simple', 'man', 'lawd', 'you', 'know', 'that', 'im', 'a', 'rider', 'tell', \"'em\", 'just', 'a', 'simple', 'man', 'all', 'i', 'want', 'is', 'money', 'fuck', 'the', 'fame', 'im', 'a', 'simple', 'man', 'lawd'], tags=['Wale'])"
      ]
     },
     "execution_count": 39,
     "metadata": {},
     "output_type": "execute_result"
    }
   ],
   "source": [
    "train_tagged[100]"
   ]
  },
  {
   "cell_type": "code",
   "execution_count": 40,
   "metadata": {
    "collapsed": true
   },
   "outputs": [],
   "source": [
    "import multiprocessing\n",
    "cores = multiprocessing.cpu_count()"
   ]
  },
  {
   "cell_type": "code",
   "execution_count": 42,
   "metadata": {},
   "outputs": [
    {
     "ename": "AttributeError",
     "evalue": "'list' object has no attribute 'values'",
     "output_type": "error",
     "traceback": [
      "\u001b[0;31m---------------------------------------------------------------------------\u001b[0m",
      "\u001b[0;31mAttributeError\u001b[0m                            Traceback (most recent call last)",
      "\u001b[0;32m<ipython-input-42-99f2d353e3a4>\u001b[0m in \u001b[0;36m<module>\u001b[0;34m()\u001b[0m\n\u001b[0;32m----> 1\u001b[0;31m \u001b[0mtrain_tagged\u001b[0m\u001b[0;34m.\u001b[0m\u001b[0mvalues\u001b[0m\u001b[0;34m\u001b[0m\u001b[0m\n\u001b[0m",
      "\u001b[0;31mAttributeError\u001b[0m: 'list' object has no attribute 'values'"
     ]
    }
   ],
   "source": [
    "train_tagged.values"
   ]
  },
  {
   "cell_type": "code",
   "execution_count": 43,
   "metadata": {
    "collapsed": true
   },
   "outputs": [],
   "source": [
    "model_dbow = Doc2Vec(dm=0, vector_size=300, negative=5, hs=0, min_count=2, sample = 0, workers=cores)\n",
    "model_dbow.build_vocab(train_tagged)"
   ]
  },
  {
   "cell_type": "code",
   "execution_count": 46,
   "metadata": {},
   "outputs": [
    {
     "data": {
      "text/plain": [
       "644"
      ]
     },
     "execution_count": 46,
     "metadata": {},
     "output_type": "execute_result"
    }
   ],
   "source": [
    "model_dbow.corpus_count"
   ]
  },
  {
   "cell_type": "code",
   "execution_count": 48,
   "metadata": {},
   "outputs": [
    {
     "name": "stdout",
     "output_type": "stream",
     "text": [
      "iteration 0\n",
      "iteration 1\n",
      "iteration 2\n",
      "iteration 3\n",
      "iteration 4\n",
      "iteration 5\n",
      "iteration 6\n",
      "iteration 7\n",
      "iteration 8\n",
      "iteration 9\n",
      "iteration 10\n",
      "iteration 11\n",
      "iteration 12\n",
      "iteration 13\n",
      "iteration 14\n",
      "iteration 15\n",
      "iteration 16\n",
      "iteration 17\n",
      "iteration 18\n",
      "iteration 19\n",
      "iteration 20\n",
      "iteration 21\n",
      "iteration 22\n",
      "iteration 23\n",
      "iteration 24\n",
      "iteration 25\n",
      "iteration 26\n",
      "iteration 27\n",
      "iteration 28\n",
      "iteration 29\n",
      "Model Saved\n"
     ]
    }
   ],
   "source": [
    "max_epochs = 30\n",
    "for epoch in range(max_epochs):\n",
    "    print('iteration {0}'.format(epoch))\n",
    "    model_dbow.train(utils.shuffle(train_tagged), total_examples=model_dbow.corpus_count, epochs=1)\n",
    "    model_dbow.alpha -= 0.002\n",
    "    model_dbow.min_alpha = model_dbow.alpha\n",
    "#     previouse example\n",
    "#     model_dbow.train(tagged_lyrics,\n",
    "#                 total_examples=model.corpus_count,\n",
    "#                 epochs=model.iter)\n",
    "#     # decrease the learning rate\n",
    "#     model.alpha -= 0.0002\n",
    "#     # fix the learning rate, no decay\n",
    "#     model.min_alpha = model.alpha\n",
    "\n",
    "model_dbow.save(\"dbow.model\")\n",
    "print(\"Model Saved\")"
   ]
  },
  {
   "cell_type": "code",
   "execution_count": 55,
   "metadata": {},
   "outputs": [],
   "source": [
    "def vec_for_learning(model, tagged_docs):\n",
    "    targets, regressors = zip(*[(doc.tags[0], model.infer_vector(doc.words, steps=20)) for doc in tagged_docs])\n",
    "    return targets, regressors"
   ]
  },
  {
   "cell_type": "code",
   "execution_count": 57,
   "metadata": {},
   "outputs": [
    {
     "name": "stdout",
     "output_type": "stream",
     "text": [
      "Testing accuracy 0.2536231884057971\n",
      "Testing F1 score: 0.24520852182297198\n"
     ]
    },
    {
     "name": "stderr",
     "output_type": "stream",
     "text": [
      "/Library/Frameworks/Python.framework/Versions/3.6/lib/python3.6/site-packages/sklearn/metrics/classification.py:1135: UndefinedMetricWarning: F-score is ill-defined and being set to 0.0 in labels with no predicted samples.\n",
      "  'precision', 'predicted', average, warn_for)\n"
     ]
    }
   ],
   "source": [
    "y_train, X_train = vec_for_learning(model_dbow, train_tagged)\n",
    "y_test, X_test = vec_for_learning(model_dbow, test_tagged)\n",
    "\n",
    "logreg = LogisticRegression(n_jobs=1, C=1e5)\n",
    "logreg.fit(X_train, y_train)\n",
    "y_pred = logreg.predict(X_test)\n",
    "\n",
    "from sklearn.metrics import accuracy_score, f1_score\n",
    "\n",
    "print('Testing accuracy %s' % accuracy_score(y_test, y_pred))\n",
    "print('Testing F1 score: {}'.format(f1_score(y_test, y_pred, average='weighted')))"
   ]
  },
  {
   "cell_type": "code",
   "execution_count": 59,
   "metadata": {
    "collapsed": true
   },
   "outputs": [],
   "source": [
    "model_dmm = Doc2Vec(dm=1, dm_mean=1, vector_size=300, window=10, negative=5, min_count=1, workers=5, alpha=0.065, min_alpha=0.065)\n",
    "model_dmm.build_vocab(train_tagged)"
   ]
  },
  {
   "cell_type": "code",
   "execution_count": 60,
   "metadata": {
    "collapsed": true
   },
   "outputs": [],
   "source": [
    "for epoch in range(30):\n",
    "    model_dmm.train(utils.shuffle(train_tagged), total_examples=len(train_tagged), epochs=1)\n",
    "    model_dmm.alpha -= 0.002\n",
    "    model_dmm.min_alpha = model_dmm.alpha"
   ]
  },
  {
   "cell_type": "code",
   "execution_count": 61,
   "metadata": {},
   "outputs": [
    {
     "name": "stdout",
     "output_type": "stream",
     "text": [
      "Testing accuracy 0.11956521739130435\n",
      "Testing F1 score: 0.11944127014002791\n"
     ]
    },
    {
     "name": "stderr",
     "output_type": "stream",
     "text": [
      "/Library/Frameworks/Python.framework/Versions/3.6/lib/python3.6/site-packages/sklearn/metrics/classification.py:1135: UndefinedMetricWarning: F-score is ill-defined and being set to 0.0 in labels with no predicted samples.\n",
      "  'precision', 'predicted', average, warn_for)\n"
     ]
    }
   ],
   "source": [
    "y_train, X_train = vec_for_learning(model_dmm, train_tagged)\n",
    "y_test, X_test = vec_for_learning(model_dmm, test_tagged)\n",
    "\n",
    "logreg = LogisticRegression(n_jobs=1, C=1e5)\n",
    "logreg.fit(X_train, y_train)\n",
    "y_pred = logreg.predict(X_test)\n",
    "\n",
    "from sklearn.metrics import accuracy_score, f1_score\n",
    "\n",
    "print('Testing accuracy %s' % accuracy_score(y_test, y_pred))\n",
    "print('Testing F1 score: {}'.format(f1_score(y_test, y_pred, average='weighted')))"
   ]
  },
  {
   "cell_type": "code",
   "execution_count": 12,
   "metadata": {
    "collapsed": true
   },
   "outputs": [],
   "source": [
    "topn = len(set(artists))-1"
   ]
  },
  {
   "cell_type": "code",
   "execution_count": 13,
   "metadata": {},
   "outputs": [
    {
     "data": {
      "text/plain": [
       "[('Russ', 0.5853328108787537),\n",
       " ('Kevin Gates', 0.5152955055236816),\n",
       " ('YoungBoy Never Broke Again', 0.48948970437049866),\n",
       " ('Post Malone', 0.4561176002025604),\n",
       " ('BROCKHAMPTON', 0.4287121593952179),\n",
       " ('Lil Yachty', 0.35661354660987854),\n",
       " ('NF', 0.324750155210495),\n",
       " ('Future', 0.2802601456642151),\n",
       " ('Lil Uzi Vert', 0.2795082628726959),\n",
       " ('J. Cole', 0.2701497972011566),\n",
       " ('Wiz Khalifa', 0.2618672251701355),\n",
       " ('Moneybagg Yo', 0.24229663610458374),\n",
       " ('Migos', 0.23129615187644958),\n",
       " ('Kendrick Lamar', 0.19112615287303925),\n",
       " ('Kodak Black', 0.18138381838798523),\n",
       " ('Eminem', 0.09486167132854462),\n",
       " ('Gucci Mane', -0.01438937522470951)]"
      ]
     },
     "execution_count": 13,
     "metadata": {},
     "output_type": "execute_result"
    }
   ],
   "source": [
    "closest_drake = model.docvecs.most_similar(\"Drake\", topn=topn)\n",
    "closest_drake.sort(key=lambda x: x[1], reverse=True)\n",
    "closest_drake"
   ]
  },
  {
   "cell_type": "code",
   "execution_count": 14,
   "metadata": {},
   "outputs": [
    {
     "data": {
      "text/plain": [
       "[('Kendrick Lamar', 0.5769816637039185),\n",
       " ('Gucci Mane', 0.4730648994445801),\n",
       " ('Lil Yachty', 0.4245752990245819),\n",
       " ('BROCKHAMPTON', 0.39214181900024414),\n",
       " ('YoungBoy Never Broke Again', 0.38885417580604553),\n",
       " ('Eminem', 0.38101840019226074),\n",
       " ('Kevin Gates', 0.3272707462310791),\n",
       " ('Kodak Black', 0.272230863571167),\n",
       " ('Drake', 0.27014976739883423),\n",
       " ('NF', 0.26713502407073975),\n",
       " ('Wiz Khalifa', 0.18016491830348969),\n",
       " ('Migos', 0.15268343687057495),\n",
       " ('Moneybagg Yo', 0.13472585380077362),\n",
       " ('Lil Uzi Vert', 0.07694961130619049),\n",
       " ('Russ', 0.07243375480175018),\n",
       " ('Post Malone', 0.06938178092241287),\n",
       " ('Future', 0.045791659504175186)]"
      ]
     },
     "execution_count": 14,
     "metadata": {},
     "output_type": "execute_result"
    }
   ],
   "source": [
    "closest_j_cole = model.docvecs.most_similar(\"J. Cole\", topn=topn)\n",
    "closest_j_cole.sort(key=lambda x: x[1], reverse=True)\n",
    "closest_j_cole"
   ]
  },
  {
   "cell_type": "code",
   "execution_count": 15,
   "metadata": {},
   "outputs": [
    {
     "data": {
      "text/plain": [
       "[('BROCKHAMPTON', 0.5922399163246155),\n",
       " ('Eminem', 0.558570384979248),\n",
       " ('Russ', 0.5573232769966125),\n",
       " ('Drake', 0.3247501254081726),\n",
       " ('Kendrick Lamar', 0.3203350305557251),\n",
       " ('J. Cole', 0.26713502407073975),\n",
       " ('Migos', 0.20939365029335022),\n",
       " ('Wiz Khalifa', 0.18576228618621826),\n",
       " ('Post Malone', 0.18536292016506195),\n",
       " ('Gucci Mane', 0.1551463007926941),\n",
       " ('Kevin Gates', 0.12770546972751617),\n",
       " ('Moneybagg Yo', 0.11673309653997421),\n",
       " ('Lil Uzi Vert', 0.11299404501914978),\n",
       " ('Future', 0.07157484441995621),\n",
       " ('Lil Yachty', -0.009864097461104393),\n",
       " ('YoungBoy Never Broke Again', -0.02485552616417408),\n",
       " ('Kodak Black', -0.1735169142484665)]"
      ]
     },
     "execution_count": 15,
     "metadata": {},
     "output_type": "execute_result"
    }
   ],
   "source": [
    "closest_nf = model.docvecs.most_similar(\"NF\", topn=topn)\n",
    "closest_nf.sort(key=lambda x: x[1], reverse=True)\n",
    "closest_nf"
   ]
  },
  {
   "cell_type": "code",
   "execution_count": 16,
   "metadata": {},
   "outputs": [
    {
     "data": {
      "text/plain": [
       "[('Russ', 0.6033599972724915),\n",
       " ('NF', 0.5922399759292603),\n",
       " ('Post Malone', 0.44411501288414),\n",
       " ('Drake', 0.4287121295928955),\n",
       " ('Lil Uzi Vert', 0.3980545401573181),\n",
       " ('Kendrick Lamar', 0.3945070207118988),\n",
       " ('J. Cole', 0.39214178919792175),\n",
       " ('Gucci Mane', 0.3679358661174774),\n",
       " ('Eminem', 0.30388718843460083),\n",
       " ('Lil Yachty', 0.27308738231658936),\n",
       " ('Kodak Black', 0.1908894181251526),\n",
       " ('YoungBoy Never Broke Again', 0.07527803629636765),\n",
       " ('Kevin Gates', 0.017246827483177185),\n",
       " ('Wiz Khalifa', 0.01604609377682209),\n",
       " ('Future', 0.0073099881410598755),\n",
       " ('Migos', -0.006686776876449585),\n",
       " ('Moneybagg Yo', -0.02164846658706665)]"
      ]
     },
     "execution_count": 16,
     "metadata": {},
     "output_type": "execute_result"
    }
   ],
   "source": [
    "closest_brockhampton = model.docvecs.most_similar(\"BROCKHAMPTON\", topn=topn)\n",
    "closest_brockhampton.sort(key=lambda x: x[1], reverse=True)\n",
    "closest_brockhampton"
   ]
  },
  {
   "cell_type": "code",
   "execution_count": 110,
   "metadata": {},
   "outputs": [
    {
     "data": {
      "text/plain": [
       "[('Wiz Khalifa', 0.339235782623291),\n",
       " ('Post Malone', 0.2566002607345581),\n",
       " ('Gucci Mane', 0.14417427778244019),\n",
       " ('NF', 0.0957019180059433),\n",
       " ('Kendrick Lamar', 0.08413362503051758),\n",
       " ('Migos', 0.03958903253078461),\n",
       " ('J. Cole', 0.030617788434028625),\n",
       " ('Drake', 0.004214301705360413),\n",
       " ('BROCKHAMPTON', -0.013500861823558807),\n",
       " ('Kodak Black', -0.1294480860233307),\n",
       " ('Lil Uzi Vert', -0.14480730891227722),\n",
       " ('Eminem', -0.23411545157432556),\n",
       " ('YoungBoy Never Broke Again', -0.29086756706237793),\n",
       " ('Kevin Gates', -0.2930602431297302),\n",
       " ('Russ', -0.37881702184677124),\n",
       " ('Future', -0.37943166494369507),\n",
       " ('Moneybagg Yo', -0.5447709560394287)]"
      ]
     },
     "execution_count": 110,
     "metadata": {},
     "output_type": "execute_result"
    }
   ],
   "source": [
    "closest_lil_yachty = model.docvecs.most_similar(\"Lil Yachty\", topn=topn)\n",
    "closest_lil_yachty.sort(key=lambda x: x[1], reverse=True)\n",
    "closest_lil_yachty"
   ]
  },
  {
   "cell_type": "code",
   "execution_count": null,
   "metadata": {
    "collapsed": true
   },
   "outputs": [],
   "source": []
  }
 ],
 "metadata": {
  "kernelspec": {
   "display_name": "Python 3",
   "language": "python",
   "name": "python3"
  },
  "language_info": {
   "codemirror_mode": {
    "name": "ipython",
    "version": 3
   },
   "file_extension": ".py",
   "mimetype": "text/x-python",
   "name": "python",
   "nbconvert_exporter": "python",
   "pygments_lexer": "ipython3",
   "version": "3.6.4"
  }
 },
 "nbformat": 4,
 "nbformat_minor": 2
}
