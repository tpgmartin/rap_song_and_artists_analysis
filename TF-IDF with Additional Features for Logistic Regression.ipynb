{
 "cells": [
  {
   "cell_type": "markdown",
   "metadata": {},
   "source": [
    "# TF-IDF with Additional Features for Logistic Regression"
   ]
  },
  {
   "cell_type": "code",
   "execution_count": 1,
   "metadata": {
    "collapsed": true
   },
   "outputs": [],
   "source": [
    "import matplotlib.pyplot as plt\n",
    "import numpy as np\n",
    "import pandas as pd\n",
    "import re\n",
    "from scipy.spatial.distance import cosine\n",
    "from sklearn.feature_extraction.text import TfidfVectorizer, ENGLISH_STOP_WORDS\n",
    "from sklearn.linear_model import LogisticRegression\n",
    "from sklearn.model_selection import train_test_split\n",
    "from sklearn import utils\n",
    "\n",
    "%matplotlib inline"
   ]
  },
  {
   "cell_type": "code",
   "execution_count": 2,
   "metadata": {
    "collapsed": true
   },
   "outputs": [],
   "source": [
    "tracks_by_artist = pd.read_csv(\"./data/tracks_with_lyrics_for_top_10_artists.csv\")"
   ]
  },
  {
   "cell_type": "code",
   "execution_count": 3,
   "metadata": {},
   "outputs": [
    {
     "data": {
      "text/html": [
       "<div>\n",
       "<style scoped>\n",
       "    .dataframe tbody tr th:only-of-type {\n",
       "        vertical-align: middle;\n",
       "    }\n",
       "\n",
       "    .dataframe tbody tr th {\n",
       "        vertical-align: top;\n",
       "    }\n",
       "\n",
       "    .dataframe thead th {\n",
       "        text-align: right;\n",
       "    }\n",
       "</style>\n",
       "<table border=\"1\" class=\"dataframe\">\n",
       "  <thead>\n",
       "    <tr style=\"text-align: right;\">\n",
       "      <th></th>\n",
       "      <th>artist</th>\n",
       "      <th>album</th>\n",
       "      <th>track</th>\n",
       "      <th>lyrics</th>\n",
       "    </tr>\n",
       "  </thead>\n",
       "  <tbody>\n",
       "    <tr>\n",
       "      <th>0</th>\n",
       "      <td>T.I.</td>\n",
       "      <td>Trap Muzik</td>\n",
       "      <td>I Can't Quit</td>\n",
       "      <td>[Intro]\\nHuh, hell nah, I can't quit\\nHell nah...</td>\n",
       "    </tr>\n",
       "    <tr>\n",
       "      <th>1</th>\n",
       "      <td>T.I.</td>\n",
       "      <td>Trap Muzik</td>\n",
       "      <td>Be Easy</td>\n",
       "      <td>[Intro]\\nUh-uh, uh-uh, uh\\nAye, where the pian...</td>\n",
       "    </tr>\n",
       "    <tr>\n",
       "      <th>2</th>\n",
       "      <td>T.I.</td>\n",
       "      <td>Trap Muzik</td>\n",
       "      <td>No More Talk</td>\n",
       "      <td>[Verse 1]\\nI'm either running for my life or I...</td>\n",
       "    </tr>\n",
       "    <tr>\n",
       "      <th>3</th>\n",
       "      <td>T.I.</td>\n",
       "      <td>Trap Muzik</td>\n",
       "      <td>Doin My Job</td>\n",
       "      <td>[T.I. - talking]\\nAy I'm working here, know wh...</td>\n",
       "    </tr>\n",
       "    <tr>\n",
       "      <th>4</th>\n",
       "      <td>T.I.</td>\n",
       "      <td>Trap Muzik</td>\n",
       "      <td>24's</td>\n",
       "      <td>[Intro]\\nYeah\\nFor all my real ATL niggas, tha...</td>\n",
       "    </tr>\n",
       "  </tbody>\n",
       "</table>\n",
       "</div>"
      ],
      "text/plain": [
       "  artist       album         track  \\\n",
       "0   T.I.  Trap Muzik  I Can't Quit   \n",
       "1   T.I.  Trap Muzik       Be Easy   \n",
       "2   T.I.  Trap Muzik  No More Talk   \n",
       "3   T.I.  Trap Muzik   Doin My Job   \n",
       "4   T.I.  Trap Muzik          24's   \n",
       "\n",
       "                                              lyrics  \n",
       "0  [Intro]\\nHuh, hell nah, I can't quit\\nHell nah...  \n",
       "1  [Intro]\\nUh-uh, uh-uh, uh\\nAye, where the pian...  \n",
       "2  [Verse 1]\\nI'm either running for my life or I...  \n",
       "3  [T.I. - talking]\\nAy I'm working here, know wh...  \n",
       "4  [Intro]\\nYeah\\nFor all my real ATL niggas, tha...  "
      ]
     },
     "execution_count": 3,
     "metadata": {},
     "output_type": "execute_result"
    }
   ],
   "source": [
    "tracks_by_artist.head()"
   ]
  },
  {
   "cell_type": "code",
   "execution_count": 4,
   "metadata": {},
   "outputs": [
    {
     "data": {
      "text/html": [
       "<div>\n",
       "<style scoped>\n",
       "    .dataframe tbody tr th:only-of-type {\n",
       "        vertical-align: middle;\n",
       "    }\n",
       "\n",
       "    .dataframe tbody tr th {\n",
       "        vertical-align: top;\n",
       "    }\n",
       "\n",
       "    .dataframe thead th {\n",
       "        text-align: right;\n",
       "    }\n",
       "</style>\n",
       "<table border=\"1\" class=\"dataframe\">\n",
       "  <thead>\n",
       "    <tr style=\"text-align: right;\">\n",
       "      <th></th>\n",
       "      <th>artist</th>\n",
       "      <th>album</th>\n",
       "      <th>track</th>\n",
       "      <th>lyrics</th>\n",
       "    </tr>\n",
       "  </thead>\n",
       "  <tbody>\n",
       "    <tr>\n",
       "      <th>751</th>\n",
       "      <td>Tech N9ne</td>\n",
       "      <td>Everready (The Religion)</td>\n",
       "      <td>The Melancholy Maze &amp; My World Intro</td>\n",
       "      <td>[Intro]\\nYou have entered The Melancholy Maze\\...</td>\n",
       "    </tr>\n",
       "    <tr>\n",
       "      <th>752</th>\n",
       "      <td>Tech N9ne</td>\n",
       "      <td>Everready (The Religion)</td>\n",
       "      <td>The Beast</td>\n",
       "      <td>[Intro 1: Krizz Kaliko]\\nInsanity at it's fine...</td>\n",
       "    </tr>\n",
       "    <tr>\n",
       "      <th>753</th>\n",
       "      <td>Tech N9ne</td>\n",
       "      <td>Everready (The Religion)</td>\n",
       "      <td>Intro to the Strange Music Library</td>\n",
       "      <td>[Tech N9ne]\\nYo, what's up?\\nTech N9ne here\\nA...</td>\n",
       "    </tr>\n",
       "    <tr>\n",
       "      <th>754</th>\n",
       "      <td>Tech N9ne</td>\n",
       "      <td>Everready (The Religion)</td>\n",
       "      <td>That Owl</td>\n",
       "      <td>[Verse 1]\\nHe wild out his style 'bout a mile ...</td>\n",
       "    </tr>\n",
       "    <tr>\n",
       "      <th>755</th>\n",
       "      <td>Tech N9ne</td>\n",
       "      <td>Everready (The Religion)</td>\n",
       "      <td>In My Head</td>\n",
       "      <td>First entry to Everready: The Religion\\nIt's c...</td>\n",
       "    </tr>\n",
       "  </tbody>\n",
       "</table>\n",
       "</div>"
      ],
      "text/plain": [
       "        artist                     album  \\\n",
       "751  Tech N9ne  Everready (The Religion)   \n",
       "752  Tech N9ne  Everready (The Religion)   \n",
       "753  Tech N9ne  Everready (The Religion)   \n",
       "754  Tech N9ne  Everready (The Religion)   \n",
       "755  Tech N9ne  Everready (The Religion)   \n",
       "\n",
       "                                    track  \\\n",
       "751  The Melancholy Maze & My World Intro   \n",
       "752                             The Beast   \n",
       "753    Intro to the Strange Music Library   \n",
       "754                              That Owl   \n",
       "755                            In My Head   \n",
       "\n",
       "                                                lyrics  \n",
       "751  [Intro]\\nYou have entered The Melancholy Maze\\...  \n",
       "752  [Intro 1: Krizz Kaliko]\\nInsanity at it's fine...  \n",
       "753  [Tech N9ne]\\nYo, what's up?\\nTech N9ne here\\nA...  \n",
       "754  [Verse 1]\\nHe wild out his style 'bout a mile ...  \n",
       "755  First entry to Everready: The Religion\\nIt's c...  "
      ]
     },
     "execution_count": 4,
     "metadata": {},
     "output_type": "execute_result"
    }
   ],
   "source": [
    "tracks_by_artist = tracks_by_artist[~tracks_by_artist[\"lyrics\"].isnull()]\n",
    "tracks_by_artist.tail()"
   ]
  },
  {
   "cell_type": "code",
   "execution_count": 5,
   "metadata": {
    "collapsed": true
   },
   "outputs": [],
   "source": [
    "# Helper functions\n",
    "\n",
    "def tokenizer(raw_lyrics):\n",
    "    # Some choices here are specific to the format of Genius lyrics, want to remove non-vocalised \n",
    "    # text in square brackets, and other text not part of the main song body such as adlibs in \n",
    "    # round brackets\n",
    "    raw_lyrics = re.sub(\"([\\(\\[].*?[\\)\\]])|([^\\w\\d'\\s]+)\", \"\", raw_lyrics)\n",
    "    raw_lyrics = re.sub(\"\\n\", \" \", raw_lyrics)\n",
    "    # Ignore case    \n",
    "    raw_lyrics = raw_lyrics.lower()\n",
    "    word_list = raw_lyrics.split()\n",
    "\n",
    "    return word_list\n",
    "\n",
    "def normalise_vector(vector):\n",
    "    return vector / np.sqrt(np.dot(vector,vector))\n",
    "\n",
    "def add_vectors(vectors):\n",
    "    return normalise_vector(np.sum(vectors, axis=0))\n",
    "\n",
    "def ranked_words_by_weighting(vector, top_n):\n",
    "    return sorted(zip(vectorizer.get_feature_names(), vector), key=lambda x: x[1], reverse=True)[:top_n]\n",
    "\n",
    "def most_representative_songs(vector, tracks_by_artist, top_n):\n",
    "    df = tracks_by_artist.copy()\n",
    "    df[\"dist\"] = df[\"normalised_vectors\"].apply(lambda target: cosine(vector, target))\n",
    "    df.sort_values(\"dist\", inplace=True)\n",
    "    return df[:top_n]\n",
    "\n",
    "def most_similar_artists(vector, artist_vectors, top_n):\n",
    "    df = artist_vectors.reset_index().copy()\n",
    "    df[\"dist\"] = df[\"normalised_vectors\"].apply(lambda target: cosine(vector, target))\n",
    "    df.sort_values(\"dist\", inplace=True)\n",
    "    return df[1:top_n+1]"
   ]
  },
  {
   "cell_type": "code",
   "execution_count": 6,
   "metadata": {
    "collapsed": true
   },
   "outputs": [],
   "source": [
    "# ignore for time being\n",
    "# hyperparamters = [\n",
    "#     {\"max_df\": 1.0, \"min_df\": 1}, # i.e. default values\n",
    "#     {\"max_df\": 1.0, \"min_df\": 0.001},\n",
    "#     {\"max_df\": 0.7, \"min_df\": 1},\n",
    "#     {\"max_df\": 0.7, \"min_df\": 0.001}\n",
    "# ]"
   ]
  },
  {
   "cell_type": "code",
   "execution_count": 12,
   "metadata": {
    "collapsed": true
   },
   "outputs": [],
   "source": [
    "# for hp in hyperparamters:\n",
    "\n",
    "vectorizer = TfidfVectorizer(\n",
    "    stop_words=ENGLISH_STOP_WORDS,\n",
    "    max_df=0.7,\n",
    "    min_df=5,\n",
    "#     tokenizer=tokenizer,\n",
    "#     norm=None\n",
    ")\n",
    "\n",
    "tracks_by_artist_copy = tracks_by_artist.copy()\n",
    "tracks_by_artist_copy[\"unnormalised_vectors\"] = list(vectorizer.fit_transform(tracks_by_artist_copy[\"lyrics\"].values).toarray())\n",
    "tracks_by_artist_copy[\"normalised_vectors\"] = tracks_by_artist_copy[\"unnormalised_vectors\"].apply(normalise_vector)\n",
    "tracks_by_artist_copy = tracks_by_artist_copy[tracks_by_artist_copy[\"unnormalised_vectors\"].apply(sum) != 0]"
   ]
  },
  {
   "cell_type": "code",
   "execution_count": 13,
   "metadata": {
    "collapsed": true
   },
   "outputs": [],
   "source": [
    "train, test = train_test_split(tracks_by_artist_copy, test_size=0.3, random_state=42)"
   ]
  },
  {
   "cell_type": "code",
   "execution_count": 14,
   "metadata": {},
   "outputs": [
    {
     "data": {
      "text/plain": [
       "3695"
      ]
     },
     "execution_count": 14,
     "metadata": {},
     "output_type": "execute_result"
    }
   ],
   "source": [
    "len(vectorizer.get_feature_names())"
   ]
  },
  {
   "cell_type": "code",
   "execution_count": 15,
   "metadata": {
    "collapsed": true
   },
   "outputs": [],
   "source": [
    "y_train, X_train = train[\"artist\"].values.tolist(), train[\"normalised_vectors\"].values.tolist()\n",
    "y_test, X_test = test[\"artist\"].values.tolist(), test[\"normalised_vectors\"].values.tolist()"
   ]
  },
  {
   "cell_type": "code",
   "execution_count": 16,
   "metadata": {},
   "outputs": [
    {
     "name": "stdout",
     "output_type": "stream",
     "text": [
      "Testing accuracy 0.8578431372549019\n",
      "Testing Precision: 0.8639245761676186\n",
      "Testing Recall: 0.8578431372549019\n",
      "Testing FScore: 0.8549705521894324\n",
      "Testing Support: None\n"
     ]
    }
   ],
   "source": [
    "logreg = LogisticRegression(n_jobs=1, C=1e6)\n",
    "logreg.fit(X_train, y_train)\n",
    "y_pred = logreg.predict(X_test)\n",
    "\n",
    "from sklearn.metrics import accuracy_score, f1_score\n",
    "from sklearn.metrics import precision_recall_fscore_support\n",
    "\n",
    "print('Testing accuracy %s' % accuracy_score(y_test, y_pred))\n",
    "print('Testing Precision: {}'.format(precision_recall_fscore_support(y_test, y_pred, average='weighted')[0]))\n",
    "print('Testing Recall: {}'.format(precision_recall_fscore_support(y_test, y_pred, average='weighted')[1]))\n",
    "print('Testing FScore: {}'.format(precision_recall_fscore_support(y_test, y_pred, average='weighted')[2]))\n",
    "print('Testing Support: {}'.format(precision_recall_fscore_support(y_test, y_pred, average='weighted')[3]))"
   ]
  },
  {
   "cell_type": "code",
   "execution_count": 17,
   "metadata": {
    "collapsed": true
   },
   "outputs": [],
   "source": [
    "from sklearn.base import BaseEstimator, TransformerMixin\n",
    "class LyricsExtractor(BaseEstimator, TransformerMixin):\n",
    "\n",
    "#     def __init__(self, key=\"lyrics\"):\n",
    "#         self.key = key\n",
    "    \n",
    "    def fit(self, x, y=None):\n",
    "        return self\n",
    "    \n",
    "    def transform(self, train):\n",
    "        return train[\"lyrics\"].values"
   ]
  },
  {
   "cell_type": "code",
   "execution_count": 57,
   "metadata": {
    "collapsed": true
   },
   "outputs": [],
   "source": [
    "class LineCountExtractor(BaseEstimator, TransformerMixin):\n",
    "\n",
    "    def fit(self, x, y=None):\n",
    "        return self\n",
    "    \n",
    "    def transform(self, data):\n",
    "        return data[\"lyrics\"].str.split(\"\\n\").apply(len)"
   ]
  },
  {
   "cell_type": "code",
   "execution_count": 58,
   "metadata": {
    "collapsed": true
   },
   "outputs": [],
   "source": [
    "class AverageLineLengthExtractor(BaseEstimator, TransformerMixin):\n",
    "    \n",
    "    def fit(self, x, y=None):\n",
    "        return self\n",
    "    \n",
    "    def transform(self, data):\n",
    "        return data[\"lyrics\"].str.split(\"\\n\").apply(lambda lines: sum(map(len,lines))/len(lines))"
   ]
  },
  {
   "cell_type": "code",
   "execution_count": 111,
   "metadata": {},
   "outputs": [],
   "source": [
    "class UniqueWordProportionExtractor(BaseEstimator, TransformerMixin):\n",
    "    \n",
    "    def fit(self, x, y=None):\n",
    "        return self\n",
    "    \n",
    "    def transform(self, data):\n",
    "        return data[\"lyrics\"].apply(lambda lyrics: self.prop_unique_words(lyrics))\n",
    "    \n",
    "    def prop_unique_words(self, lyrics):\n",
    "        return self.get_unique_word_count(lyrics) / self.get_total_word_count(lyrics)\n",
    "    \n",
    "    def get_total_word_count(self, lyrics):\n",
    "        return len(re.split(\" |\\n|\", lyrics))\n",
    "    \n",
    "    def get_unique_word_count(self, lyrics):\n",
    "        return len(set(re.split(\" |\\n|\", lyrics)))"
   ]
  },
  {
   "cell_type": "code",
   "execution_count": 112,
   "metadata": {
    "collapsed": true
   },
   "outputs": [],
   "source": [
    "class ArrayCaster(BaseEstimator, TransformerMixin):\n",
    "    \n",
    "    def fit(self, x, y=None):\n",
    "        return self\n",
    "    \n",
    "    def transform(self, data):\n",
    "        return np.transpose(np.matrix(data))"
   ]
  },
  {
   "cell_type": "code",
   "execution_count": 118,
   "metadata": {
    "scrolled": true
   },
   "outputs": [
    {
     "name": "stdout",
     "output_type": "stream",
     "text": [
      "gridsearch scores mean: 0.64632, std: 0.01673, params: {}\n"
     ]
    }
   ],
   "source": [
    "from sklearn.grid_search import GridSearchCV\n",
    "from sklearn.metrics import classification_report\n",
    "from sklearn.pipeline import Pipeline\n",
    "from sklearn.pipeline import FeatureUnion\n",
    "\n",
    "# pipeline = Pipeline([\n",
    "#         (\"union\", FeatureUnion(\n",
    "#             transformer_list = [\n",
    "#                 (\"song_vectors\", Pipeline([\n",
    "#                     (\"lyrics\", LyricsExtractor()),\n",
    "#                     (\"tfidf\", TfidfVectorizer(stop_words=ENGLISH_STOP_WORDS))\n",
    "#                 ])),\n",
    "#                 (\"line_count\", Pipeline([\n",
    "#                     (\"get_line_count\", LineCountExtractor()),\n",
    "#                     (\"caster\", ArrayCaster())\n",
    "#                 ])),\n",
    "#                 (\"average_line_length\", Pipeline([\n",
    "#                     (\"get_average_line_length\", AverageLineLengthExtractor()),\n",
    "#                     (\"caster\", ArrayCaster())\n",
    "#                 ])),\n",
    "#                 (\"unique_word_proportion\", Pipeline([\n",
    "#                     (\"get_unique_word_proportion\", UniqueWordProportionExtractor()),\n",
    "#                     (\"caster\", ArrayCaster())\n",
    "#                 ])),\n",
    "#             ]\n",
    "#             need to perform grid search with these weights\n",
    "#             transformer_weights={\n",
    "#                 \"song_vectors\": 1.0,\n",
    "#                 \"line_count\": 1.0,\n",
    "#                 \"average_line_length\": 1.0,\n",
    "#                 \"unique_word_proportion\": 1.0\n",
    "#             },\n",
    "#         )),\n",
    "#         (\"logreg\", LogisticRegression(n_jobs=1, C=1e6))\n",
    "#         (\"logreg\", LogisticRegression())\n",
    "#     ])\n",
    "\n",
    "song_vect = Pipeline([\n",
    "                    (\"lyrics\", LyricsExtractor()),\n",
    "                    (\"tfidf\", TfidfVectorizer(stop_words=ENGLISH_STOP_WORDS))\n",
    "                ])\n",
    "# line_count = Pipeline([\n",
    "#                     (\"get_line_count\", LineCountExtractor()),\n",
    "#                     (\"caster\", ArrayCaster())\n",
    "#                 ])\n",
    "\n",
    "# featureunionvect = FeatureUnion([(\"line_count\", line_count), (\"song_vect\", song_vect)])\n",
    "featureunionvect = FeatureUnion([(\"song_vect\", song_vect)])\n",
    "\n",
    "classifier = LogisticRegression()\n",
    "pipeline = Pipeline([('vect', featureunionvect), ('classifier', classifier)])\n",
    "\n",
    "# change these\n",
    "parameters = {\n",
    "#     \"vect__transformer_list\": [\n",
    "#         {\"song_vectors\":1,\"line_count\":0}, \n",
    "#         {\"song_vectors\":0,\"line_count\":1}, \n",
    "#         {\"song_vectors\":1,\"line_count\":1}\n",
    "#     ]\n",
    "}\n",
    "gs_clf = GridSearchCV(pipeline, parameters)\n",
    "\n",
    "# dataset\n",
    "tracks_by_artist_copy = tracks_by_artist.copy()\n",
    "train, test = train_test_split(tracks_by_artist_copy, test_size=0.3, random_state=42)\n",
    "y_train, X_train = train[\"artist\"], train\n",
    "y_test, X_test = test[\"artist\"], test\n",
    "\n",
    "# classifier\n",
    "gs_clf.fit(X_train, y_train)\n",
    "\n",
    "#evaluation\n",
    "for score in gs_clf.grid_scores_:\n",
    "    print(\"gridsearch scores\", score)\n",
    "\n",
    "# y_pred = pipeline.predict(X_test)\n",
    "\n",
    "# from sklearn.metrics import accuracy_score, f1_score\n",
    "# from sklearn.metrics import precision_recall_fscore_support\n",
    "\n",
    "# print('Testing accuracy %s' % accuracy_score(y_test, y_pred))\n",
    "# print('Testing Precision: {}'.format(precision_recall_fscore_support(y_test, y_pred, average='weighted')[0]))\n",
    "# print('Testing Recall: {}'.format(precision_recall_fscore_support(y_test, y_pred, average='weighted')[1]))\n",
    "# print('Testing FScore: {}'.format(precision_recall_fscore_support(y_test, y_pred, average='weighted')[2]))\n",
    "# print('Testing Support: {}'.format(precision_recall_fscore_support(y_test, y_pred, average='weighted')[3]))"
   ]
  },
  {
   "cell_type": "code",
   "execution_count": null,
   "metadata": {
    "collapsed": true
   },
   "outputs": [],
   "source": [
    "# len(y_train) # 475\n",
    "# len(X_train) # 475\n",
    "# len(y_test) # 204\n",
    "# len(X_test) # 204"
   ]
  },
  {
   "cell_type": "code",
   "execution_count": null,
   "metadata": {
    "collapsed": true
   },
   "outputs": [],
   "source": []
  }
 ],
 "metadata": {
  "kernelspec": {
   "display_name": "Python 3",
   "language": "python",
   "name": "python3"
  },
  "language_info": {
   "codemirror_mode": {
    "name": "ipython",
    "version": 3
   },
   "file_extension": ".py",
   "mimetype": "text/x-python",
   "name": "python",
   "nbconvert_exporter": "python",
   "pygments_lexer": "ipython3",
   "version": "3.6.4"
  }
 },
 "nbformat": 4,
 "nbformat_minor": 2
}
