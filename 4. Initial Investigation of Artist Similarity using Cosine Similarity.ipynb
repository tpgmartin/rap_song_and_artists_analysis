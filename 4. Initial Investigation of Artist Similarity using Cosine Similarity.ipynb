{
 "cells": [
  {
   "cell_type": "markdown",
   "metadata": {},
   "source": [
    "# Find Cosine Similarity Between Artists"
   ]
  },
  {
   "cell_type": "markdown",
   "metadata": {},
   "source": [
    "### TODO\n",
    "\n",
    "* Maybe: Latent semantic analysis\n",
    "* Tune and evaluate hyperparameters"
   ]
  },
  {
   "cell_type": "code",
   "execution_count": 1,
   "metadata": {
    "collapsed": true
   },
   "outputs": [],
   "source": [
    "import matplotlib.pyplot as plt\n",
    "import numpy as np\n",
    "import pandas as pd\n",
    "import re\n",
    "from scipy.spatial.distance import cosine\n",
    "from sklearn.feature_extraction.text import TfidfVectorizer, ENGLISH_STOP_WORDS\n",
    "\n",
    "%matplotlib inline"
   ]
  },
  {
   "cell_type": "code",
   "execution_count": 2,
   "metadata": {
    "collapsed": true
   },
   "outputs": [],
   "source": [
    "tracks_by_artist = pd.read_csv(\"./data/complete_tracks_with_lyrics.csv\")\n",
    "# Decided to tokenise text as part of the TfidfVectorizer initialisation for better consistency\n",
    "tracks_by_artist = tracks_by_artist[[\"artist\", \"album\", \"track\", \"lyrics\"]]"
   ]
  },
  {
   "cell_type": "code",
   "execution_count": 3,
   "metadata": {},
   "outputs": [
    {
     "data": {
      "text/html": [
       "<div>\n",
       "<style scoped>\n",
       "    .dataframe tbody tr th:only-of-type {\n",
       "        vertical-align: middle;\n",
       "    }\n",
       "\n",
       "    .dataframe tbody tr th {\n",
       "        vertical-align: top;\n",
       "    }\n",
       "\n",
       "    .dataframe thead th {\n",
       "        text-align: right;\n",
       "    }\n",
       "</style>\n",
       "<table border=\"1\" class=\"dataframe\">\n",
       "  <thead>\n",
       "    <tr style=\"text-align: right;\">\n",
       "      <th></th>\n",
       "      <th>artist</th>\n",
       "      <th>album</th>\n",
       "      <th>track</th>\n",
       "      <th>lyrics</th>\n",
       "    </tr>\n",
       "  </thead>\n",
       "  <tbody>\n",
       "    <tr>\n",
       "      <th>0</th>\n",
       "      <td>BROCKHAMPTON</td>\n",
       "      <td>iridescence</td>\n",
       "      <td>WEIGHT</td>\n",
       "      <td>[Verse 1: Kevin Abstact]\\nThey split my world ...</td>\n",
       "    </tr>\n",
       "    <tr>\n",
       "      <th>1</th>\n",
       "      <td>BROCKHAMPTON</td>\n",
       "      <td>iridescence</td>\n",
       "      <td>VIVID</td>\n",
       "      <td>[Intro: Matt Champion]\\n\"Yo, get—[censored]—tu...</td>\n",
       "    </tr>\n",
       "    <tr>\n",
       "      <th>2</th>\n",
       "      <td>BROCKHAMPTON</td>\n",
       "      <td>iridescence</td>\n",
       "      <td>TAPE</td>\n",
       "      <td>[Verse 1: Kevin Abstract]\\nI can barely rap, I...</td>\n",
       "    </tr>\n",
       "    <tr>\n",
       "      <th>3</th>\n",
       "      <td>BROCKHAMPTON</td>\n",
       "      <td>Saturation III</td>\n",
       "      <td>STAINS</td>\n",
       "      <td>[Verse 1: Ameer Vann]\\nI spent like a year and...</td>\n",
       "    </tr>\n",
       "    <tr>\n",
       "      <th>4</th>\n",
       "      <td>BROCKHAMPTON</td>\n",
       "      <td>iridescence</td>\n",
       "      <td>DISTRICT</td>\n",
       "      <td>[Intro]\\n\"I'm Sammy Jo, and my favorite colors...</td>\n",
       "    </tr>\n",
       "  </tbody>\n",
       "</table>\n",
       "</div>"
      ],
      "text/plain": [
       "         artist           album     track  \\\n",
       "0  BROCKHAMPTON     iridescence    WEIGHT   \n",
       "1  BROCKHAMPTON     iridescence     VIVID   \n",
       "2  BROCKHAMPTON     iridescence      TAPE   \n",
       "3  BROCKHAMPTON  Saturation III    STAINS   \n",
       "4  BROCKHAMPTON     iridescence  DISTRICT   \n",
       "\n",
       "                                              lyrics  \n",
       "0  [Verse 1: Kevin Abstact]\\nThey split my world ...  \n",
       "1  [Intro: Matt Champion]\\n\"Yo, get—[censored]—tu...  \n",
       "2  [Verse 1: Kevin Abstract]\\nI can barely rap, I...  \n",
       "3  [Verse 1: Ameer Vann]\\nI spent like a year and...  \n",
       "4  [Intro]\\n\"I'm Sammy Jo, and my favorite colors...  "
      ]
     },
     "execution_count": 3,
     "metadata": {},
     "output_type": "execute_result"
    }
   ],
   "source": [
    "tracks_by_artist.head()"
   ]
  },
  {
   "cell_type": "code",
   "execution_count": 6,
   "metadata": {},
   "outputs": [
    {
     "data": {
      "text/plain": [
       "array(['BROCKHAMPTON', 'Drake', 'Eminem', 'Future', 'Gucci Mane',\n",
       "       'J. Cole', 'Kendrick Lamar', 'Kevin Gates', 'Kodak Black',\n",
       "       'Lil Uzi Vert', 'Lil Yachty', 'Migos', 'Moneybagg Yo', 'NF',\n",
       "       'Post Malone', 'Russ', 'Wiz Khalifa', 'YoungBoy Never Broke Again'],\n",
       "      dtype=object)"
      ]
     },
     "execution_count": 6,
     "metadata": {},
     "output_type": "execute_result"
    }
   ],
   "source": [
    "tracks_by_artist[\"artist\"].unique()"
   ]
  },
  {
   "cell_type": "code",
   "execution_count": 4,
   "metadata": {
    "collapsed": true
   },
   "outputs": [],
   "source": [
    "# Helper functions\n",
    "\n",
    "def tokenizer(raw_lyrics):\n",
    "    # Some choices here are specific to the format of Genius lyrics, want to remove non-vocalised \n",
    "    # text in square brackets, and other text not part of the main song body such as adlibs in \n",
    "    # round brackets\n",
    "    raw_lyrics = re.sub(\"([\\(\\[].*?[\\)\\]])|([^\\w\\d'\\s]+)\", \"\", raw_lyrics)\n",
    "    raw_lyrics = re.sub(\"\\n\", \" \", raw_lyrics)\n",
    "    # Ignore case    \n",
    "    raw_lyrics = raw_lyrics.lower()\n",
    "    word_list = raw_lyrics.split()\n",
    "\n",
    "    return word_list\n",
    "\n",
    "def normalise_vector(vector):\n",
    "    return vector / np.sqrt(np.dot(vector,vector))\n",
    "\n",
    "def add_vectors(vectors):\n",
    "    return normalise_vector(np.sum(vectors, axis=0))\n",
    "\n",
    "def ranked_words_by_weighting(vector, top_n):\n",
    "    return sorted(zip(vectorizer.get_feature_names(), vector), key=lambda x: x[1], reverse=True)[:top_n]\n",
    "\n",
    "def most_representative_songs(vector, tracks_by_artist, top_n):\n",
    "    df = tracks_by_artist.copy()\n",
    "    df[\"dist\"] = df[\"normalised_vectors\"].apply(lambda target: cosine(vector, target))\n",
    "    df.sort_values(\"dist\", inplace=True)\n",
    "    return df[:top_n]\n",
    "\n",
    "def most_similar_artists(vector, artist_vectors, top_n):\n",
    "    df = artist_vectors.reset_index().copy()\n",
    "    df[\"dist\"] = df[\"normalised_vectors\"].apply(lambda target: cosine(vector, target))\n",
    "    df.sort_values(\"dist\", inplace=True)\n",
    "    return df[1:top_n+1]"
   ]
  },
  {
   "cell_type": "code",
   "execution_count": 5,
   "metadata": {
    "collapsed": true
   },
   "outputs": [],
   "source": [
    "hyperparamters = [\n",
    "    {\"max_df\": 1.0, \"min_df\": 1}, # i.e. default values\n",
    "    {\"max_df\": 1.0, \"min_df\": 0.001},\n",
    "    {\"max_df\": 0.7, \"min_df\": 1},\n",
    "    {\"max_df\": 0.7, \"min_df\": 0.001}\n",
    "]"
   ]
  },
  {
   "cell_type": "code",
   "execution_count": 6,
   "metadata": {},
   "outputs": [
    {
     "name": "stderr",
     "output_type": "stream",
     "text": [
      "/anaconda3/lib/python3.6/site-packages/ipykernel_launcher.py:27: DeprecationWarning: \n",
      ".ix is deprecated. Please use\n",
      ".loc for label based indexing or\n",
      ".iloc for positional indexing\n",
      "\n",
      "See the documentation here:\n",
      "http://pandas.pydata.org/pandas-docs/stable/indexing.html#ix-indexer-is-deprecated\n"
     ]
    },
    {
     "name": "stdout",
     "output_type": "stream",
     "text": [
      "max_df= 1.0 min_df= 1\n",
      "Lil Uzi Vert\n",
      "Most important words\n",
      "[('yeah', 0.14462177358038378), ('diamonds', 0.1357562179656025), ('yah', 0.12641213771053364)]\n",
      "Most representative songs\n",
      "           artist          album          track      dist\n",
      "189  Lil Uzi Vert  Luv Is Rage 2  XO TOUR Llif3  0.577473\n",
      "198  Lil Uzi Vert  Luv Is Rage 2              X  0.577473\n",
      "180  Lil Uzi Vert  Luv Is Rage 2    Pretty Mami  0.736155\n",
      "Most similar artsts\n",
      "         artist      dist\n",
      "13           NF  0.802808\n",
      "8   Kodak Black  0.803255\n",
      "15         Russ  0.807117\n",
      "--------------------\n",
      "\n",
      "max_df= 1.0 min_df= 0.001\n",
      "Lil Uzi Vert\n",
      "Most important words\n",
      "[('yeah', 0.14462177358038378), ('diamonds', 0.1357562179656025), ('yah', 0.12641213771053364)]\n",
      "Most representative songs\n",
      "           artist          album          track      dist\n",
      "189  Lil Uzi Vert  Luv Is Rage 2  XO TOUR Llif3  0.577473\n",
      "198  Lil Uzi Vert  Luv Is Rage 2              X  0.577473\n",
      "180  Lil Uzi Vert  Luv Is Rage 2    Pretty Mami  0.736155\n",
      "Most similar artsts\n",
      "         artist      dist\n",
      "13           NF  0.802808\n",
      "8   Kodak Black  0.803255\n",
      "15         Russ  0.807117\n",
      "--------------------\n",
      "\n",
      "max_df= 0.7 min_df= 1\n",
      "Lil Uzi Vert\n",
      "Most important words\n",
      "[('yeah', 0.14809893959680148), ('diamonds', 0.1390712877120793), ('yah', 0.12956870935872358)]\n",
      "Most representative songs\n",
      "           artist                       album          track      dist\n",
      "198  Lil Uzi Vert               Luv Is Rage 2              X  0.575660\n",
      "189  Lil Uzi Vert               Luv Is Rage 2  XO TOUR Llif3  0.575660\n",
      "183  Lil Uzi Vert  Lil Uzi Vert Vs. The World        Ps & Qs  0.738521\n",
      "Most similar artsts\n",
      "                        artist      dist\n",
      "15                        Russ  0.855135\n",
      "17  YoungBoy Never Broke Again  0.855369\n",
      "13                          NF  0.856571\n",
      "--------------------\n",
      "\n",
      "max_df= 0.7 min_df= 0.001\n",
      "Lil Uzi Vert\n",
      "Most important words\n",
      "[('yeah', 0.14809893959680148), ('diamonds', 0.1390712877120793), ('yah', 0.12956870935872358)]\n",
      "Most representative songs\n",
      "           artist                       album          track      dist\n",
      "198  Lil Uzi Vert               Luv Is Rage 2              X  0.575660\n",
      "189  Lil Uzi Vert               Luv Is Rage 2  XO TOUR Llif3  0.575660\n",
      "183  Lil Uzi Vert  Lil Uzi Vert Vs. The World        Ps & Qs  0.738521\n",
      "Most similar artsts\n",
      "                        artist      dist\n",
      "15                        Russ  0.855135\n",
      "17  YoungBoy Never Broke Again  0.855369\n",
      "13                          NF  0.856571\n",
      "--------------------\n",
      "\n"
     ]
    }
   ],
   "source": [
    "for hp in hyperparamters:\n",
    "\n",
    "    vectorizer = TfidfVectorizer(\n",
    "        stop_words=ENGLISH_STOP_WORDS,\n",
    "        lowercase=False,\n",
    "        max_df=hp[\"max_df\"],\n",
    "        min_df=hp[\"min_df\"],\n",
    "        ngram_range=(1,3),\n",
    "        tokenizer=tokenizer,\n",
    "        norm=None\n",
    "    )\n",
    "    \n",
    "    tracks_by_artist_copy = tracks_by_artist.copy()\n",
    "    tracks_by_artist_copy[\"unnormalised_vectors\"] = list(vectorizer.fit_transform(tracks_by_artist_copy[\"lyrics\"].values).toarray())\n",
    "    tracks_by_artist_copy[\"normalised_vectors\"] = tracks_by_artist_copy[\"unnormalised_vectors\"].apply(normalise_vector)\n",
    "    # Found case where unnormalised vector is zero vector, in this case an Eminem skit\n",
    "    tracks_by_artist_copy = tracks_by_artist_copy[tracks_by_artist_copy[\"unnormalised_vectors\"].apply(sum) != 0]\n",
    "\n",
    "    artist_vectors = (\n",
    "        tracks_by_artist_copy\n",
    "        .groupby(\"artist\")\n",
    "        .normalised_vectors\n",
    "        .apply(add_vectors)\n",
    "    )\n",
    "    \n",
    "    for artist in artist_vectors.index.values:\n",
    "        artist_vector = artist_vectors.ix[artist]\n",
    "        if artist == \"Lil Uzi Vert\": # Example to track for now\n",
    "            print(\"max_df=\", hp[\"max_df\"], \"min_df=\", hp[\"min_df\"])\n",
    "            print(artist)\n",
    "            print(\"Most important words\")\n",
    "            print(ranked_words_by_weighting(artist_vector, 3))\n",
    "            print(\"Most representative songs\")\n",
    "            print(most_representative_songs(artist_vector, tracks_by_artist_copy, 3)[[\"artist\", \"album\", \"track\", \"dist\"]])\n",
    "            print(\"Most similar artsts\")\n",
    "            print(most_similar_artists(artist_vector, artist_vectors, 3)[[\"artist\", \"dist\"]])\n",
    "            print('--------------------\\n')"
   ]
  },
  {
   "cell_type": "code",
   "execution_count": 5,
   "metadata": {
    "collapsed": true
   },
   "outputs": [],
   "source": [
    "# Clustering analysis\n",
    "vectorizer = TfidfVectorizer(\n",
    "    stop_words=ENGLISH_STOP_WORDS,\n",
    "    lowercase=False,\n",
    "    ngram_range=(1,3),\n",
    "    tokenizer=tokenizer,\n",
    "    norm=None\n",
    ")\n",
    "\n",
    "tracks_by_artist_copy = tracks_by_artist.copy()\n",
    "tracks_by_artist_copy[\"unnormalised_vectors\"] = list(vectorizer.fit_transform(tracks_by_artist_copy[\"lyrics\"].values).toarray())\n",
    "tracks_by_artist_copy[\"normalised_vectors\"] = tracks_by_artist_copy[\"unnormalised_vectors\"].apply(normalise_vector)\n",
    "# Found case where unnormalised vector is zero vector, in this case an Eminem skit\n",
    "tracks_by_artist_copy = tracks_by_artist_copy[tracks_by_artist_copy[\"unnormalised_vectors\"].apply(sum) != 0]\n",
    "\n",
    "artist_vectors = (\n",
    "    tracks_by_artist_copy\n",
    "    .groupby(\"artist\")\n",
    "    .normalised_vectors\n",
    "    .apply(add_vectors)\n",
    ")"
   ]
  },
  {
   "cell_type": "code",
   "execution_count": 9,
   "metadata": {},
   "outputs": [
    {
     "data": {
      "text/plain": [
       "[array([0., 0., 0., ..., 0., 0., 0.]),\n",
       " array([0., 0., 0., ..., 0., 0., 0.]),\n",
       " array([0., 0., 0., ..., 0., 0., 0.]),\n",
       " array([0.       , 0.       , 0.       , ..., 0.0062102, 0.0062102,\n",
       "        0.0062102]),\n",
       " array([0., 0., 0., ..., 0., 0., 0.]),\n",
       " array([0.00496272, 0.00496272, 0.00496272, ..., 0.        , 0.        ,\n",
       "        0.        ]),\n",
       " array([0., 0., 0., ..., 0., 0., 0.]),\n",
       " array([0., 0., 0., ..., 0., 0., 0.]),\n",
       " array([0., 0., 0., ..., 0., 0., 0.]),\n",
       " array([0., 0., 0., ..., 0., 0., 0.]),\n",
       " array([0., 0., 0., ..., 0., 0., 0.]),\n",
       " array([0., 0., 0., ..., 0., 0., 0.]),\n",
       " array([0., 0., 0., ..., 0., 0., 0.]),\n",
       " array([0., 0., 0., ..., 0., 0., 0.]),\n",
       " array([0., 0., 0., ..., 0., 0., 0.]),\n",
       " array([0., 0., 0., ..., 0., 0., 0.]),\n",
       " array([0., 0., 0., ..., 0., 0., 0.]),\n",
       " array([0., 0., 0., ..., 0., 0., 0.])]"
      ]
     },
     "execution_count": 9,
     "metadata": {},
     "output_type": "execute_result"
    }
   ],
   "source": [
    "artist_vectors.values.tolist()"
   ]
  },
  {
   "cell_type": "code",
   "execution_count": 49,
   "metadata": {},
   "outputs": [
    {
     "data": {
      "text/plain": [
       "KMeans(algorithm='auto', copy_x=True, init='k-means++', max_iter=100,\n",
       "    n_clusters=9, n_init=1, n_jobs=1, precompute_distances='auto',\n",
       "    random_state=None, tol=0.0001, verbose=0)"
      ]
     },
     "execution_count": 49,
     "metadata": {},
     "output_type": "execute_result"
    }
   ],
   "source": [
    "from sklearn.cluster import KMeans\n",
    "\n",
    "n_clusters = 9\n",
    "data = tracks_by_artist_copy[\"normalised_vectors\"].tolist()\n",
    "\n",
    "model = KMeans(n_clusters=n_clusters, init='k-means++', max_iter=100, n_init=1)\n",
    "model.fit(data)"
   ]
  },
  {
   "cell_type": "code",
   "execution_count": 50,
   "metadata": {},
   "outputs": [
    {
     "name": "stdout",
     "output_type": "stream",
     "text": [
      "Top terms per cluster:\n",
      "Cluster 0:\n",
      " i'm\n",
      " gucci\n",
      " head head\n",
      " nigga\n",
      " real\n",
      " way\n",
      " head head head\n",
      " million\n",
      " got\n",
      " goin' hard\n",
      "\n",
      "Cluster 1:\n",
      " know\n",
      " i'm\n",
      " diamonds\n",
      " like\n",
      " just\n",
      " girl\n",
      " baby\n",
      " yah\n",
      " let\n",
      " can't\n",
      "\n",
      "Cluster 2:\n",
      " i'm\n",
      " harley\n",
      " harley harley\n",
      " sellin' dope\n",
      " motivate\n",
      " ring\n",
      " harley harley harley\n",
      " motivate motivate\n",
      " whoaoh\n",
      " like\n",
      "\n",
      "Cluster 3:\n",
      " ooh\n",
      " ooh ooh\n",
      " feel feel\n",
      " ooh ooh ooh\n",
      " yeah\n",
      " loaded loaded\n",
      " loaded\n",
      " feel feel feel\n",
      " loaded loaded loaded\n",
      " uh ooh\n",
      "\n",
      "Cluster 4:\n",
      " i'm\n",
      " like\n",
      " don't\n",
      " ain't\n",
      " feel like\n",
      " feel\n",
      " know\n",
      " just\n",
      " wanna\n",
      " got\n",
      "\n",
      "Cluster 5:\n",
      " bitch\n",
      " yeah\n",
      " nigga\n",
      " i'm\n",
      " got\n",
      " gang\n",
      " real\n",
      " ain't\n",
      " fuck\n",
      " niggas\n",
      "\n",
      "Cluster 6:\n",
      " i'm\n",
      " nigga\n",
      " ain't\n",
      " don't\n",
      " niggas\n",
      " got\n",
      " fuck\n",
      " know\n",
      " gon'\n",
      " shit\n",
      "\n",
      "Cluster 7:\n",
      " yeah\n",
      " i'm\n",
      " oh\n",
      " like\n",
      " don't\n",
      " know\n",
      " oh oh\n",
      " got\n",
      " right\n",
      " ain't\n",
      "\n",
      "Cluster 8:\n",
      " love\n",
      " 'cause\n",
      " la la\n",
      " la la la\n",
      " like\n",
      " la\n",
      " i'm\n",
      " you're\n",
      " quiet\n",
      " special\n",
      "\n"
     ]
    }
   ],
   "source": [
    "print(\"Top terms per cluster:\")\n",
    "order_centroids = model.cluster_centers_.argsort()[:, ::-1]\n",
    "terms = vectorizer.get_feature_names()\n",
    "for i in range(n_clusters):\n",
    "    print(\"Cluster %d:\" % i)\n",
    "    for ind in order_centroids[i, :10]:\n",
    "        print(' %s' % terms[ind])\n",
    "    print()"
   ]
  },
  {
   "cell_type": "code",
   "execution_count": 51,
   "metadata": {},
   "outputs": [
    {
     "name": "stdout",
     "output_type": "stream",
     "text": [
      "Top terms per cluster:\n",
      "[[ 55469  48571  50788 ...  43607  22199  75295]\n",
      " [ 64646  55469  27739 ...  61677  71966  66613]\n",
      " [ 55469  50135  50146 ...   7926  10131  28454]\n",
      " ...\n",
      " [ 55469  82972   3548 ...  72656  66174  86062]\n",
      " [132348  55469  85909 ... 125539  38712  66174]\n",
      " [ 74203    384  66174 ...  54199  12595  44550]]\n",
      "[6 7 7 0 1 0 6 6 4 1 0 4 8 8 1 8 3 4 7 8 7 7 1 7 5 7 1 6 6 8 7 0 4 7 7 0 7\n",
      " 7 7 5 7 8 8 8 8 8 8 7 2 7 8 8 7 5 6 8 7 4 7 4 1 8 7 0 1 7 7 7 5 7 6 1 1 7\n",
      " 0 7 5 1 8 8 5 0 8 4 0 6 7 0 5 0 6 1 6 5 0 5 8 7 4 7 2 0 0 2 6 2 7 0 6 0 7\n",
      " 0 6 6 5 7 6 7 5 6 7 6 6 4 0 8 7 5 6 5 0 5 0 7 8 2 8 1 6 3 8 6 4 6 4 5 6 6\n",
      " 7 6 4 6 2 6 6 7 5 8 5 6 8 5 6 4 6 4 2 4 6 4 6 7 6 1 3 1 2 6 4 1 3 1 7 1 6\n",
      " 7 7 1 7 6 7 4 5 1 1 5 0 7 7 3 0 1 8 8 5 6 5 1 6 7 2 5 7 7 0 6 5 1 0 7 5 5\n",
      " 7 3 5 5 8 3 5 6 5 5 5 5 5 3 7 0 5 6 7 4 7 6 6 6 7 1 6 5 0 5 6 6 6 5 5 0 6\n",
      " 7 7 7 4 7 7 7 7 7 7 7 7 7 7 7 7 7 7 3 7 7 7 7 3 7 7 7 8 2 7 2 6 5 3 6 2 3\n",
      " 7 3 7 7 7 5 5 7 8 7 7 4 7 7 7 3 7 6 3 7 7 7 3 6 6 6 1 6 6 6 5 6 1 8 0 0 7\n",
      " 4 1 0 8 2 6 1 6 7 5 5 6 6 4 5 7 6 6 5 6 1 6 6 6 4 5]\n",
      "359\n"
     ]
    }
   ],
   "source": [
    "print(\"Top terms per cluster:\")\n",
    "order_centroids = model.cluster_centers_.argsort()[:, ::-1]\n",
    "print(order_centroids)\n",
    "print(model.labels_)\n",
    "print(len(model.labels_))\n",
    "# terms = vectorizer.get_feature_names()\n",
    "# for i in range(n_clusters):\n",
    "#     print(\"Cluster %d:\" % i)\n",
    "#     for ind in order_centroids[i, :10]:\n",
    "#         print(' %s' % terms[ind])\n",
    "#     print()"
   ]
  },
  {
   "cell_type": "code",
   "execution_count": 52,
   "metadata": {},
   "outputs": [
    {
     "data": {
      "text/plain": [
       "array(['BROCKHAMPTON', 'Drake', 'Eminem', 'Future', 'Gucci Mane',\n",
       "       'J. Cole', 'Kendrick Lamar', 'Kevin Gates', 'Kodak Black',\n",
       "       'Lil Uzi Vert', 'Lil Yachty', 'Migos', 'Moneybagg Yo', 'NF',\n",
       "       'Post Malone', 'Russ', 'Wiz Khalifa', 'YoungBoy Never Broke Again'],\n",
       "      dtype=object)"
      ]
     },
     "execution_count": 52,
     "metadata": {},
     "output_type": "execute_result"
    }
   ],
   "source": [
    "tracks_by_artist[\"artist\"].unique()"
   ]
  },
  {
   "cell_type": "code",
   "execution_count": 72,
   "metadata": {},
   "outputs": [
    {
     "name": "stdout",
     "output_type": "stream",
     "text": [
      "18\n",
      "[0.64434057 0.01729672]\n",
      "---------------\n",
      "45\n",
      "[-0.07414777  0.74761884]\n",
      "---------------\n",
      "50\n",
      "[-0.07414777  0.74761884]\n",
      "---------------\n",
      "121\n",
      "[-0.11413031 -0.34816761]\n",
      "---------------\n",
      "128\n",
      "[-0.11612532 -0.34808873]\n",
      "---------------\n",
      "188\n",
      "[-0.02271598 -0.54066354]\n",
      "---------------\n",
      "197\n",
      "[-0.02271598 -0.54066354]\n",
      "---------------\n",
      "209\n",
      "[0.38729546 0.01333353]\n",
      "---------------\n",
      "276\n",
      "[0.70811876 0.01925375]\n",
      "---------------\n",
      "279\n",
      "[0.56244145 0.00365166]\n",
      "---------------\n",
      "280\n",
      "[ 0.4144987  -0.02013749]\n",
      "---------------\n",
      "281\n",
      "[0.54254172 0.02128708]\n",
      "---------------\n"
     ]
    },
    {
     "data": {
      "image/png": "[encoded data removed]",
      "text/plain": [
       "<Figure size 432x288 with 1 Axes>"
      ]
     },
     "metadata": {},
     "output_type": "display_data"
    }
   ],
   "source": [
    "from sklearn.decomposition import PCA\n",
    "\n",
    "data = tracks_by_artist_copy[\"normalised_vectors\"].tolist()\n",
    "\n",
    "n_components = 2\n",
    "pca = PCA(n_components=n_components).fit(data)\n",
    "data2D = pca.transform(data)\n",
    "for idx, datum in enumerate(data2D):\n",
    "    if datum[1] > 0.2 or datum[1] < -0.2 or datum[0] > 0.2:\n",
    "        print(idx)\n",
    "        print(datum)\n",
    "        print('---------------')\n",
    "plt.scatter(data2D[:,0], data2D[:,1])\n",
    "plt.show()  "
   ]
  },
  {
   "cell_type": "code",
   "execution_count": 76,
   "metadata": {},
   "outputs": [
    {
     "data": {
      "text/plain": [
       "artist                                                     Kendrick Lamar\n",
       "album                                                 To Pimp A Butterfly\n",
       "track                                                                  ​u\n",
       "lyrics                  [Produced by Taz Arnold & Whoarei; Additional ...\n",
       "unnormalised_vectors    [0.0, 0.0, 0.0, 0.0, 0.0, 0.0, 0.0, 0.0, 0.0, ...\n",
       "normalised_vectors      [0.0, 0.0, 0.0, 0.0, 0.0, 0.0, 0.0, 0.0, 0.0, ...\n",
       "Name: 123, dtype: object"
      ]
     },
     "execution_count": 76,
     "metadata": {},
     "output_type": "execute_result"
    }
   ],
   "source": [
    "tracks_by_artist_copy.iloc[122]"
   ]
  },
  {
   "cell_type": "code",
   "execution_count": 71,
   "metadata": {},
   "outputs": [
    {
     "data": {
      "text/plain": [
       "artist                                                             Eminem\n",
       "album                                                     The Eminem Show\n",
       "track                                                          Without Me\n",
       "lyrics                  [Intro: Obie Trice]\\nObie Trice! Real name, no...\n",
       "unnormalised_vectors    [0.0, 0.0, 0.0, 0.0, 0.0, 0.0, 0.0, 0.0, 0.0, ...\n",
       "normalised_vectors      [0.0, 0.0, 0.0, 0.0, 0.0, 0.0, 0.0, 0.0, 0.0, ...\n",
       "Name: 51, dtype: object"
      ]
     },
     "execution_count": 71,
     "metadata": {},
     "output_type": "execute_result"
    }
   ],
   "source": [
    "tracks_by_artist_copy.iloc[50]"
   ]
  },
  {
   "cell_type": "code",
   "execution_count": null,
   "metadata": {
    "collapsed": true
   },
   "outputs": [],
   "source": []
  }
 ],
 "metadata": {
  "kernelspec": {
   "display_name": "Python 3",
   "language": "python",
   "name": "python3"
  },
  "language_info": {
   "codemirror_mode": {
    "name": "ipython",
    "version": 3
   },
   "file_extension": ".py",
   "mimetype": "text/x-python",
   "name": "python",
   "nbconvert_exporter": "python",
   "pygments_lexer": "ipython3",
   "version": "3.6.4"
  }
 },
 "nbformat": 4,
 "nbformat_minor": 2
}
