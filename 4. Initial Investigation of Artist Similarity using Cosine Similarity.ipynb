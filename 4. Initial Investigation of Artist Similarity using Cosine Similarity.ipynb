{
 "cells": [
  {
   "cell_type": "markdown",
   "metadata": {},
   "source": [
    "# Find Cosine Similarity Between Artists"
   ]
  },
  {
   "cell_type": "markdown",
   "metadata": {},
   "source": [
    "### TODO\n",
    "\n",
    "* Maybe: Latent semantic analysis\n",
    "* Tune and evaluate hyperparameters"
   ]
  },
  {
   "cell_type": "code",
   "execution_count": 1,
   "metadata": {
    "collapsed": true
   },
   "outputs": [],
   "source": [
    "import matplotlib.pyplot as plt\n",
    "import numpy as np\n",
    "import pandas as pd\n",
    "import re\n",
    "from scipy.spatial.distance import cosine\n",
    "from sklearn.feature_extraction.text import TfidfVectorizer, ENGLISH_STOP_WORDS\n",
    "\n",
    "%matplotlib inline"
   ]
  },
  {
   "cell_type": "code",
   "execution_count": 2,
   "metadata": {},
   "outputs": [],
   "source": [
    "tracks_by_artist = pd.read_csv(\"./data/complete_tracks_with_lyrics.csv\")\n",
    "# Decided to tokenise text as part of the TfidfVectorizer initialisation for better consistency\n",
    "tracks_by_artist = tracks_by_artist[[\"artist\", \"album\", \"track\", \"lyrics\"]]"
   ]
  },
  {
   "cell_type": "code",
   "execution_count": 3,
   "metadata": {},
   "outputs": [
    {
     "data": {
      "text/html": [
       "<div>\n",
       "<style scoped>\n",
       "    .dataframe tbody tr th:only-of-type {\n",
       "        vertical-align: middle;\n",
       "    }\n",
       "\n",
       "    .dataframe tbody tr th {\n",
       "        vertical-align: top;\n",
       "    }\n",
       "\n",
       "    .dataframe thead th {\n",
       "        text-align: right;\n",
       "    }\n",
       "</style>\n",
       "<table border=\"1\" class=\"dataframe\">\n",
       "  <thead>\n",
       "    <tr style=\"text-align: right;\">\n",
       "      <th></th>\n",
       "      <th>artist</th>\n",
       "      <th>album</th>\n",
       "      <th>track</th>\n",
       "      <th>lyrics</th>\n",
       "    </tr>\n",
       "  </thead>\n",
       "  <tbody>\n",
       "    <tr>\n",
       "      <th>0</th>\n",
       "      <td>BROCKHAMPTON</td>\n",
       "      <td>iridescence</td>\n",
       "      <td>WEIGHT</td>\n",
       "      <td>[Verse 1: Kevin Abstact]\\nThey split my world ...</td>\n",
       "    </tr>\n",
       "    <tr>\n",
       "      <th>1</th>\n",
       "      <td>BROCKHAMPTON</td>\n",
       "      <td>iridescence</td>\n",
       "      <td>VIVID</td>\n",
       "      <td>[Intro: Matt Champion]\\n\"Yo, get—[censored]—tu...</td>\n",
       "    </tr>\n",
       "    <tr>\n",
       "      <th>2</th>\n",
       "      <td>BROCKHAMPTON</td>\n",
       "      <td>iridescence</td>\n",
       "      <td>TAPE</td>\n",
       "      <td>[Verse 1: Kevin Abstract]\\nI can barely rap, I...</td>\n",
       "    </tr>\n",
       "    <tr>\n",
       "      <th>3</th>\n",
       "      <td>BROCKHAMPTON</td>\n",
       "      <td>Saturation III</td>\n",
       "      <td>STAINS</td>\n",
       "      <td>[Verse 1: Ameer Vann]\\nI spent like a year and...</td>\n",
       "    </tr>\n",
       "    <tr>\n",
       "      <th>4</th>\n",
       "      <td>BROCKHAMPTON</td>\n",
       "      <td>iridescence</td>\n",
       "      <td>DISTRICT</td>\n",
       "      <td>[Intro]\\n\"I'm Sammy Jo, and my favorite colors...</td>\n",
       "    </tr>\n",
       "  </tbody>\n",
       "</table>\n",
       "</div>"
      ],
      "text/plain": [
       "         artist           album     track  \\\n",
       "0  BROCKHAMPTON     iridescence    WEIGHT   \n",
       "1  BROCKHAMPTON     iridescence     VIVID   \n",
       "2  BROCKHAMPTON     iridescence      TAPE   \n",
       "3  BROCKHAMPTON  Saturation III    STAINS   \n",
       "4  BROCKHAMPTON     iridescence  DISTRICT   \n",
       "\n",
       "                                              lyrics  \n",
       "0  [Verse 1: Kevin Abstact]\\nThey split my world ...  \n",
       "1  [Intro: Matt Champion]\\n\"Yo, get—[censored]—tu...  \n",
       "2  [Verse 1: Kevin Abstract]\\nI can barely rap, I...  \n",
       "3  [Verse 1: Ameer Vann]\\nI spent like a year and...  \n",
       "4  [Intro]\\n\"I'm Sammy Jo, and my favorite colors...  "
      ]
     },
     "execution_count": 3,
     "metadata": {},
     "output_type": "execute_result"
    }
   ],
   "source": [
    "tracks_by_artist.head()"
   ]
  },
  {
   "cell_type": "code",
   "execution_count": 4,
   "metadata": {},
   "outputs": [],
   "source": [
    "# Helper functions\n",
    "\n",
    "def tokenizer(raw_lyrics):\n",
    "    # Some choices here are specific to the format of Genius lyrics, want to remove non-vocalised \n",
    "    # text in square brackets, and other text not part of the main song body such as adlibs in \n",
    "    # round brackets\n",
    "    raw_lyrics = re.sub(\"([\\(\\[].*?[\\)\\]])|([^\\w\\d'\\s]+)\", \"\", raw_lyrics)\n",
    "    raw_lyrics = re.sub(\"\\n\", \" \", raw_lyrics)\n",
    "    # Ignore case    \n",
    "    raw_lyrics = raw_lyrics.lower()\n",
    "    word_list = raw_lyrics.split()\n",
    "\n",
    "    return word_list\n",
    "\n",
    "def normalise_vector(vector):\n",
    "    return vector / np.sqrt(np.dot(vector,vector))\n",
    "\n",
    "def add_vectors(vectors):\n",
    "    return normalise_vector(np.sum(vectors, axis=0))\n",
    "\n",
    "def ranked_words_by_weighting(vector, top_n):\n",
    "    return sorted(zip(vectorizer.get_feature_names(), vector), key=lambda x: x[1], reverse=True)[:top_n]\n",
    "\n",
    "def most_representative_songs(vector, tracks_by_artist, top_n):\n",
    "    df = tracks_by_artist.copy()\n",
    "    df[\"dist\"] = df[\"normalised_vectors\"].apply(lambda target: cosine(vector, target))\n",
    "    df.sort_values(\"dist\", inplace=True)\n",
    "    return df[:top_n]\n",
    "\n",
    "def most_similar_artists(vector, artist_vectors, top_n):\n",
    "    df = artist_vectors.reset_index().copy()\n",
    "    df[\"dist\"] = df[\"normalised_vectors\"].apply(lambda target: cosine(vector, target))\n",
    "    df.sort_values(\"dist\", inplace=True)\n",
    "    return df[1:top_n+1]"
   ]
  },
  {
   "cell_type": "code",
   "execution_count": 5,
   "metadata": {
    "collapsed": true
   },
   "outputs": [],
   "source": [
    "hyperparamters = [\n",
    "    {\"max_df\": 1.0, \"min_df\": 1}, # i.e. default values\n",
    "    {\"max_df\": 1.0, \"min_df\": 0.001},\n",
    "    {\"max_df\": 0.7, \"min_df\": 1},\n",
    "    {\"max_df\": 0.7, \"min_df\": 0.001}\n",
    "]"
   ]
  },
  {
   "cell_type": "code",
   "execution_count": 6,
   "metadata": {},
   "outputs": [
    {
     "name": "stderr",
     "output_type": "stream",
     "text": [
      "/anaconda3/lib/python3.6/site-packages/ipykernel_launcher.py:27: DeprecationWarning: \n",
      ".ix is deprecated. Please use\n",
      ".loc for label based indexing or\n",
      ".iloc for positional indexing\n",
      "\n",
      "See the documentation here:\n",
      "http://pandas.pydata.org/pandas-docs/stable/indexing.html#ix-indexer-is-deprecated\n"
     ]
    },
    {
     "name": "stdout",
     "output_type": "stream",
     "text": [
      "max_df= 1.0 min_df= 1\n",
      "Lil Uzi Vert\n",
      "Most important words\n",
      "[('yeah', 0.14462177358038378), ('diamonds', 0.1357562179656025), ('yah', 0.12641213771053364)]\n",
      "Most representative songs\n",
      "           artist          album          track      dist\n",
      "189  Lil Uzi Vert  Luv Is Rage 2  XO TOUR Llif3  0.577473\n",
      "198  Lil Uzi Vert  Luv Is Rage 2              X  0.577473\n",
      "180  Lil Uzi Vert  Luv Is Rage 2    Pretty Mami  0.736155\n",
      "Most similar artsts\n",
      "         artist      dist\n",
      "13           NF  0.802808\n",
      "8   Kodak Black  0.803255\n",
      "15         Russ  0.807117\n",
      "--------------------\n",
      "\n",
      "max_df= 1.0 min_df= 0.001\n",
      "Lil Uzi Vert\n",
      "Most important words\n",
      "[('yeah', 0.14462177358038378), ('diamonds', 0.1357562179656025), ('yah', 0.12641213771053364)]\n",
      "Most representative songs\n",
      "           artist          album          track      dist\n",
      "189  Lil Uzi Vert  Luv Is Rage 2  XO TOUR Llif3  0.577473\n",
      "198  Lil Uzi Vert  Luv Is Rage 2              X  0.577473\n",
      "180  Lil Uzi Vert  Luv Is Rage 2    Pretty Mami  0.736155\n",
      "Most similar artsts\n",
      "         artist      dist\n",
      "13           NF  0.802808\n",
      "8   Kodak Black  0.803255\n",
      "15         Russ  0.807117\n",
      "--------------------\n",
      "\n",
      "max_df= 0.7 min_df= 1\n",
      "Lil Uzi Vert\n",
      "Most important words\n",
      "[('yeah', 0.14809893959680148), ('diamonds', 0.1390712877120793), ('yah', 0.12956870935872358)]\n",
      "Most representative songs\n",
      "           artist                       album          track      dist\n",
      "198  Lil Uzi Vert               Luv Is Rage 2              X  0.575660\n",
      "189  Lil Uzi Vert               Luv Is Rage 2  XO TOUR Llif3  0.575660\n",
      "183  Lil Uzi Vert  Lil Uzi Vert Vs. The World        Ps & Qs  0.738521\n",
      "Most similar artsts\n",
      "                        artist      dist\n",
      "15                        Russ  0.855135\n",
      "17  YoungBoy Never Broke Again  0.855369\n",
      "13                          NF  0.856571\n",
      "--------------------\n",
      "\n",
      "max_df= 0.7 min_df= 0.001\n",
      "Lil Uzi Vert\n",
      "Most important words\n",
      "[('yeah', 0.14809893959680148), ('diamonds', 0.1390712877120793), ('yah', 0.12956870935872358)]\n",
      "Most representative songs\n",
      "           artist                       album          track      dist\n",
      "198  Lil Uzi Vert               Luv Is Rage 2              X  0.575660\n",
      "189  Lil Uzi Vert               Luv Is Rage 2  XO TOUR Llif3  0.575660\n",
      "183  Lil Uzi Vert  Lil Uzi Vert Vs. The World        Ps & Qs  0.738521\n",
      "Most similar artsts\n",
      "                        artist      dist\n",
      "15                        Russ  0.855135\n",
      "17  YoungBoy Never Broke Again  0.855369\n",
      "13                          NF  0.856571\n",
      "--------------------\n",
      "\n"
     ]
    }
   ],
   "source": [
    "for hp in hyperparamters:\n",
    "\n",
    "    vectorizer = TfidfVectorizer(\n",
    "        stop_words=ENGLISH_STOP_WORDS,\n",
    "        lowercase=False,\n",
    "        max_df=hp[\"max_df\"],\n",
    "        min_df=hp[\"min_df\"],\n",
    "        ngram_range=(1,3),\n",
    "        tokenizer=tokenizer,\n",
    "        norm=None\n",
    "    )\n",
    "    \n",
    "    tracks_by_artist_copy = tracks_by_artist.copy()\n",
    "    tracks_by_artist_copy[\"unnormalised_vectors\"] = list(vectorizer.fit_transform(tracks_by_artist_copy[\"lyrics\"].values).toarray())\n",
    "    tracks_by_artist_copy[\"normalised_vectors\"] = tracks_by_artist_copy[\"unnormalised_vectors\"].apply(normalise_vector)\n",
    "    # Found case where unnormalised vector is zero vector, in this case an Eminem skit\n",
    "    tracks_by_artist_copy = tracks_by_artist_copy[tracks_by_artist_copy[\"unnormalised_vectors\"].apply(sum) != 0]\n",
    "\n",
    "    artist_vectors = (\n",
    "        tracks_by_artist_copy\n",
    "        .groupby(\"artist\")\n",
    "        .normalised_vectors\n",
    "        .apply(add_vectors)\n",
    "    )\n",
    "    \n",
    "    for artist in artist_vectors.index.values:\n",
    "        artist_vector = artist_vectors.ix[artist]\n",
    "        if artist == \"Lil Uzi Vert\": # Example to track for now\n",
    "            print(\"max_df=\", hp[\"max_df\"], \"min_df=\", hp[\"min_df\"])\n",
    "            print(artist)\n",
    "            print(\"Most important words\")\n",
    "            print(ranked_words_by_weighting(artist_vector, 3))\n",
    "            print(\"Most representative songs\")\n",
    "            print(most_representative_songs(artist_vector, tracks_by_artist_copy, 3)[[\"artist\", \"album\", \"track\", \"dist\"]])\n",
    "            print(\"Most similar artsts\")\n",
    "            print(most_similar_artists(artist_vector, artist_vectors, 3)[[\"artist\", \"dist\"]])\n",
    "            print('--------------------\\n')"
   ]
  },
  {
   "cell_type": "code",
   "execution_count": null,
   "metadata": {
    "collapsed": true
   },
   "outputs": [],
   "source": []
  }
 ],
 "metadata": {
  "kernelspec": {
   "display_name": "Python 3",
   "language": "python",
   "name": "python3"
  },
  "language_info": {
   "codemirror_mode": {
    "name": "ipython",
    "version": 3
   },
   "file_extension": ".py",
   "mimetype": "text/x-python",
   "name": "python",
   "nbconvert_exporter": "python",
   "pygments_lexer": "ipython3",
   "version": "3.6.4"
  }
 },
 "nbformat": 4,
 "nbformat_minor": 2
}
