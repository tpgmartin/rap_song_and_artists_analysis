{
 "cells": [
  {
   "cell_type": "code",
   "execution_count": 88,
   "metadata": {
    "collapsed": true
   },
   "outputs": [],
   "source": [
    "import pandas as pd\n",
    "import re\n",
    "import seaborn as sns"
   ]
  },
  {
   "cell_type": "code",
   "execution_count": 89,
   "metadata": {
    "collapsed": true
   },
   "outputs": [],
   "source": [
    "# TODO\n",
    "# * Strip out non spoken text from lyrics i.e. text within square brackets\n",
    "# * Remove text within round brackets\n",
    "# * Remove line breaks\n",
    "# * Lowercase everything\n",
    "# * Remove commas\n",
    "# * Removing trailing dashes"
   ]
  },
  {
   "cell_type": "code",
   "execution_count": 96,
   "metadata": {},
   "outputs": [],
   "source": [
    "tracks_with_lyrics = pd.read_csv(\"./data/tracks_with_lyrics.csv\")"
   ]
  },
  {
   "cell_type": "code",
   "execution_count": 99,
   "metadata": {},
   "outputs": [],
   "source": [
    "def get_word_list(track_details):\n",
    "    \n",
    "    lyrics = track_details[\"lyrics\"]\n",
    "\n",
    "    try:\n",
    "        # remove text between brackets, remove punctuation except for apostraphes\n",
    "        lyrics = re.sub(\"([\\(\\[].*?[\\)\\]])|([^\\w\\d'\\s]+)\", \"\", lyrics)\n",
    "        # replace line breaks with whitespace\n",
    "        lyrics = re.sub(\"\\n\", \" \", lyrics)\n",
    "        # lowercase everything\n",
    "        lyrics = lyrics.lower()\n",
    "        # covert to list\n",
    "        word_list = lyrics.split()\n",
    "    except TypeError:\n",
    "        print(track_details[\"artist\"] + \",\" + track_details[\"album\"] + \",\" + track_details[\"track\"] + \",\")\n",
    "        word_list = []\n",
    "\n",
    "    return word_list"
   ]
  },
  {
   "cell_type": "code",
   "execution_count": 100,
   "metadata": {},
   "outputs": [
    {
     "name": "stdout",
     "output_type": "stream",
     "text": [
      "Future,BEASTMODE 2,RED LIGHT,\n",
      "Kendrick Lamar,To Pimp A Butterfly,​u,\n",
      "Kevin Gates,By Any Means 2,Came Up,\n",
      "Lil Yachty,Lil Boat 2,FLEX,\n",
      "Lil Yachty,Teenage Emotions,No More,\n",
      "Moneybagg Yo,2 Heartless,Secrets,\n",
      "Moneybagg Yo,Federal 3X,Right Now,\n",
      "Moneybagg Yo,2 Heartless,Thoughts,\n",
      "NF,Therapy Session,Real,\n",
      "NF,Perception,Outro,\n",
      "NF,Perception,Know,\n",
      "NF,Therapy Session,Breathe,\n",
      "NF,Perception,Dreams,\n",
      "NF,Perception,Lie,\n",
      "Post Malone,Stoney,Cold,\n",
      "Russ,There's Really A Wolf,Scared,\n",
      "Russ,There's Really A Wolf,Me You,\n",
      "Russ,There's Really A Wolf,MVP,\n",
      "Wiz Khalifa,Rolling Papers 2,Ocean,\n"
     ]
    },
    {
     "name": "stderr",
     "output_type": "stream",
     "text": [
      "/anaconda3/lib/python3.6/site-packages/ipykernel_launcher.py:6: FutureWarning: set_value is deprecated and will be removed in a future release. Please use .at[] or .iat[] accessors instead\n",
      "  \n"
     ]
    }
   ],
   "source": [
    "tracks_with_lyrics[\"word_list\"] = None\n",
    "\n",
    "for idx, row in tracks_with_lyrics.iterrows():\n",
    "\n",
    "    word_list = get_word_list(row)\n",
    "    tracks_with_lyrics.set_value(idx,'word_list',word_list)"
   ]
  },
  {
   "cell_type": "code",
   "execution_count": 157,
   "metadata": {},
   "outputs": [],
   "source": [
    "tracks_with_lyrics = tracks_with_lyrics.drop(tracks_with_lyrics[tracks_with_lyrics[\"lyrics\"].isnull()].index)"
   ]
  },
  {
   "cell_type": "code",
   "execution_count": 135,
   "metadata": {},
   "outputs": [],
   "source": [
    "tracks_with_missing_lyrics = pd.read_csv(\"./data/missing_lyrics.csv\")"
   ]
  },
  {
   "cell_type": "code",
   "execution_count": 136,
   "metadata": {},
   "outputs": [
    {
     "name": "stderr",
     "output_type": "stream",
     "text": [
      "/anaconda3/lib/python3.6/site-packages/ipykernel_launcher.py:6: FutureWarning: set_value is deprecated and will be removed in a future release. Please use .at[] or .iat[] accessors instead\n",
      "  \n"
     ]
    }
   ],
   "source": [
    "tracks_with_missing_lyrics[\"word_list\"] = None\n",
    "\n",
    "for idx, row in tracks_with_missing_lyrics.iterrows():\n",
    "\n",
    "    word_list = get_word_list(row)\n",
    "    tracks_with_missing_lyrics.set_value(idx,'word_list',word_list)"
   ]
  },
  {
   "cell_type": "code",
   "execution_count": 137,
   "metadata": {},
   "outputs": [
    {
     "data": {
      "text/html": [
       "<div>\n",
       "<style scoped>\n",
       "    .dataframe tbody tr th:only-of-type {\n",
       "        vertical-align: middle;\n",
       "    }\n",
       "\n",
       "    .dataframe tbody tr th {\n",
       "        vertical-align: top;\n",
       "    }\n",
       "\n",
       "    .dataframe thead th {\n",
       "        text-align: right;\n",
       "    }\n",
       "</style>\n",
       "<table border=\"1\" class=\"dataframe\">\n",
       "  <thead>\n",
       "    <tr style=\"text-align: right;\">\n",
       "      <th></th>\n",
       "      <th>artist</th>\n",
       "      <th>album</th>\n",
       "      <th>track</th>\n",
       "      <th>lyrics</th>\n",
       "      <th>word_list</th>\n",
       "    </tr>\n",
       "  </thead>\n",
       "  <tbody>\n",
       "    <tr>\n",
       "      <th>0</th>\n",
       "      <td>Future</td>\n",
       "      <td>BEASTMODE 2</td>\n",
       "      <td>RED LIGHT</td>\n",
       "      <td>[Intro]\\nYeah, nigga, this shit real out here\\...</td>\n",
       "      <td>[yeah, nigga, this, shit, real, out, here, run...</td>\n",
       "    </tr>\n",
       "    <tr>\n",
       "      <th>1</th>\n",
       "      <td>Kendrick Lamar</td>\n",
       "      <td>To Pimp A Butterfly</td>\n",
       "      <td>​u</td>\n",
       "      <td>[Produced by Taz Arnold &amp; Whoarei; Additional ...</td>\n",
       "      <td>[loving, you, is, complicated, loving, you, is...</td>\n",
       "    </tr>\n",
       "    <tr>\n",
       "      <th>2</th>\n",
       "      <td>Kevin Gates</td>\n",
       "      <td>By Any Means 2</td>\n",
       "      <td>Came Up</td>\n",
       "      <td>[Chorus]\\nYoung nigga hold a rock for the fami...</td>\n",
       "      <td>[young, nigga, hold, a, rock, for, the, family...</td>\n",
       "    </tr>\n",
       "    <tr>\n",
       "      <th>3</th>\n",
       "      <td>Lil Yachty</td>\n",
       "      <td>Lil Boat 2</td>\n",
       "      <td>FLEX</td>\n",
       "      <td>[Verse 1]\\nAnd you hate when I do this shit, s...</td>\n",
       "      <td>[and, you, hate, when, i, do, this, shit, skat...</td>\n",
       "    </tr>\n",
       "    <tr>\n",
       "      <th>4</th>\n",
       "      <td>Lil Yachty</td>\n",
       "      <td>Teenage Emotions</td>\n",
       "      <td>No More</td>\n",
       "      <td>[Intro]\\nHey, Lil Boat\\n\\n[Chorus]\\nI can't ta...</td>\n",
       "      <td>[hey, lil, boat, i, can't, take, no, more, no,...</td>\n",
       "    </tr>\n",
       "    <tr>\n",
       "      <th>5</th>\n",
       "      <td>Moneybagg Yo</td>\n",
       "      <td>2 Heartless</td>\n",
       "      <td>Secrets</td>\n",
       "      <td>[Intro]\\nNah you crazy, but for real though\\nL...</td>\n",
       "      <td>[nah, you, crazy, but, for, real, though, like...</td>\n",
       "    </tr>\n",
       "    <tr>\n",
       "      <th>6</th>\n",
       "      <td>Moneybagg Yo</td>\n",
       "      <td>Federal 3X</td>\n",
       "      <td>Right Now</td>\n",
       "      <td>[Intro]\\nI'm counting faces, ducking cases\\nI'...</td>\n",
       "      <td>[i'm, counting, faces, ducking, cases, i'm, se...</td>\n",
       "    </tr>\n",
       "    <tr>\n",
       "      <th>7</th>\n",
       "      <td>Moneybagg Yo</td>\n",
       "      <td>2 Heartless</td>\n",
       "      <td>Thoughts</td>\n",
       "      <td>[Intro]\\nFuck you, fuck you, fuck you, you're ...</td>\n",
       "      <td>[fuck, you, fuck, you, fuck, you, you're, cool...</td>\n",
       "    </tr>\n",
       "    <tr>\n",
       "      <th>8</th>\n",
       "      <td>NF</td>\n",
       "      <td>Therapy Session</td>\n",
       "      <td>Real</td>\n",
       "      <td>[Intro]\\nYeah, real music\\nAgh! Yo\\nJust get i...</td>\n",
       "      <td>[yeah, real, music, agh, yo, just, get, in, th...</td>\n",
       "    </tr>\n",
       "    <tr>\n",
       "      <th>9</th>\n",
       "      <td>NF</td>\n",
       "      <td>Perception</td>\n",
       "      <td>Outro</td>\n",
       "      <td>[Verse]\\nI'm dedicated, the definition of dedi...</td>\n",
       "      <td>[i'm, dedicated, the, definition, of, dedicati...</td>\n",
       "    </tr>\n",
       "    <tr>\n",
       "      <th>10</th>\n",
       "      <td>NF</td>\n",
       "      <td>Perception</td>\n",
       "      <td>Know</td>\n",
       "      <td>[Intro]\\nYeah\\nI wanna know, I wanna know\\nI w...</td>\n",
       "      <td>[yeah, i, wanna, know, i, wanna, know, i, wann...</td>\n",
       "    </tr>\n",
       "    <tr>\n",
       "      <th>11</th>\n",
       "      <td>NF</td>\n",
       "      <td>Therapy Session</td>\n",
       "      <td>Breathe</td>\n",
       "      <td>[Hook]\\nBreathe\\nBreathe\\n\\n[Verse 1]\\nI grew ...</td>\n",
       "      <td>[breathe, breathe, i, grew, up, in, a, small, ...</td>\n",
       "    </tr>\n",
       "    <tr>\n",
       "      <th>12</th>\n",
       "      <td>NF</td>\n",
       "      <td>Perception</td>\n",
       "      <td>Dreams</td>\n",
       "      <td>[Verse 1]\\nYeah, most of my life's full of sad...</td>\n",
       "      <td>[yeah, most, of, my, life's, full, of, sad, da...</td>\n",
       "    </tr>\n",
       "    <tr>\n",
       "      <th>13</th>\n",
       "      <td>NF</td>\n",
       "      <td>Perception</td>\n",
       "      <td>Lie</td>\n",
       "      <td>[Chorus]\\nI heard you told your friends that I...</td>\n",
       "      <td>[i, heard, you, told, your, friends, that, i'm...</td>\n",
       "    </tr>\n",
       "    <tr>\n",
       "      <th>14</th>\n",
       "      <td>Post Malone</td>\n",
       "      <td>Stoney</td>\n",
       "      <td>Cold</td>\n",
       "      <td>[Intro]\\nGood job, First\\n\\n[Chorus]\\nYeah, my...</td>\n",
       "      <td>[good, job, first, yeah, my, wrist, so, cold, ...</td>\n",
       "    </tr>\n",
       "    <tr>\n",
       "      <th>15</th>\n",
       "      <td>Russ</td>\n",
       "      <td>There's Really A Wolf</td>\n",
       "      <td>Scared</td>\n",
       "      <td>[Chorus]\\nTake my hand and rock it real slow\\n...</td>\n",
       "      <td>[take, my, hand, and, rock, it, real, slow, i,...</td>\n",
       "    </tr>\n",
       "    <tr>\n",
       "      <th>16</th>\n",
       "      <td>Russ</td>\n",
       "      <td>There's Really A Wolf</td>\n",
       "      <td>Me You</td>\n",
       "      <td>[Intro]\\nYeah, yeah, there's a difference\\nOh ...</td>\n",
       "      <td>[yeah, yeah, there's, a, difference, oh, yeah,...</td>\n",
       "    </tr>\n",
       "    <tr>\n",
       "      <th>17</th>\n",
       "      <td>Russ</td>\n",
       "      <td>There's Really A Wolf</td>\n",
       "      <td>MVP</td>\n",
       "      <td>[Intro]\\nYeah\\nMake money off of bein' myself\\...</td>\n",
       "      <td>[yeah, make, money, off, of, bein', myself, ge...</td>\n",
       "    </tr>\n",
       "    <tr>\n",
       "      <th>18</th>\n",
       "      <td>Wiz Khalifa</td>\n",
       "      <td>Rolling Papers 2</td>\n",
       "      <td>Ocean</td>\n",
       "      <td>[Intro]\\nGot you rolling papers, got you rolli...</td>\n",
       "      <td>[got, you, rolling, papers, got, you, rolling,...</td>\n",
       "    </tr>\n",
       "  </tbody>\n",
       "</table>\n",
       "</div>"
      ],
      "text/plain": [
       "            artist                  album      track  \\\n",
       "0           Future            BEASTMODE 2  RED LIGHT   \n",
       "1   Kendrick Lamar    To Pimp A Butterfly         ​u   \n",
       "2      Kevin Gates         By Any Means 2    Came Up   \n",
       "3       Lil Yachty             Lil Boat 2       FLEX   \n",
       "4       Lil Yachty       Teenage Emotions    No More   \n",
       "5     Moneybagg Yo            2 Heartless    Secrets   \n",
       "6     Moneybagg Yo             Federal 3X  Right Now   \n",
       "7     Moneybagg Yo            2 Heartless   Thoughts   \n",
       "8               NF        Therapy Session       Real   \n",
       "9               NF             Perception      Outro   \n",
       "10              NF             Perception       Know   \n",
       "11              NF        Therapy Session    Breathe   \n",
       "12              NF             Perception     Dreams   \n",
       "13              NF             Perception        Lie   \n",
       "14     Post Malone                 Stoney       Cold   \n",
       "15            Russ  There's Really A Wolf     Scared   \n",
       "16            Russ  There's Really A Wolf     Me You   \n",
       "17            Russ  There's Really A Wolf        MVP   \n",
       "18     Wiz Khalifa       Rolling Papers 2      Ocean   \n",
       "\n",
       "                                               lyrics  \\\n",
       "0   [Intro]\\nYeah, nigga, this shit real out here\\...   \n",
       "1   [Produced by Taz Arnold & Whoarei; Additional ...   \n",
       "2   [Chorus]\\nYoung nigga hold a rock for the fami...   \n",
       "3   [Verse 1]\\nAnd you hate when I do this shit, s...   \n",
       "4   [Intro]\\nHey, Lil Boat\\n\\n[Chorus]\\nI can't ta...   \n",
       "5   [Intro]\\nNah you crazy, but for real though\\nL...   \n",
       "6   [Intro]\\nI'm counting faces, ducking cases\\nI'...   \n",
       "7   [Intro]\\nFuck you, fuck you, fuck you, you're ...   \n",
       "8   [Intro]\\nYeah, real music\\nAgh! Yo\\nJust get i...   \n",
       "9   [Verse]\\nI'm dedicated, the definition of dedi...   \n",
       "10  [Intro]\\nYeah\\nI wanna know, I wanna know\\nI w...   \n",
       "11  [Hook]\\nBreathe\\nBreathe\\n\\n[Verse 1]\\nI grew ...   \n",
       "12  [Verse 1]\\nYeah, most of my life's full of sad...   \n",
       "13  [Chorus]\\nI heard you told your friends that I...   \n",
       "14  [Intro]\\nGood job, First\\n\\n[Chorus]\\nYeah, my...   \n",
       "15  [Chorus]\\nTake my hand and rock it real slow\\n...   \n",
       "16  [Intro]\\nYeah, yeah, there's a difference\\nOh ...   \n",
       "17  [Intro]\\nYeah\\nMake money off of bein' myself\\...   \n",
       "18  [Intro]\\nGot you rolling papers, got you rolli...   \n",
       "\n",
       "                                            word_list  \n",
       "0   [yeah, nigga, this, shit, real, out, here, run...  \n",
       "1   [loving, you, is, complicated, loving, you, is...  \n",
       "2   [young, nigga, hold, a, rock, for, the, family...  \n",
       "3   [and, you, hate, when, i, do, this, shit, skat...  \n",
       "4   [hey, lil, boat, i, can't, take, no, more, no,...  \n",
       "5   [nah, you, crazy, but, for, real, though, like...  \n",
       "6   [i'm, counting, faces, ducking, cases, i'm, se...  \n",
       "7   [fuck, you, fuck, you, fuck, you, you're, cool...  \n",
       "8   [yeah, real, music, agh, yo, just, get, in, th...  \n",
       "9   [i'm, dedicated, the, definition, of, dedicati...  \n",
       "10  [yeah, i, wanna, know, i, wanna, know, i, wann...  \n",
       "11  [breathe, breathe, i, grew, up, in, a, small, ...  \n",
       "12  [yeah, most, of, my, life's, full, of, sad, da...  \n",
       "13  [i, heard, you, told, your, friends, that, i'm...  \n",
       "14  [good, job, first, yeah, my, wrist, so, cold, ...  \n",
       "15  [take, my, hand, and, rock, it, real, slow, i,...  \n",
       "16  [yeah, yeah, there's, a, difference, oh, yeah,...  \n",
       "17  [yeah, make, money, off, of, bein', myself, ge...  \n",
       "18  [got, you, rolling, papers, got, you, rolling,...  "
      ]
     },
     "execution_count": 137,
     "metadata": {},
     "output_type": "execute_result"
    }
   ],
   "source": [
    "tracks_with_missing_lyrics"
   ]
  },
  {
   "cell_type": "code",
   "execution_count": 163,
   "metadata": {},
   "outputs": [],
   "source": [
    "tracks_with_lyrics = tracks_with_lyrics.append(tracks_with_missing_lyrics)"
   ]
  },
  {
   "cell_type": "code",
   "execution_count": 164,
   "metadata": {},
   "outputs": [],
   "source": [
    "tracks_with_lyrics.sort_values(by=[\"artist\"], inplace=True)"
   ]
  },
  {
   "cell_type": "code",
   "execution_count": 166,
   "metadata": {
    "collapsed": true
   },
   "outputs": [],
   "source": [
    "tracks_with_lyrics.to_csv(\"./data/complete_tracks_with_lyrics.csv\", index=False,)"
   ]
  },
  {
   "cell_type": "code",
   "execution_count": null,
   "metadata": {
    "collapsed": true
   },
   "outputs": [],
   "source": []
  }
 ],
 "metadata": {
  "kernelspec": {
   "display_name": "Python 3",
   "language": "python",
   "name": "python3"
  },
  "language_info": {
   "codemirror_mode": {
    "name": "ipython",
    "version": 3
   },
   "file_extension": ".py",
   "mimetype": "text/x-python",
   "name": "python",
   "nbconvert_exporter": "python",
   "pygments_lexer": "ipython3",
   "version": "3.6.4"
  }
 },
 "nbformat": 4,
 "nbformat_minor": 2
}
