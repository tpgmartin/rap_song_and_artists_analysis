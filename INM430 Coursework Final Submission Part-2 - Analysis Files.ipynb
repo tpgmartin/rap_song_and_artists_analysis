{
 "cells": [
  {
   "cell_type": "markdown",
   "metadata": {},
   "source": [
    "# INM430 Coursework Final Submission Part-2 - Analysis Files"
   ]
  },
  {
   "cell_type": "markdown",
   "metadata": {},
   "source": [
    "This notebook is to support the written report pdf file. This notebook documents all the steps required for the project submission as listed in the table of contents below."
   ]
  },
  {
   "cell_type": "markdown",
   "metadata": {},
   "source": [
    "## Table of Contents\n",
    "1. [Setup](#setup)\n",
    "2. [Loading the Data](#loading-the-data)\n",
    "3. [Data Exploration](#data-exploration)\n",
    "4. [Baseline Model](#baseline-model)\n",
    "5. [Analysis](#analysis)\n",
    "    * 5.1. [TF-IDF Representation](#tf-idf-representation)\n",
    "    * 5.2. [Doc2Vec Representation](#doc2vec-representation)\n",
    "6. [Evaluation](#evaluation)"
   ]
  },
  {
   "cell_type": "markdown",
   "metadata": {},
   "source": [
    "<a name=\"setup\"></a>\n",
    "## 1. Setup"
   ]
  },
  {
   "cell_type": "markdown",
   "metadata": {},
   "source": [
    "Hide errors for presentation purposes"
   ]
  },
  {
   "cell_type": "code",
   "execution_count": 40,
   "metadata": {},
   "outputs": [],
   "source": [
    "# import warnings\n",
    "# warnings.simplefilter(action=\"ignore\", category=FutureWarning)\n",
    "# warnings.filterwarnings(action=\"ignore\", category=DeprecationWarning)\n",
    "\n",
    "import warnings\n",
    "warnings.filterwarnings('ignore')"
   ]
  },
  {
   "cell_type": "markdown",
   "metadata": {},
   "source": [
    "Import dependencies"
   ]
  },
  {
   "cell_type": "code",
   "execution_count": 2,
   "metadata": {
    "collapsed": true
   },
   "outputs": [],
   "source": [
    "from gensim.models.doc2vec import Doc2Vec, TaggedDocument\n",
    "import matplotlib.pyplot as plt\n",
    "import multiprocessing\n",
    "import nltk\n",
    "from nltk.tokenize import word_tokenize\n",
    "import numpy as np\n",
    "import pandas as pd\n",
    "from pipelinehelper import PipelineHelper\n",
    "import re\n",
    "import seaborn as sns\n",
    "from sklearn import utils\n",
    "from sklearn.base import BaseEstimator, TransformerMixin\n",
    "from sklearn.feature_extraction.text import CountVectorizer, TfidfVectorizer, ENGLISH_STOP_WORDS\n",
    "from sklearn.linear_model import LogisticRegression\n",
    "from sklearn.metrics import confusion_matrix, precision_recall_fscore_support\n",
    "from sklearn.model_selection import GridSearchCV, train_test_split\n",
    "from sklearn.naive_bayes import MultinomialNB\n",
    "from sklearn.pipeline import FeatureUnion, Pipeline\n",
    "from sklearn.svm import LinearSVC\n",
    "\n",
    "%matplotlib inline"
   ]
  },
  {
   "cell_type": "markdown",
   "metadata": {},
   "source": [
    "<a name=\"loading-the-data\"></a>\n",
    "## 2. Loading the Data"
   ]
  },
  {
   "cell_type": "markdown",
   "metadata": {},
   "source": [
    "The data was collected through scraping a number of different websites as discussed in the written report. The scripts written for this data collection process are found in the scripts folder. Due to some parsing errors with the web scraper, some lyrics were not returned to appear as empty strings or null values in the CSV file."
   ]
  },
  {
   "cell_type": "code",
   "execution_count": 3,
   "metadata": {},
   "outputs": [],
   "source": [
    "tracks_by_artist = pd.read_csv(\"./data/tracks_with_lyrics_for_top_10_artists.csv\")\n",
    "tracks_by_artist = tracks_by_artist[~tracks_by_artist[\"lyrics\"].isnull()]"
   ]
  },
  {
   "cell_type": "code",
   "execution_count": 4,
   "metadata": {},
   "outputs": [
    {
     "data": {
      "text/html": [
       "<div>\n",
       "<style scoped>\n",
       "    .dataframe tbody tr th:only-of-type {\n",
       "        vertical-align: middle;\n",
       "    }\n",
       "\n",
       "    .dataframe tbody tr th {\n",
       "        vertical-align: top;\n",
       "    }\n",
       "\n",
       "    .dataframe thead th {\n",
       "        text-align: right;\n",
       "    }\n",
       "</style>\n",
       "<table border=\"1\" class=\"dataframe\">\n",
       "  <thead>\n",
       "    <tr style=\"text-align: right;\">\n",
       "      <th></th>\n",
       "      <th>artist</th>\n",
       "      <th>album</th>\n",
       "      <th>track</th>\n",
       "      <th>lyrics</th>\n",
       "    </tr>\n",
       "  </thead>\n",
       "  <tbody>\n",
       "    <tr>\n",
       "      <th>0</th>\n",
       "      <td>T.I.</td>\n",
       "      <td>Trap Muzik</td>\n",
       "      <td>I Can't Quit</td>\n",
       "      <td>[Intro]\\nHuh, hell nah, I can't quit\\nHell nah...</td>\n",
       "    </tr>\n",
       "    <tr>\n",
       "      <th>1</th>\n",
       "      <td>T.I.</td>\n",
       "      <td>Trap Muzik</td>\n",
       "      <td>Be Easy</td>\n",
       "      <td>[Intro]\\nUh-uh, uh-uh, uh\\nAye, where the pian...</td>\n",
       "    </tr>\n",
       "    <tr>\n",
       "      <th>2</th>\n",
       "      <td>T.I.</td>\n",
       "      <td>Trap Muzik</td>\n",
       "      <td>No More Talk</td>\n",
       "      <td>[Verse 1]\\nI'm either running for my life or I...</td>\n",
       "    </tr>\n",
       "    <tr>\n",
       "      <th>3</th>\n",
       "      <td>T.I.</td>\n",
       "      <td>Trap Muzik</td>\n",
       "      <td>Doin My Job</td>\n",
       "      <td>[T.I. - talking]\\nAy I'm working here, know wh...</td>\n",
       "    </tr>\n",
       "    <tr>\n",
       "      <th>4</th>\n",
       "      <td>T.I.</td>\n",
       "      <td>Trap Muzik</td>\n",
       "      <td>24's</td>\n",
       "      <td>[Intro]\\nYeah\\nFor all my real ATL niggas, tha...</td>\n",
       "    </tr>\n",
       "  </tbody>\n",
       "</table>\n",
       "</div>"
      ],
      "text/plain": [
       "  artist       album         track  \\\n",
       "0   T.I.  Trap Muzik  I Can't Quit   \n",
       "1   T.I.  Trap Muzik       Be Easy   \n",
       "2   T.I.  Trap Muzik  No More Talk   \n",
       "3   T.I.  Trap Muzik   Doin My Job   \n",
       "4   T.I.  Trap Muzik          24's   \n",
       "\n",
       "                                              lyrics  \n",
       "0  [Intro]\\nHuh, hell nah, I can't quit\\nHell nah...  \n",
       "1  [Intro]\\nUh-uh, uh-uh, uh\\nAye, where the pian...  \n",
       "2  [Verse 1]\\nI'm either running for my life or I...  \n",
       "3  [T.I. - talking]\\nAy I'm working here, know wh...  \n",
       "4  [Intro]\\nYeah\\nFor all my real ATL niggas, tha...  "
      ]
     },
     "execution_count": 4,
     "metadata": {},
     "output_type": "execute_result"
    }
   ],
   "source": [
    "tracks_by_artist.head()"
   ]
  },
  {
   "cell_type": "code",
   "execution_count": 5,
   "metadata": {},
   "outputs": [
    {
     "data": {
      "text/plain": [
       "(679, 4)"
      ]
     },
     "execution_count": 5,
     "metadata": {},
     "output_type": "execute_result"
    }
   ],
   "source": [
    "tracks_by_artist.shape"
   ]
  },
  {
   "cell_type": "markdown",
   "metadata": {},
   "source": [
    "Have a total of 679 tracks with lyrics with artist name and album title as additional metadata"
   ]
  },
  {
   "cell_type": "markdown",
   "metadata": {},
   "source": [
    "<a name=\"data-exploration\"></a>\n",
    "## 3. Data Exploration"
   ]
  },
  {
   "cell_type": "markdown",
   "metadata": {},
   "source": [
    "The following illustrates the break down of the number of tracks by artist considered in this project. This has implications for the evaluation metrics I will report in the investigation. The following considerations are important to decide the evaluation metrics,\n",
    "\n",
    "* The project deals with a supervised, multiclass classification task,\n",
    "* The classes in the original dataset are unbalanced.\n",
    "\n",
    "For these reasons, I will report the precision, recall, and weighted fscore for each model. Together, these metrics do a better job of indicating the overall accuracy of a classifier, whereas with accuracy alone, there is a risk that we are not correctly identifying a good-performing classifier but rather just one that is biased towards the more populated classes. "
   ]
  },
  {
   "cell_type": "code",
   "execution_count": 6,
   "metadata": {},
   "outputs": [
    {
     "data": {
      "text/plain": [
       "Text(0.5,1,'Total Number of Tracks with Lyrics by Artist')"
      ]
     },
     "execution_count": 6,
     "metadata": {},
     "output_type": "execute_result"
    },
    {
     "data": {
      "image/png": "[encoded data removed]",
      "text/plain": [
       "<Figure size 1152x720 with 1 Axes>"
      ]
     },
     "metadata": {},
     "output_type": "display_data"
    }
   ],
   "source": [
    "total_tracks_by_artist = tracks_by_artist.groupby(\"artist\").agg(\"count\")[[\"track\"]]\n",
    "total_tracks_by_artist = total_tracks_by_artist.reset_index()\n",
    "sns.set(style=\"whitegrid\")\n",
    "fig, ax = plt.subplots(figsize=(16,10))\n",
    "sns.barplot(ax=ax, x=\"artist\", y=\"track\", data=total_tracks_by_artist)\n",
    "ax.set_xlabel(\"Artist\", fontsize=20)\n",
    "ax.set_ylabel(\"Tracks\", fontsize=20)\n",
    "ax.set_title(\"Total Number of Tracks with Lyrics by Artist\", fontsize=32)"
   ]
  },
  {
   "cell_type": "markdown",
   "metadata": {},
   "source": [
    "Same as above but with numbers"
   ]
  },
  {
   "cell_type": "code",
   "execution_count": 7,
   "metadata": {},
   "outputs": [
    {
     "data": {
      "text/plain": [
       "artist\n",
       "Drake          94\n",
       "E-40           39\n",
       "Eminem        101\n",
       "Gucci Mane     87\n",
       "Lil Wayne      73\n",
       "Rick Ross      44\n",
       "Snoop Dogg     52\n",
       "T.I.           68\n",
       "Tech N9ne      74\n",
       "The Game       47\n",
       "Name: track, dtype: int64"
      ]
     },
     "execution_count": 7,
     "metadata": {},
     "output_type": "execute_result"
    }
   ],
   "source": [
    "tracks_by_artist.groupby(\"artist\")[\"track\"].agg(\"count\")"
   ]
  },
  {
   "cell_type": "markdown",
   "metadata": {},
   "source": [
    "<a name=\"baseline-model\"></a>\n",
    "## 4. Baseline Model"
   ]
  },
  {
   "cell_type": "markdown",
   "metadata": {},
   "source": [
    "For a like to like comparison with future text representations and models, this section reports on the testing results of a logistic regression classifier using a Bag-of-Words representation. This is very basic but will help indicate whether choices for later models help to improve on the overall classification task."
   ]
  },
  {
   "cell_type": "code",
   "execution_count": 8,
   "metadata": {
    "collapsed": true
   },
   "outputs": [],
   "source": [
    "train, test = train_test_split(tracks_by_artist, test_size=0.3, random_state=34)\n",
    "y_train, X_train = train[\"artist\"], train\n",
    "y_test, X_test = test[\"artist\"], test"
   ]
  },
  {
   "cell_type": "code",
   "execution_count": 9,
   "metadata": {
    "collapsed": true
   },
   "outputs": [],
   "source": [
    "bow = CountVectorizer()\n",
    "X_train_bow = bow.fit_transform(X_train[\"lyrics\"])\n",
    "X_test_bow = bow.transform(X_test[\"lyrics\"])"
   ]
  },
  {
   "cell_type": "markdown",
   "metadata": {},
   "source": [
    "Perform grid search cross-validation to find the optimal value for the C parameter. The predictions are generated from the model with this value for C."
   ]
  },
  {
   "cell_type": "code",
   "execution_count": 10,
   "metadata": {
    "collapsed": true
   },
   "outputs": [],
   "source": [
    "param_grid = {\"C\": [1e0, 1e1, 1e2, 1e3]}\n",
    "\n",
    "logreg = GridSearchCV(LogisticRegression(), cv=5, param_grid=param_grid)\n",
    "logreg.fit(X_train_bow, y_train.ravel())\n",
    "y_pred = logreg.predict(X_test_bow)\n",
    "\n",
    "prfs = precision_recall_fscore_support(y_test.ravel(), y_pred, average='weighted', labels=np.unique(y_pred))"
   ]
  },
  {
   "cell_type": "markdown",
   "metadata": {},
   "source": [
    "Reported results for baseline model."
   ]
  },
  {
   "cell_type": "code",
   "execution_count": 11,
   "metadata": {},
   "outputs": [
    {
     "name": "stdout",
     "output_type": "stream",
     "text": [
      "Testing Precision: 0.7048856553990449\n",
      "Testing Recall: 0.6862745098039216\n",
      "Testing FScore: 0.686845629812127\n",
      "Logistic Regression Param C: 100.0\n"
     ]
    }
   ],
   "source": [
    "print('Testing Precision: {}'.format(prfs[0]))\n",
    "print('Testing Recall: {}'.format(prfs[1]))\n",
    "print('Testing FScore: {}'.format(prfs[2]))\n",
    "print(\"Logistic Regression Param C: {}\".format(logreg.best_params_[\"C\"]))"
   ]
  },
  {
   "cell_type": "code",
   "execution_count": 15,
   "metadata": {
    "collapsed": true
   },
   "outputs": [],
   "source": [
    "def print_confusion_matrix(confusion_matrix, class_names, figsize = (10,7), fontsize=14):\n",
    "\n",
    "    df_cm = pd.DataFrame(confusion_matrix, index=class_names, columns=class_names)\n",
    "\n",
    "    fig = plt.figure(figsize=figsize)\n",
    "    \n",
    "    heatmap = sns.heatmap(df_cm, annot=True, fmt=\"d\")\n",
    "    heatmap.yaxis.set_ticklabels(heatmap.yaxis.get_ticklabels(), rotation=0, ha='right', fontsize=fontsize)\n",
    "    heatmap.xaxis.set_ticklabels(heatmap.xaxis.get_ticklabels(), rotation=45, ha='right', fontsize=fontsize)\n",
    "\n",
    "    plt.ylabel('True label')\n",
    "    plt.xlabel('Predicted label')"
   ]
  },
  {
   "cell_type": "code",
   "execution_count": 17,
   "metadata": {},
   "outputs": [
    {
     "data": {
      "image/png": "[encoded data removed]",
      "text/plain": [
       "<Figure size 720x504 with 2 Axes>"
      ]
     },
     "metadata": {},
     "output_type": "display_data"
    }
   ],
   "source": [
    "print_confusion_matrix(confusion_matrix(y_test, y_pred), y_test.unique().tolist())"
   ]
  },
  {
   "cell_type": "markdown",
   "metadata": {},
   "source": [
    "<a name=\"analysis\"></a>\n",
    "## 5. Analysis"
   ]
  },
  {
   "cell_type": "markdown",
   "metadata": {},
   "source": [
    "Models to be considered,\n",
    "\n",
    "* Logistic Regression \n",
    "* Linear SVM\n",
    "* Naive Bayes\n",
    "\n",
    "This is because these models have generally been used by previous authors in this task and due to their effectiveness for multilcass problems in general."
   ]
  },
  {
   "cell_type": "markdown",
   "metadata": {},
   "source": [
    "The below function \"best_results_by_model\" is a simple way to extract the equal best performing classifier for each text representation strategy. For each classifier it finds one with the equal best mean cross-validation score against the test set considered."
   ]
  },
  {
   "cell_type": "code",
   "execution_count": 18,
   "metadata": {
    "collapsed": true
   },
   "outputs": [],
   "source": [
    "# Helper function\n",
    "def best_results_by_model(grid_scores):\n",
    "    \n",
    "    best_results_by_model = {}\n",
    "    for score in grid_scores:\n",
    "        model_name = score[0][\"classifier__selected_model\"][0]\n",
    "        if (model_name not in best_results_by_model) or (score[1] > best_results_by_model[model_name][\"mean\"]):\n",
    "            best_results_by_model[model_name] = {\n",
    "                \"params\": score[0],\n",
    "                \"mean\": score[1],\n",
    "                \"results\": score[2],\n",
    "            }\n",
    "    \n",
    "    return best_results_by_model   "
   ]
  },
  {
   "cell_type": "markdown",
   "metadata": {},
   "source": [
    "#### Feature engineering"
   ]
  },
  {
   "cell_type": "markdown",
   "metadata": {},
   "source": [
    "The features I will be considering in this project are listed below. Starting only with the raw lyrics collected by scraping an external website I had to derive all the features used in this project following a process of feature engineering.\n",
    "\n",
    "* Vectorised track lyrics: for each text representation strategy, I will vectorise the raw lyrics according to one of two approaches: TF-IDF and Doc2Vec. This will be the main variable in the project.\n",
    "* Track line count: the total number of lines in each track, breaking on newline characters \"\\n\"\n",
    "* Average line length: the number of words in each line of lyrics, averaged for each track\n",
    "* Unique word proportion: the proportion of unique words out of the total number of words in a given track\n",
    "* Song structure: a TF-IDF vector representation of the song structure. This follows by simply reading in the labels corresponding to different \n",
    "\n",
    "The features considered in this study were chosen either because something similar was used in a related paper, or because they were something I have not otherwise come across in the literature. Overall, I feel like these do a good job at characterising tracks at an artist-level, for instance in the project progress submission notebook I found that \"unique word proportion\" did a fairly good job at characterising artists already."
   ]
  },
  {
   "cell_type": "code",
   "execution_count": null,
   "metadata": {
    "collapsed": true
   },
   "outputs": [],
   "source": [
    "Below are custom transformers used by the pipeline constructor further below. In general these perform"
   ]
  },
  {
   "cell_type": "code",
   "execution_count": 19,
   "metadata": {
    "collapsed": true
   },
   "outputs": [],
   "source": [
    "# Custom Transformers\n",
    "\n",
    "class LyricsExtractor(BaseEstimator, TransformerMixin):\n",
    "    \n",
    "    def fit(self, x, y=None):\n",
    "        return self\n",
    "    \n",
    "    def transform(self, data):\n",
    "        return data[\"lyrics\"].values\n",
    "    \n",
    "class VectorExtractor(BaseEstimator, TransformerMixin):\n",
    "    \n",
    "    def fit(self, x, y=None):\n",
    "        return self\n",
    "    \n",
    "    def transform(self, data):\n",
    "        return data[\"vectors\"].values\n",
    "\n",
    "class LineCountExtractor(BaseEstimator, TransformerMixin):\n",
    "\n",
    "    def fit(self, x, y=None):\n",
    "        return self\n",
    "    \n",
    "    def transform(self, data):\n",
    "        return data[\"lyrics\"].str.split(\"\\n\").apply(len)\n",
    "\n",
    "class AverageLineLengthExtractor(BaseEstimator, TransformerMixin):\n",
    "    \n",
    "    def fit(self, x, y=None):\n",
    "        return self\n",
    "    \n",
    "    def transform(self, data):\n",
    "        return data[\"lyrics\"].str.split(\"\\n\").apply(lambda lines: sum(map(len,lines))/len(lines))\n",
    "\n",
    "class SongStructureExtractor(BaseEstimator, TransformerMixin):\n",
    "\n",
    "    def fit(self, x, y=None):\n",
    "        return self\n",
    "    \n",
    "    def transform(self, data):\n",
    "        return data[\"lyrics\"].apply(lambda lyrics: \" \".join(re.findall(r\"\\[(.*)\\]\", lyrics)))\n",
    "\n",
    "class UniqueWordProportionExtractor(BaseEstimator, TransformerMixin):\n",
    "    \n",
    "    def fit(self, x, y=None):\n",
    "        return self\n",
    "    \n",
    "    def transform(self, data):\n",
    "        return data[\"lyrics\"].apply(lambda lyrics: self.__prop_unique_words(lyrics))\n",
    "    \n",
    "    def __prop_unique_words(self, lyrics):\n",
    "        return self.__get_unique_word_count(lyrics) / self.__get_total_word_count(lyrics)\n",
    "    \n",
    "    def __get_total_word_count(self, lyrics):\n",
    "        return len(re.split(\" |\\n|\", lyrics))\n",
    "    \n",
    "    def __get_unique_word_count(self, lyrics):\n",
    "        return len(set(re.split(\" |\\n|\", lyrics)))\n",
    "\n",
    "class ArrayCaster(BaseEstimator, TransformerMixin):\n",
    "    \n",
    "    def fit(self, x, y=None):\n",
    "        return self\n",
    "    \n",
    "    def transform(self, data):\n",
    "        return np.transpose(np.matrix(data))\n",
    "    \n",
    "class ListCaster(BaseEstimator, TransformerMixin):\n",
    "    \n",
    "    def fit(self, x, y=None):\n",
    "        return self\n",
    "    \n",
    "    def transform(self, data):\n",
    "        return data.tolist()"
   ]
  },
  {
   "cell_type": "code",
   "execution_count": 20,
   "metadata": {
    "collapsed": true
   },
   "outputs": [],
   "source": [
    "# Pipelines\n",
    "song_vectors = Pipeline([\n",
    "                (\"lyrics\", LyricsExtractor()),\n",
    "                (\"tfidf\", TfidfVectorizer(stop_words=ENGLISH_STOP_WORDS, tokenizer=word_tokenize)),\n",
    "            ])\n",
    "\n",
    "line_count = Pipeline([\n",
    "                (\"get_line_count\", LineCountExtractor()),\n",
    "                (\"caster\", ArrayCaster())\n",
    "            ])\n",
    "\n",
    "average_line_length = Pipeline([\n",
    "                (\"get_average_line_length\", AverageLineLengthExtractor()),\n",
    "                (\"caster\", ArrayCaster())\n",
    "            ])\n",
    "\n",
    "unique_word_proportion = Pipeline([\n",
    "                (\"get_unique_word_proportion\", UniqueWordProportionExtractor()),\n",
    "                (\"caster\", ArrayCaster())\n",
    "            ])\n",
    "\n",
    "song_structure = Pipeline([\n",
    "                (\"get_song_strucutre\", SongStructureExtractor()),\n",
    "                (\"tfidf\", TfidfVectorizer(lowercase=False)),\n",
    "            ])"
   ]
  },
  {
   "cell_type": "code",
   "execution_count": 21,
   "metadata": {
    "collapsed": true
   },
   "outputs": [],
   "source": [
    "featureunion = FeatureUnion([\n",
    "    (\"line_count\", line_count),\n",
    "    (\"song_vectors\", song_vectors),\n",
    "    (\"average_line_length\", average_line_length),\n",
    "    (\"unique_word_proportion\", unique_word_proportion),\n",
    "    (\"song_structure\", song_structure)\n",
    "])"
   ]
  },
  {
   "cell_type": "code",
   "execution_count": 22,
   "metadata": {
    "collapsed": true
   },
   "outputs": [],
   "source": [
    "pipeline = Pipeline([\n",
    "    (\"featureunion\", featureunion),\n",
    "    (\"classifier\", PipelineHelper([\n",
    "        (\"MultinomialNB\", MultinomialNB()),\n",
    "        (\"LogisticRegression\", LogisticRegression()),\n",
    "        (\"LinearSVC\", LinearSVC())\n",
    "    ]))\n",
    "])"
   ]
  },
  {
   "cell_type": "code",
   "execution_count": 23,
   "metadata": {},
   "outputs": [],
   "source": [
    "param_grid = {\n",
    "    \"featureunion__transformer_weights\": [\n",
    "        # one feature only\n",
    "        {\"song_vectors\":1,\"line_count\":0, \"average_line_length\":0, \"unique_word_proportion\":0, \"song_structure\":0},\n",
    "        # two features\n",
    "        {\"song_vectors\":1,\"line_count\":0, \"average_line_length\":0, \"unique_word_proportion\":1, \"song_structure\":0},\n",
    "        # three features\n",
    "        {\"song_vectors\":1,\"line_count\":0, \"average_line_length\":1, \"unique_word_proportion\":1, \"song_structure\":1},\n",
    "        {\"song_vectors\":1,\"line_count\":0, \"average_line_length\":1, \"unique_word_proportion\":1, \"song_structure\":1},\n",
    "        # five features\n",
    "        {\"song_vectors\":1,\"line_count\":1, \"average_line_length\": 1, \"unique_word_proportion\": 1, \"song_structure\": 1},\n",
    "    ],\n",
    "    \"classifier__selected_model\": pipeline.named_steps[\"classifier\"].generate({\n",
    "        \"LogisticRegression__C\": [1e0, 1e1, 1e2, 1e3],\n",
    "        \"LinearSVC__C\": [1e0, 1e1, 1e2, 1e3]\n",
    "    })\n",
    "}"
   ]
  },
  {
   "cell_type": "markdown",
   "metadata": {},
   "source": [
    "<a name=\"tf-idf-representation\"></a>\n",
    "### 5.1. TF-IDF Representation"
   ]
  },
  {
   "cell_type": "markdown",
   "metadata": {},
   "source": [
    "The first text representation to be considered will be TF-IDF short for term frequency-inverse document frequent. In this representation, vectors for each song are created by weighting the number of times a given word appears in a song (term frequency). Although like BOW, this approach loses contextual information, i.e. where a given word appeared in relation to another, it does a much better job at capturing the relative importance of a given word for a given song."
   ]
  },
  {
   "cell_type": "markdown",
   "metadata": {},
   "source": [
    "Putting everything above altogether, will run through the pipeline spe"
   ]
  },
  {
   "cell_type": "code",
   "execution_count": 24,
   "metadata": {
    "collapsed": true
   },
   "outputs": [],
   "source": [
    "gs_clf = GridSearchCV(pipeline, param_grid, cv=5)"
   ]
  },
  {
   "cell_type": "code",
   "execution_count": 25,
   "metadata": {
    "collapsed": true
   },
   "outputs": [],
   "source": [
    "train, test = train_test_split(tracks_by_artist, test_size=0.3, random_state=34)\n",
    "y_train, X_train = train[\"artist\"], train\n",
    "y_test, X_test = test[\"artist\"], test"
   ]
  },
  {
   "cell_type": "code",
   "execution_count": 26,
   "metadata": {},
   "outputs": [
    {
     "data": {
      "text/plain": [
       "GridSearchCV(cv=5, error_score='raise',\n",
       "       estimator=Pipeline(memory=None,\n",
       "     steps=[('featureunion', FeatureUnion(n_jobs=1,\n",
       "       transformer_list=[('line_count', Pipeline(memory=None,\n",
       "     steps=[('get_line_count', LineCountExtractor()), ('caster', ArrayCaster())])), ('song_vectors', Pipeline(memory=None,\n",
       "     steps=[('lyrics', LyricsExtractor()), ('tfidf', TfidfVectorizer...andom_state=None, tol=0.0001,\n",
       "     verbose=0)},\n",
       "        include_bypass=False, selected_model=None))]),\n",
       "       fit_params=None, iid=True, n_jobs=1,\n",
       "       param_grid={'featureunion__transformer_weights': [{'song_vectors': 1, 'line_count': 0, 'average_line_length': 0, 'unique_word_proportion': 0, 'song_structure': 0}, {'song_vectors': 1, 'line_count': 0, 'average_line_length': 0, 'unique_word_proportion': 1, 'song_structure': 0}, {'song_vectors': 1, 'l...C', {'C': 10.0}), ('LinearSVC', {'C': 100.0}), ('LinearSVC', {'C': 1000.0}), ('MultinomialNB', {})]},\n",
       "       pre_dispatch='2*n_jobs', refit=True, return_train_score='warn',\n",
       "       scoring=None, verbose=0)"
      ]
     },
     "execution_count": 26,
     "metadata": {},
     "output_type": "execute_result"
    }
   ],
   "source": [
    "gs_clf.fit(X_train, y_train)"
   ]
  },
  {
   "cell_type": "code",
   "execution_count": 29,
   "metadata": {},
   "outputs": [
    {
     "data": {
      "text/plain": [
       "{'LinearSVC': {'mean': 0.8147368421052632,\n",
       "  'params': {'classifier__selected_model': ('LinearSVC', {'C': 100.0}),\n",
       "   'featureunion__transformer_weights': {'average_line_length': 0,\n",
       "    'line_count': 0,\n",
       "    'song_structure': 0,\n",
       "    'song_vectors': 1,\n",
       "    'unique_word_proportion': 0}},\n",
       "  'results': array([0.76767677, 0.82828283, 0.85263158, 0.86021505, 0.76404494])},\n",
       " 'LogisticRegression': {'mean': 0.7957894736842105,\n",
       "  'params': {'classifier__selected_model': ('LogisticRegression',\n",
       "    {'C': 1000.0}),\n",
       "   'featureunion__transformer_weights': {'average_line_length': 0,\n",
       "    'line_count': 0,\n",
       "    'song_structure': 0,\n",
       "    'song_vectors': 1,\n",
       "    'unique_word_proportion': 0}},\n",
       "  'results': array([0.75757576, 0.7979798 , 0.85263158, 0.82795699, 0.74157303])},\n",
       " 'MultinomialNB': {'mean': 0.3705263157894737,\n",
       "  'params': {'classifier__selected_model': ('MultinomialNB', {}),\n",
       "   'featureunion__transformer_weights': {'average_line_length': 0,\n",
       "    'line_count': 0,\n",
       "    'song_structure': 0,\n",
       "    'song_vectors': 1,\n",
       "    'unique_word_proportion': 0}},\n",
       "  'results': array([0.35353535, 0.36363636, 0.38947368, 0.37634409, 0.37078652])}}"
      ]
     },
     "execution_count": 29,
     "metadata": {},
     "output_type": "execute_result"
    }
   ],
   "source": [
    "best_results_by_model(gs_clf.grid_scores_)"
   ]
  },
  {
   "cell_type": "code",
   "execution_count": 30,
   "metadata": {},
   "outputs": [
    {
     "name": "stdout",
     "output_type": "stream",
     "text": [
      "Testing Precision: 0.8256375223072544\n",
      "Testing Recall: 0.8186274509803921\n",
      "Testing FScore: 0.817927798404807\n"
     ]
    }
   ],
   "source": [
    "y_pred = gs_clf.predict(X_test)\n",
    "\n",
    "print('Testing Precision: {}'.format(precision_recall_fscore_support(y_test, y_pred, average='weighted')[0]))\n",
    "print('Testing Recall: {}'.format(precision_recall_fscore_support(y_test, y_pred, average='weighted')[1]))\n",
    "print('Testing FScore: {}'.format(precision_recall_fscore_support(y_test, y_pred, average='weighted')[2]))"
   ]
  },
  {
   "cell_type": "code",
   "execution_count": 31,
   "metadata": {},
   "outputs": [
    {
     "name": "stdout",
     "output_type": "stream",
     "text": [
      "Stored 'gs_clf' (GridSearchCV)\n"
     ]
    }
   ],
   "source": [
    "%store gs_clf"
   ]
  },
  {
   "cell_type": "markdown",
   "metadata": {
    "collapsed": true
   },
   "source": [
    "<a name=\"doc2vec-representation\"></a>\n",
    "### 5.2. Doc2Vec Representation"
   ]
  },
  {
   "cell_type": "code",
   "execution_count": 32,
   "metadata": {
    "collapsed": true
   },
   "outputs": [],
   "source": [
    "train, test = train_test_split(tracks_by_artist, test_size=0.3, random_state=34)\n",
    "y_train, X_train = train[\"artist\"], train\n",
    "y_test, X_test = test[\"artist\"], test"
   ]
  },
  {
   "cell_type": "code",
   "execution_count": 33,
   "metadata": {
    "collapsed": true
   },
   "outputs": [],
   "source": [
    "train_tagged = [TaggedDocument(words=word_tokenize(X_train[\"lyrics\"].tolist()[idx]), tags=y_train.tolist()[idx]) for idx, _ in enumerate(y_train)]\n",
    "test_tagged = [TaggedDocument(words=word_tokenize(X_test[\"lyrics\"].tolist()[idx]), tags=y_test.tolist()[idx]) for idx, _ in enumerate(y_test)]"
   ]
  },
  {
   "cell_type": "code",
   "execution_count": 34,
   "metadata": {
    "collapsed": true
   },
   "outputs": [],
   "source": [
    "model_dbow = Doc2Vec(dm=0, vector_size=1000, sample=0, workers=multiprocessing.cpu_count())\n",
    "model_dbow.build_vocab(train_tagged)"
   ]
  },
  {
   "cell_type": "code",
   "execution_count": 35,
   "metadata": {
    "collapsed": true
   },
   "outputs": [],
   "source": [
    "max_epochs = 30\n",
    "for epoch in range(max_epochs):\n",
    "    model_dbow.train(utils.shuffle(train_tagged), total_examples=model_dbow.corpus_count, epochs=1)\n",
    "    model_dbow.alpha -= 0.002\n",
    "    model_dbow.min_alpha = model_dbow.alpha"
   ]
  },
  {
   "cell_type": "code",
   "execution_count": 36,
   "metadata": {
    "collapsed": true
   },
   "outputs": [],
   "source": [
    "def vec_for_learning(model, tagged_docs):\n",
    "    targets, regressors = zip(*[(doc.tags[0], model.infer_vector(doc.words, steps=20)) for doc in tagged_docs])\n",
    "    return targets, regressors"
   ]
  },
  {
   "cell_type": "code",
   "execution_count": 41,
   "metadata": {},
   "outputs": [],
   "source": [
    "y_train, X_train[\"vectors\"] = vec_for_learning(model_dbow, train_tagged)\n",
    "y_test, X_test[\"vectors\"] = vec_for_learning(model_dbow, test_tagged)"
   ]
  },
  {
   "cell_type": "code",
   "execution_count": 42,
   "metadata": {
    "collapsed": true
   },
   "outputs": [],
   "source": [
    "class ListCaster(BaseEstimator, TransformerMixin):\n",
    "    \n",
    "    def fit(self, x, y=None):\n",
    "        return self\n",
    "    \n",
    "    def transform(self, data):\n",
    "        return data.tolist()\n",
    "\n",
    "song_vectors = Pipeline([\n",
    "                (\"vector\", VectorExtractor()),\n",
    "                (\"tolist\", ListCaster()),\n",
    "            ])"
   ]
  },
  {
   "cell_type": "code",
   "execution_count": 43,
   "metadata": {
    "collapsed": true
   },
   "outputs": [],
   "source": [
    "doc2vec_gs_clf = GridSearchCV(pipeline, param_grid, cv=5)"
   ]
  },
  {
   "cell_type": "code",
   "execution_count": 44,
   "metadata": {},
   "outputs": [
    {
     "data": {
      "text/plain": [
       "GridSearchCV(cv=5, error_score='raise',\n",
       "       estimator=Pipeline(memory=None,\n",
       "     steps=[('featureunion', FeatureUnion(n_jobs=1,\n",
       "       transformer_list=[('line_count', Pipeline(memory=None,\n",
       "     steps=[('get_line_count', LineCountExtractor()), ('caster', ArrayCaster())])), ('song_vectors', Pipeline(memory=None,\n",
       "     steps=[('lyrics', LyricsExtractor()), ('tfidf', TfidfVectorizer...andom_state=None, tol=0.0001,\n",
       "     verbose=0)},\n",
       "        include_bypass=False, selected_model=None))]),\n",
       "       fit_params=None, iid=True, n_jobs=1,\n",
       "       param_grid={'featureunion__transformer_weights': [{'song_vectors': 1, 'line_count': 0, 'average_line_length': 0, 'unique_word_proportion': 0, 'song_structure': 0}, {'song_vectors': 1, 'line_count': 0, 'average_line_length': 0, 'unique_word_proportion': 1, 'song_structure': 0}, {'song_vectors': 1, 'l...C', {'C': 10.0}), ('LinearSVC', {'C': 100.0}), ('LinearSVC', {'C': 1000.0}), ('MultinomialNB', {})]},\n",
       "       pre_dispatch='2*n_jobs', refit=True, return_train_score='warn',\n",
       "       scoring=None, verbose=0)"
      ]
     },
     "execution_count": 44,
     "metadata": {},
     "output_type": "execute_result"
    }
   ],
   "source": [
    "doc2vec_gs_clf.fit(X_train, list(y_train))"
   ]
  },
  {
   "cell_type": "code",
   "execution_count": 45,
   "metadata": {},
   "outputs": [
    {
     "data": {
      "text/plain": [
       "{'LinearSVC': {'mean': 0.783157894736842,\n",
       "  'params': {'classifier__selected_model': ('LinearSVC', {'C': 100.0}),\n",
       "   'featureunion__transformer_weights': {'average_line_length': 0,\n",
       "    'line_count': 0,\n",
       "    'song_structure': 0,\n",
       "    'song_vectors': 1,\n",
       "    'unique_word_proportion': 0}},\n",
       "  'results': array([0.80808081, 0.81443299, 0.77659574, 0.78494624, 0.72826087])},\n",
       " 'LogisticRegression': {'mean': 0.7789473684210526,\n",
       "  'params': {'classifier__selected_model': ('LogisticRegression',\n",
       "    {'C': 1000.0}),\n",
       "   'featureunion__transformer_weights': {'average_line_length': 0,\n",
       "    'line_count': 0,\n",
       "    'song_structure': 0,\n",
       "    'song_vectors': 1,\n",
       "    'unique_word_proportion': 1}},\n",
       "  'results': array([0.81818182, 0.82474227, 0.77659574, 0.72043011, 0.75      ])},\n",
       " 'MultinomialNB': {'mean': 0.29894736842105263,\n",
       "  'params': {'classifier__selected_model': ('MultinomialNB', {}),\n",
       "   'featureunion__transformer_weights': {'average_line_length': 0,\n",
       "    'line_count': 0,\n",
       "    'song_structure': 0,\n",
       "    'song_vectors': 1,\n",
       "    'unique_word_proportion': 0}},\n",
       "  'results': array([0.28282828, 0.28865979, 0.28723404, 0.34408602, 0.29347826])}}"
      ]
     },
     "execution_count": 45,
     "metadata": {},
     "output_type": "execute_result"
    }
   ],
   "source": [
    "best_results_by_model(doc2vec_gs_clf.grid_scores_)"
   ]
  },
  {
   "cell_type": "code",
   "execution_count": 46,
   "metadata": {},
   "outputs": [
    {
     "name": "stdout",
     "output_type": "stream",
     "text": [
      "Testing Precision: 0.7843649206105955\n",
      "Testing Recall: 0.7794117647058824\n",
      "Testing FScore: 0.7759344822911123\n"
     ]
    }
   ],
   "source": [
    "y_pred = doc2vec_gs_clf.predict(X_test)\n",
    "\n",
    "print('Testing Precision: {}'.format(precision_recall_fscore_support(y_test, y_pred, average='weighted')[0]))\n",
    "print('Testing Recall: {}'.format(precision_recall_fscore_support(y_test, y_pred, average='weighted')[1]))\n",
    "print('Testing FScore: {}'.format(precision_recall_fscore_support(y_test, y_pred, average='weighted')[2]))"
   ]
  },
  {
   "cell_type": "code",
   "execution_count": 47,
   "metadata": {},
   "outputs": [
    {
     "name": "stdout",
     "output_type": "stream",
     "text": [
      "Stored 'doc2vec_gs_clf' (GridSearchCV)\n"
     ]
    }
   ],
   "source": [
    "%store doc2vec_gs_clf"
   ]
  },
  {
   "cell_type": "markdown",
   "metadata": {},
   "source": [
    "<a name=\"evaluation\"></a>\n",
    "## 6. Evaluation"
   ]
  },
  {
   "cell_type": "code",
   "execution_count": null,
   "metadata": {
    "collapsed": true
   },
   "outputs": [],
   "source": [
    "The best performing overall approach was ... "
   ]
  }
 ],
 "metadata": {
  "kernelspec": {
   "display_name": "Python 3",
   "language": "python",
   "name": "python3"
  },
  "language_info": {
   "codemirror_mode": {
    "name": "ipython",
    "version": 3
   },
   "file_extension": ".py",
   "mimetype": "text/x-python",
   "name": "python",
   "nbconvert_exporter": "python",
   "pygments_lexer": "ipython3",
   "version": "3.6.4"
  }
 },
 "nbformat": 4,
 "nbformat_minor": 2
}
