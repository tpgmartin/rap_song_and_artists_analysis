{
 "cells": [
  {
   "cell_type": "markdown",
   "metadata": {},
   "source": [
    "# TF-IDF with Logistic Regression"
   ]
  },
  {
   "cell_type": "code",
   "execution_count": 66,
   "metadata": {
    "collapsed": true
   },
   "outputs": [],
   "source": [
    "import matplotlib.pyplot as plt\n",
    "import numpy as np\n",
    "import pandas as pd\n",
    "import re\n",
    "from scipy.spatial.distance import cosine\n",
    "from sklearn.feature_extraction.text import TfidfVectorizer, ENGLISH_STOP_WORDS\n",
    "from sklearn.linear_model import LogisticRegression\n",
    "from sklearn.naive_bayes import GaussianNB\n",
    "from sklearn.metrics import accuracy_score, f1_score\n",
    "from sklearn.metrics import precision_recall_fscore_support\n",
    "from sklearn.model_selection import train_test_split\n",
    "from sklearn.model_selection import StratifiedShuffleSplit\n",
    "from sklearn import utils\n",
    "\n",
    "%matplotlib inline"
   ]
  },
  {
   "cell_type": "code",
   "execution_count": 67,
   "metadata": {
    "collapsed": true
   },
   "outputs": [],
   "source": [
    "tracks_by_artist = pd.read_csv(\"./data/tracks_with_lyrics_for_top_10_artists.csv\")"
   ]
  },
  {
   "cell_type": "code",
   "execution_count": 68,
   "metadata": {},
   "outputs": [
    {
     "data": {
      "text/html": [
       "<div>\n",
       "<style scoped>\n",
       "    .dataframe tbody tr th:only-of-type {\n",
       "        vertical-align: middle;\n",
       "    }\n",
       "\n",
       "    .dataframe tbody tr th {\n",
       "        vertical-align: top;\n",
       "    }\n",
       "\n",
       "    .dataframe thead th {\n",
       "        text-align: right;\n",
       "    }\n",
       "</style>\n",
       "<table border=\"1\" class=\"dataframe\">\n",
       "  <thead>\n",
       "    <tr style=\"text-align: right;\">\n",
       "      <th></th>\n",
       "      <th>artist</th>\n",
       "      <th>album</th>\n",
       "      <th>track</th>\n",
       "      <th>lyrics</th>\n",
       "    </tr>\n",
       "  </thead>\n",
       "  <tbody>\n",
       "    <tr>\n",
       "      <th>0</th>\n",
       "      <td>T.I.</td>\n",
       "      <td>Trap Muzik</td>\n",
       "      <td>I Can't Quit</td>\n",
       "      <td>[Intro]\\nHuh, hell nah, I can't quit\\nHell nah...</td>\n",
       "    </tr>\n",
       "    <tr>\n",
       "      <th>1</th>\n",
       "      <td>T.I.</td>\n",
       "      <td>Trap Muzik</td>\n",
       "      <td>Be Easy</td>\n",
       "      <td>[Intro]\\nUh-uh, uh-uh, uh\\nAye, where the pian...</td>\n",
       "    </tr>\n",
       "    <tr>\n",
       "      <th>2</th>\n",
       "      <td>T.I.</td>\n",
       "      <td>Trap Muzik</td>\n",
       "      <td>No More Talk</td>\n",
       "      <td>[Verse 1]\\nI'm either running for my life or I...</td>\n",
       "    </tr>\n",
       "    <tr>\n",
       "      <th>3</th>\n",
       "      <td>T.I.</td>\n",
       "      <td>Trap Muzik</td>\n",
       "      <td>Doin My Job</td>\n",
       "      <td>[T.I. - talking]\\nAy I'm working here, know wh...</td>\n",
       "    </tr>\n",
       "    <tr>\n",
       "      <th>4</th>\n",
       "      <td>T.I.</td>\n",
       "      <td>Trap Muzik</td>\n",
       "      <td>24's</td>\n",
       "      <td>[Intro]\\nYeah\\nFor all my real ATL niggas, tha...</td>\n",
       "    </tr>\n",
       "  </tbody>\n",
       "</table>\n",
       "</div>"
      ],
      "text/plain": [
       "  artist       album         track  \\\n",
       "0   T.I.  Trap Muzik  I Can't Quit   \n",
       "1   T.I.  Trap Muzik       Be Easy   \n",
       "2   T.I.  Trap Muzik  No More Talk   \n",
       "3   T.I.  Trap Muzik   Doin My Job   \n",
       "4   T.I.  Trap Muzik          24's   \n",
       "\n",
       "                                              lyrics  \n",
       "0  [Intro]\\nHuh, hell nah, I can't quit\\nHell nah...  \n",
       "1  [Intro]\\nUh-uh, uh-uh, uh\\nAye, where the pian...  \n",
       "2  [Verse 1]\\nI'm either running for my life or I...  \n",
       "3  [T.I. - talking]\\nAy I'm working here, know wh...  \n",
       "4  [Intro]\\nYeah\\nFor all my real ATL niggas, tha...  "
      ]
     },
     "execution_count": 68,
     "metadata": {},
     "output_type": "execute_result"
    }
   ],
   "source": [
    "tracks_by_artist.head()"
   ]
  },
  {
   "cell_type": "code",
   "execution_count": 4,
   "metadata": {},
   "outputs": [
    {
     "data": {
      "text/html": [
       "<div>\n",
       "<style scoped>\n",
       "    .dataframe tbody tr th:only-of-type {\n",
       "        vertical-align: middle;\n",
       "    }\n",
       "\n",
       "    .dataframe tbody tr th {\n",
       "        vertical-align: top;\n",
       "    }\n",
       "\n",
       "    .dataframe thead th {\n",
       "        text-align: right;\n",
       "    }\n",
       "</style>\n",
       "<table border=\"1\" class=\"dataframe\">\n",
       "  <thead>\n",
       "    <tr style=\"text-align: right;\">\n",
       "      <th></th>\n",
       "      <th>artist</th>\n",
       "      <th>album</th>\n",
       "      <th>track</th>\n",
       "      <th>lyrics</th>\n",
       "    </tr>\n",
       "  </thead>\n",
       "  <tbody>\n",
       "    <tr>\n",
       "      <th>751</th>\n",
       "      <td>Tech N9ne</td>\n",
       "      <td>Everready (The Religion)</td>\n",
       "      <td>The Melancholy Maze &amp; My World Intro</td>\n",
       "      <td>[Intro]\\nYou have entered The Melancholy Maze\\...</td>\n",
       "    </tr>\n",
       "    <tr>\n",
       "      <th>752</th>\n",
       "      <td>Tech N9ne</td>\n",
       "      <td>Everready (The Religion)</td>\n",
       "      <td>The Beast</td>\n",
       "      <td>[Intro 1: Krizz Kaliko]\\nInsanity at it's fine...</td>\n",
       "    </tr>\n",
       "    <tr>\n",
       "      <th>753</th>\n",
       "      <td>Tech N9ne</td>\n",
       "      <td>Everready (The Religion)</td>\n",
       "      <td>Intro to the Strange Music Library</td>\n",
       "      <td>[Tech N9ne]\\nYo, what's up?\\nTech N9ne here\\nA...</td>\n",
       "    </tr>\n",
       "    <tr>\n",
       "      <th>754</th>\n",
       "      <td>Tech N9ne</td>\n",
       "      <td>Everready (The Religion)</td>\n",
       "      <td>That Owl</td>\n",
       "      <td>[Verse 1]\\nHe wild out his style 'bout a mile ...</td>\n",
       "    </tr>\n",
       "    <tr>\n",
       "      <th>755</th>\n",
       "      <td>Tech N9ne</td>\n",
       "      <td>Everready (The Religion)</td>\n",
       "      <td>In My Head</td>\n",
       "      <td>First entry to Everready: The Religion\\nIt's c...</td>\n",
       "    </tr>\n",
       "  </tbody>\n",
       "</table>\n",
       "</div>"
      ],
      "text/plain": [
       "        artist                     album  \\\n",
       "751  Tech N9ne  Everready (The Religion)   \n",
       "752  Tech N9ne  Everready (The Religion)   \n",
       "753  Tech N9ne  Everready (The Religion)   \n",
       "754  Tech N9ne  Everready (The Religion)   \n",
       "755  Tech N9ne  Everready (The Religion)   \n",
       "\n",
       "                                    track  \\\n",
       "751  The Melancholy Maze & My World Intro   \n",
       "752                             The Beast   \n",
       "753    Intro to the Strange Music Library   \n",
       "754                              That Owl   \n",
       "755                            In My Head   \n",
       "\n",
       "                                                lyrics  \n",
       "751  [Intro]\\nYou have entered The Melancholy Maze\\...  \n",
       "752  [Intro 1: Krizz Kaliko]\\nInsanity at it's fine...  \n",
       "753  [Tech N9ne]\\nYo, what's up?\\nTech N9ne here\\nA...  \n",
       "754  [Verse 1]\\nHe wild out his style 'bout a mile ...  \n",
       "755  First entry to Everready: The Religion\\nIt's c...  "
      ]
     },
     "execution_count": 4,
     "metadata": {},
     "output_type": "execute_result"
    }
   ],
   "source": [
    "tracks_by_artist = tracks_by_artist[~tracks_by_artist[\"lyrics\"].isnull()]\n",
    "tracks_by_artist.tail()"
   ]
  },
  {
   "cell_type": "code",
   "execution_count": 5,
   "metadata": {
    "collapsed": true
   },
   "outputs": [],
   "source": [
    "# sample = tracks_by_artist[tracks_by_artist[\"artist\"].isin([\"2 Chainz\",\"A$AP Rocky\"])]"
   ]
  },
  {
   "cell_type": "code",
   "execution_count": 6,
   "metadata": {
    "collapsed": true
   },
   "outputs": [],
   "source": [
    "# Helper functions\n",
    "\n",
    "def tokenizer(raw_lyrics):\n",
    "    # Some choices here are specific to the format of Genius lyrics, want to remove non-vocalised \n",
    "    # text in square brackets, and other text not part of the main song body such as adlibs in \n",
    "    # round brackets\n",
    "    raw_lyrics = re.sub(\"([\\(\\[].*?[\\)\\]])|([^\\w\\d'\\s]+)\", \"\", raw_lyrics)\n",
    "    raw_lyrics = re.sub(\"\\n\", \" \", raw_lyrics)\n",
    "    # Ignore case    \n",
    "    raw_lyrics = raw_lyrics.lower()\n",
    "    word_list = raw_lyrics.split()\n",
    "\n",
    "    return word_list\n",
    "\n",
    "def normalise_vector(vector):\n",
    "    return vector / np.sqrt(np.dot(vector,vector))\n",
    "\n",
    "def add_vectors(vectors):\n",
    "    return normalise_vector(np.sum(vectors, axis=0))\n",
    "\n",
    "def ranked_words_by_weighting(vector, top_n):\n",
    "    return sorted(zip(vectorizer.get_feature_names(), vector), key=lambda x: x[1], reverse=True)[:top_n]\n",
    "\n",
    "def most_representative_songs(vector, tracks_by_artist, top_n):\n",
    "    df = tracks_by_artist.copy()\n",
    "    df[\"dist\"] = df[\"normalised_vectors\"].apply(lambda target: cosine(vector, target))\n",
    "    df.sort_values(\"dist\", inplace=True)\n",
    "    return df[:top_n]\n",
    "\n",
    "def most_similar_artists(vector, artist_vectors, top_n):\n",
    "    df = artist_vectors.reset_index().copy()\n",
    "    df[\"dist\"] = df[\"normalised_vectors\"].apply(lambda target: cosine(vector, target))\n",
    "    df.sort_values(\"dist\", inplace=True)\n",
    "    return df[1:top_n+1]"
   ]
  },
  {
   "cell_type": "code",
   "execution_count": 7,
   "metadata": {
    "collapsed": true
   },
   "outputs": [],
   "source": [
    "# ignore for time being\n",
    "# hyperparamters = [\n",
    "#     {\"max_df\": 1.0, \"min_df\": 1}, # i.e. default values\n",
    "#     {\"max_df\": 1.0, \"min_df\": 0.001},\n",
    "#     {\"max_df\": 0.7, \"min_df\": 1},\n",
    "#     {\"max_df\": 0.7, \"min_df\": 0.001}\n",
    "# ]"
   ]
  },
  {
   "cell_type": "code",
   "execution_count": 8,
   "metadata": {
    "collapsed": true
   },
   "outputs": [],
   "source": [
    "# for hp in hyperparamters:\n",
    "\n",
    "vectorizer = TfidfVectorizer(\n",
    "    stop_words=ENGLISH_STOP_WORDS,\n",
    "#     lowercase=False,\n",
    "    max_df=0.7,\n",
    "#     min_df=5,\n",
    "#     ngram_range=(1,5),\n",
    "#     tokenizer=tokenizer,\n",
    "#     norm=None\n",
    ")\n",
    "\n",
    "tracks_by_artist_copy = tracks_by_artist.copy()\n",
    "tracks_by_artist_copy[\"unnormalised_vectors\"] = list(vectorizer.fit_transform(tracks_by_artist_copy[\"lyrics\"].values).toarray())\n",
    "tracks_by_artist_copy[\"normalised_vectors\"] = tracks_by_artist_copy[\"unnormalised_vectors\"].apply(normalise_vector)\n",
    "tracks_by_artist_copy = tracks_by_artist_copy[tracks_by_artist_copy[\"unnormalised_vectors\"].apply(sum) != 0]"
   ]
  },
  {
   "cell_type": "code",
   "execution_count": 9,
   "metadata": {
    "collapsed": true
   },
   "outputs": [],
   "source": [
    "# train, test = train_test_split(tracks_by_artist_copy, test_size=0.3, random_state=42)"
   ]
  },
  {
   "cell_type": "code",
   "execution_count": 37,
   "metadata": {
    "collapsed": true
   },
   "outputs": [],
   "source": [
    "data_x = tracks_by_artist_copy[['normalised_vectors']].as_matrix()\n",
    "data_y = tracks_by_artist_copy[['artist']].as_matrix()\n",
    "stratified_split = StratifiedShuffleSplit(n_splits=2, test_size=0.3, random_state=34)\n",
    "for train_index, test_index in stratified_split.split(data_x, data_y):\n",
    "    x_train, x_test = data_x[train_index], data_x[test_index]\n",
    "    y_train, y_test = data_y[train_index], data_y[test_index]\n",
    "\n",
    "X_train = [x[0] for x in x_train.tolist()]\n",
    "X_test = [x[0] for x in x_test.tolist()]"
   ]
  },
  {
   "cell_type": "code",
   "execution_count": 38,
   "metadata": {
    "collapsed": true
   },
   "outputs": [],
   "source": [
    "# y_train, X_train = train[\"artist\"].values.tolist(), train[\"normalised_vectors\"].values.tolist()\n",
    "# y_test, X_test = test[\"artist\"].values.tolist(), test[\"normalised_vectors\"].values.tolist()"
   ]
  },
  {
   "cell_type": "code",
   "execution_count": 47,
   "metadata": {},
   "outputs": [
    {
     "name": "stdout",
     "output_type": "stream",
     "text": [
      "Testing accuracy 0.8186274509803921\n",
      "Testing Precision: 0.823093891861945\n",
      "Testing Recall: 0.8186274509803921\n",
      "Testing FScore: 0.8155731648308945\n",
      "Testing Support: None\n"
     ]
    }
   ],
   "source": [
    "logreg = LogisticRegression(n_jobs=1, C=1e6)\n",
    "logreg.fit(X_train, y_train.ravel())\n",
    "y_pred = logreg.predict(X_test)\n",
    "\n",
    "prfs = precision_recall_fscore_support(y_test, y_pred, average='weighted', labels=np.unique(y_pred))\n",
    "print('Testing accuracy %s' % accuracy_score(y_test, y_pred))\n",
    "print('Testing Precision: {}'.format(prfs[0]))\n",
    "print('Testing Recall: {}'.format(prfs[1]))\n",
    "print('Testing FScore: {}'.format(prfs[2]))\n",
    "print('Testing Support: {}'.format(prfs[3]))"
   ]
  },
  {
   "cell_type": "code",
   "execution_count": 60,
   "metadata": {},
   "outputs": [
    {
     "name": "stdout",
     "output_type": "stream",
     "text": [
      "Testing accuracy 0.14705882352941177\n",
      "Testing Precision: 0.14705882352941177\n",
      "Testing Recall: 1.0\n",
      "Testing FScore: 0.25641025641025644\n",
      "Testing Support: None\n"
     ]
    }
   ],
   "source": [
    "from sklearn import svm\n",
    "\n",
    "svc = svm.SVC(gamma=0.01, decision_function_shape='ovr', kernel=\"rbf\")\n",
    "svc.fit(X_train, y_train.ravel())\n",
    "y_pred = svc.predict(X_test)\n",
    "\n",
    "# Handle case where label not predicted in test case\n",
    "prfs = precision_recall_fscore_support(y_test, y_pred, average='weighted', labels=np.unique(y_pred))\n",
    "print('Testing accuracy %s' % accuracy_score(y_test, y_pred))\n",
    "print('Testing Precision: {}'.format(prfs[0]))\n",
    "print('Testing Recall: {}'.format(prfs[1]))\n",
    "print('Testing FScore: {}'.format(prfs[2]))\n",
    "print('Testing Support: {}'.format(prfs[3]))"
   ]
  },
  {
   "cell_type": "code",
   "execution_count": 61,
   "metadata": {},
   "outputs": [
    {
     "name": "stdout",
     "output_type": "stream",
     "text": [
      "Testing accuracy 0.8137254901960784\n",
      "Testing Precision: 0.8251199175218716\n",
      "Testing Recall: 0.8137254901960784\n",
      "Testing FScore: 0.81093557446316\n",
      "Testing Support: None\n"
     ]
    }
   ],
   "source": [
    "from sklearn import svm\n",
    "\n",
    "# svc = svm.SVC(gamma='scale', decision_function_shape='ovo')\n",
    "linear_svc = svm.LinearSVC()\n",
    "linear_svc.fit(X_train, y_train.ravel())\n",
    "y_pred = linear_svc.predict(X_test)\n",
    "\n",
    "# Handle case where label not predicted in test case\n",
    "prfs = precision_recall_fscore_support(y_test, y_pred, average='weighted', labels=np.unique(y_pred))\n",
    "print('Testing accuracy %s' % accuracy_score(y_test, y_pred))\n",
    "print('Testing Precision: {}'.format(prfs[0]))\n",
    "print('Testing Recall: {}'.format(prfs[1]))\n",
    "print('Testing FScore: {}'.format(prfs[2]))\n",
    "print('Testing Support: {}'.format(prfs[3]))"
   ]
  },
  {
   "cell_type": "code",
   "execution_count": 65,
   "metadata": {},
   "outputs": [
    {
     "name": "stdout",
     "output_type": "stream",
     "text": [
      "Testing accuracy 0.46078431372549017\n",
      "Testing Precision: 0.5540927482103953\n",
      "Testing Recall: 0.46078431372549017\n",
      "Testing FScore: 0.4514795579349068\n",
      "Testing Support: None\n"
     ]
    }
   ],
   "source": [
    "nb = GaussianNB()\n",
    "nb.fit(X_train, y_train.ravel())\n",
    "y_pred = nb.predict(X_test)\n",
    "\n",
    "# Handle case where label not predicted in test case\n",
    "prfs = precision_recall_fscore_support(y_test, y_pred, average='weighted', labels=np.unique(y_pred))\n",
    "print('Testing accuracy %s' % accuracy_score(y_test, y_pred))\n",
    "print('Testing Precision: {}'.format(prfs[0]))\n",
    "print('Testing Recall: {}'.format(prfs[1]))\n",
    "print('Testing FScore: {}'.format(prfs[2]))\n",
    "print('Testing Support: {}'.format(prfs[3]))"
   ]
  },
  {
   "cell_type": "code",
   "execution_count": null,
   "metadata": {
    "collapsed": true
   },
   "outputs": [],
   "source": []
  }
 ],
 "metadata": {
  "kernelspec": {
   "display_name": "Python 3",
   "language": "python",
   "name": "python3"
  },
  "language_info": {
   "codemirror_mode": {
    "name": "ipython",
    "version": 3
   },
   "file_extension": ".py",
   "mimetype": "text/x-python",
   "name": "python",
   "nbconvert_exporter": "python",
   "pygments_lexer": "ipython3",
   "version": "3.6.4"
  }
 },
 "nbformat": 4,
 "nbformat_minor": 2
}
