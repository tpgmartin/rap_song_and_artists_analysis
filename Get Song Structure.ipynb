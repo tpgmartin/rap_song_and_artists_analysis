{
 "cells": [
  {
   "cell_type": "code",
   "execution_count": 1,
   "metadata": {
    "collapsed": true
   },
   "outputs": [],
   "source": [
    "from gensim.models.doc2vec import Doc2Vec, TaggedDocument\n",
    "import matplotlib.pyplot as plt\n",
    "import multiprocessing\n",
    "import nltk\n",
    "from nltk.tokenize import word_tokenize\n",
    "import numpy as np\n",
    "import pandas as pd\n",
    "from pipelinehelper import PipelineHelper\n",
    "import re\n",
    "import seaborn as sns\n",
    "from sklearn import utils\n",
    "from sklearn.base import BaseEstimator, TransformerMixin\n",
    "from sklearn.feature_extraction.text import CountVectorizer, TfidfVectorizer, ENGLISH_STOP_WORDS\n",
    "from sklearn.linear_model import LogisticRegression\n",
    "from sklearn.metrics import precision_recall_fscore_support\n",
    "from sklearn.model_selection import GridSearchCV, train_test_split\n",
    "from sklearn.naive_bayes import MultinomialNB\n",
    "from sklearn.pipeline import FeatureUnion, Pipeline\n",
    "from sklearn.svm import LinearSVC\n",
    "\n",
    "%matplotlib inline"
   ]
  },
  {
   "cell_type": "code",
   "execution_count": 2,
   "metadata": {
    "collapsed": true
   },
   "outputs": [],
   "source": [
    "tracks_by_artist = pd.read_csv(\"./data/tracks_with_lyrics_for_top_10_artists.csv\")\n",
    "tracks_by_artist = tracks_by_artist[~tracks_by_artist[\"lyrics\"].isnull()]"
   ]
  },
  {
   "cell_type": "code",
   "execution_count": 4,
   "metadata": {},
   "outputs": [
    {
     "data": {
      "text/html": [
       "<div>\n",
       "<style scoped>\n",
       "    .dataframe tbody tr th:only-of-type {\n",
       "        vertical-align: middle;\n",
       "    }\n",
       "\n",
       "    .dataframe tbody tr th {\n",
       "        vertical-align: top;\n",
       "    }\n",
       "\n",
       "    .dataframe thead th {\n",
       "        text-align: right;\n",
       "    }\n",
       "</style>\n",
       "<table border=\"1\" class=\"dataframe\">\n",
       "  <thead>\n",
       "    <tr style=\"text-align: right;\">\n",
       "      <th></th>\n",
       "      <th>artist</th>\n",
       "      <th>album</th>\n",
       "      <th>track</th>\n",
       "      <th>lyrics</th>\n",
       "    </tr>\n",
       "  </thead>\n",
       "  <tbody>\n",
       "    <tr>\n",
       "      <th>0</th>\n",
       "      <td>T.I.</td>\n",
       "      <td>Trap Muzik</td>\n",
       "      <td>I Can't Quit</td>\n",
       "      <td>[Intro]\\nHuh, hell nah, I can't quit\\nHell nah...</td>\n",
       "    </tr>\n",
       "    <tr>\n",
       "      <th>1</th>\n",
       "      <td>T.I.</td>\n",
       "      <td>Trap Muzik</td>\n",
       "      <td>Be Easy</td>\n",
       "      <td>[Intro]\\nUh-uh, uh-uh, uh\\nAye, where the pian...</td>\n",
       "    </tr>\n",
       "    <tr>\n",
       "      <th>2</th>\n",
       "      <td>T.I.</td>\n",
       "      <td>Trap Muzik</td>\n",
       "      <td>No More Talk</td>\n",
       "      <td>[Verse 1]\\nI'm either running for my life or I...</td>\n",
       "    </tr>\n",
       "    <tr>\n",
       "      <th>3</th>\n",
       "      <td>T.I.</td>\n",
       "      <td>Trap Muzik</td>\n",
       "      <td>Doin My Job</td>\n",
       "      <td>[T.I. - talking]\\nAy I'm working here, know wh...</td>\n",
       "    </tr>\n",
       "    <tr>\n",
       "      <th>4</th>\n",
       "      <td>T.I.</td>\n",
       "      <td>Trap Muzik</td>\n",
       "      <td>24's</td>\n",
       "      <td>[Intro]\\nYeah\\nFor all my real ATL niggas, tha...</td>\n",
       "    </tr>\n",
       "  </tbody>\n",
       "</table>\n",
       "</div>"
      ],
      "text/plain": [
       "  artist       album         track  \\\n",
       "0   T.I.  Trap Muzik  I Can't Quit   \n",
       "1   T.I.  Trap Muzik       Be Easy   \n",
       "2   T.I.  Trap Muzik  No More Talk   \n",
       "3   T.I.  Trap Muzik   Doin My Job   \n",
       "4   T.I.  Trap Muzik          24's   \n",
       "\n",
       "                                              lyrics  \n",
       "0  [Intro]\\nHuh, hell nah, I can't quit\\nHell nah...  \n",
       "1  [Intro]\\nUh-uh, uh-uh, uh\\nAye, where the pian...  \n",
       "2  [Verse 1]\\nI'm either running for my life or I...  \n",
       "3  [T.I. - talking]\\nAy I'm working here, know wh...  \n",
       "4  [Intro]\\nYeah\\nFor all my real ATL niggas, tha...  "
      ]
     },
     "execution_count": 4,
     "metadata": {},
     "output_type": "execute_result"
    }
   ],
   "source": [
    "tracks_by_artist.head()"
   ]
  },
  {
   "cell_type": "code",
   "execution_count": 6,
   "metadata": {},
   "outputs": [],
   "source": [
    "example = tracks_by_artist.iloc[0][\"lyrics\"]"
   ]
  },
  {
   "cell_type": "code",
   "execution_count": 43,
   "metadata": {},
   "outputs": [
    {
     "data": {
      "text/plain": [
       "['Intro', 'Verse', 'Hook', 'Verse', 'Hook', 'Verse', 'Hook']"
      ]
     },
     "execution_count": 43,
     "metadata": {},
     "output_type": "execute_result"
    }
   ],
   "source": [
    "# def get_song_structure(lyrics):\n",
    "\n",
    "# m = re.findall(r\"\\[([\\w]+)\\]\", example)\n",
    "m = re.findall(r\"\\[(.*)\\]\", example)\n",
    "[word.split(\" \")[0] for word in m]"
   ]
  },
  {
   "cell_type": "code",
   "execution_count": 13,
   "metadata": {},
   "outputs": [
    {
     "data": {
      "text/plain": [
       "'[Intro]\\nHuh, hell nah, I can\\'t quit\\nHell nah, man, we got too much money to be getting shot up\\nStay down, Grand Hustle\\n\\n[Verse 1]\\nLook, I\\'m this far from being a star and just that close to quitting\\nI never should\\'ve came close to missing\\nBut I want to be a musician, pimping, not a politician\\nListen, feel my position, it\\'s a rough transition\\nPlus I\\'m way too deep in the game to be trying to change\\nFor fortune and fame and glamour, I can be in the slammer\\nOr six feet up under Atlanta\\nIt\\'s a blessing to breathe\\nI walk the streets with seven felonies, I\\'m blessed to be free\\nLong as somebody up in heaven who keep blessing a G\\nT.I.P.\\'ll still be blessing CD\\'s\\nSo haters you can see these\\nCause I\\'m back now with something to prove\\nEverything to gain, pimping, nothing to lose\\nI ought to start smacking niggas when it\\'s nothing to do\\nThey too big shoot them in the leg and even the odds\\nCause you ain\\'t hard\\nUnless you ran with Cap and C-Rod\\nTrapped with K.T. and robbed with J.R\\nFucked hoes with D.P\\nBroke bread with J.G\\nSwitched labels like K.P\\nWho the fuck did all that, pimp?\\nMe, even though I\\'d rather go back to slanging drugs and shit\\nIt\\'s a gang of niggas and bitches really love this shit\\nI can\\'t quit\\n\\n[Hook]\\nEven though polices hate, I\\'m legit\\nAnd rappers hate it cause they know I\\'m the shit\\nHell nah, I can\\'t quit\\nSome niggas hating on the money I\\'m getting\\nMost of them hate it cause I\\'m fucking they bitches\\nNah, pimping, I can\\'t quit\\nSome niggas hating on the rocks and the rings\\nSome of them hate cause they don\\'t think I\\'m the King\\nHell nah, I can\\'t quit\\nPeople hate it when you better than them\\nThey ain\\'t hating, start worrying then\\nAye, I\\'m winning, I can\\'t quit\\n\\n[Verse 2]\\nIt\\'s been ten years, an album, and two deals\\nFor real, we all know I should have sold two mill, at least\\nIt\\'s all good though, I flow for the streets\\nI do it for y\\'all\\nEvery weekend see who in the mall\\nStill in the trap signing your shirts, giving you dap\\nKicking it with you then get you and your folk in the club\\nPosing for pictures with girls\\nGive them kisses and hugs\\nPouring out liquor at shows\\nPassing niggas the dro\\nOne of the realest rappers niggas\\'ll know\\nBut niggas be hating\\nTo the point that they be calling the station (\"Don\\'t play his record\")\\nBut they respect it cause I\\'m ready and focused\\nAnd I see they petty and bogus\\nI want you to know this\\nBut most of you know this\\nNiggas in the game ain\\'t real\\nGot to stay selling records cause the fame ain\\'t shit\\nAnd fuck the units that they name will sell\\nIt\\'ll break your heart to see your favorite rappers lame as hell\\nI can\\'t quit\\n\\n[Hook]\\nEven though polices hate, I\\'m legit\\nAnd rappers hate it, cause they know I\\'m the shit\\nHell nah, I can\\'t quit\\nSome niggas hating on the money I\\'m getting\\nMost of them hate it cause I\\'m fucking they bitches\\nNah, pimping, I can\\'t quit\\nSome niggas hating on the rocks and the rings\\nSome of them hate cause they know I\\'m the King\\nHell nah, I can\\'t quit\\nPeople hate it when you better than them\\nThey ain\\'t hating start worrying then\\nAye, I\\'m winning, I can\\'t quit\\n\\n[Verse 3]\\nYou can please some of the people, some of the time\\nWith some of your rhymes\\nBut they may not like one of the lines\\nI\\'ll tell you what\\nI\\'ll let you criticize me one at a time\\nThose of you who think I\\'m too cocky, get in front of the line\\nWhether you don\\'t like my ego or my arrogant flow\\nDon\\'t like that when you say I\\'m tight, I say, \"I already know\"\\nDon\\'t like how I was talking shit before my album could blow\\nThinking I need to calm it down be more like the average Joe\\nSo, fuck you, them thoughts, and that little house you think I\\'m in\\nGet a Benz, I\\'ll value your opinion then\\nThink I give a fuck how many time my record spin?\\nFuck what you recommend\\nI\\'m back again! (Look, pimping)\\nI can\\'t quit\\n\\n[Hook]\\nEven though polices hate, I\\'m legit\\nAnd rappers hate it, cause they know I\\'m the shit\\nHell nah, I can\\'t quit\\nSome niggas hating on the money I\\'m getting\\nMost of them hate it cause I\\'m fucking they bitches\\nNah, pimping, I can\\'t quit\\nSome niggas hating on the rocks and the rings\\nSome of them hate cause they know I\\'m the King\\nHell nah, I can\\'t quit\\nPeople hate it when you better than them\\nThey ain\\'t hating start worrying then\\nAye, I\\'m winning, I can\\'t quit'"
      ]
     },
     "execution_count": 13,
     "metadata": {},
     "output_type": "execute_result"
    }
   ],
   "source": [
    "example"
   ]
  },
  {
   "cell_type": "code",
   "execution_count": null,
   "metadata": {
    "collapsed": true
   },
   "outputs": [],
   "source": [
    "# for hp in hyperparamters:\n",
    "\n",
    "vectorizer = TfidfVectorizer(\n",
    "    stop_words=ENGLISH_STOP_WORDS,\n",
    "#     lowercase=False,\n",
    "    max_df=0.7,\n",
    "#     min_df=5,\n",
    "#     ngram_range=(1,5),\n",
    "#     tokenizer=tokenizer,\n",
    "#     norm=None\n",
    ")\n",
    "\n",
    "tracks_by_artist_copy = tracks_by_artist.copy()\n",
    "tracks_by_artist_copy[\"unnormalised_vectors\"] = list(vectorizer.fit_transform(tracks_by_artist_copy[\"lyrics\"].values).toarray())\n",
    "tracks_by_artist_copy[\"normalised_vectors\"] = tracks_by_artist_copy[\"unnormalised_vectors\"].apply(normalise_vector)\n",
    "tracks_by_artist_copy = tracks_by_artist_copy[tracks_by_artist_copy[\"unnormalised_vectors\"].apply(sum) != 0]"
   ]
  }
 ],
 "metadata": {
  "kernelspec": {
   "display_name": "Python 3",
   "language": "python",
   "name": "python3"
  },
  "language_info": {
   "codemirror_mode": {
    "name": "ipython",
    "version": 3
   },
   "file_extension": ".py",
   "mimetype": "text/x-python",
   "name": "python",
   "nbconvert_exporter": "python",
   "pygments_lexer": "ipython3",
   "version": "3.6.4"
  }
 },
 "nbformat": 4,
 "nbformat_minor": 2
}
