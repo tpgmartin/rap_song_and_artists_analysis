{
 "cells": [
  {
   "cell_type": "code",
   "execution_count": 1,
   "metadata": {
    "collapsed": true
   },
   "outputs": [],
   "source": [
    "from gensim.models.doc2vec import Doc2Vec, TaggedDocument\n",
    "import matplotlib.pyplot as plt\n",
    "import multiprocessing\n",
    "import nltk\n",
    "from nltk.tokenize import word_tokenize\n",
    "import numpy as np\n",
    "import pandas as pd\n",
    "from pipelinehelper import PipelineHelper\n",
    "import re\n",
    "import seaborn as sns\n",
    "from sklearn import utils\n",
    "from sklearn.base import BaseEstimator, TransformerMixin\n",
    "from sklearn.feature_extraction.text import CountVectorizer, TfidfVectorizer, ENGLISH_STOP_WORDS\n",
    "from sklearn.linear_model import LogisticRegression\n",
    "from sklearn.metrics import precision_recall_fscore_support\n",
    "from sklearn.model_selection import GridSearchCV, train_test_split\n",
    "from sklearn.naive_bayes import MultinomialNB\n",
    "from sklearn.pipeline import FeatureUnion, Pipeline\n",
    "from sklearn.svm import LinearSVC\n",
    "\n",
    "%matplotlib inline"
   ]
  },
  {
   "cell_type": "code",
   "execution_count": 2,
   "metadata": {
    "collapsed": true
   },
   "outputs": [],
   "source": [
    "tracks_by_artist = pd.read_csv(\"./data/tracks_with_lyrics_for_top_10_artists.csv\")\n",
    "tracks_by_artist = tracks_by_artist[~tracks_by_artist[\"lyrics\"].isnull()]"
   ]
  },
  {
   "cell_type": "code",
   "execution_count": 3,
   "metadata": {},
   "outputs": [
    {
     "data": {
      "text/html": [
       "<div>\n",
       "<style scoped>\n",
       "    .dataframe tbody tr th:only-of-type {\n",
       "        vertical-align: middle;\n",
       "    }\n",
       "\n",
       "    .dataframe tbody tr th {\n",
       "        vertical-align: top;\n",
       "    }\n",
       "\n",
       "    .dataframe thead th {\n",
       "        text-align: right;\n",
       "    }\n",
       "</style>\n",
       "<table border=\"1\" class=\"dataframe\">\n",
       "  <thead>\n",
       "    <tr style=\"text-align: right;\">\n",
       "      <th></th>\n",
       "      <th>artist</th>\n",
       "      <th>album</th>\n",
       "      <th>track</th>\n",
       "      <th>lyrics</th>\n",
       "    </tr>\n",
       "  </thead>\n",
       "  <tbody>\n",
       "    <tr>\n",
       "      <th>0</th>\n",
       "      <td>T.I.</td>\n",
       "      <td>Trap Muzik</td>\n",
       "      <td>I Can't Quit</td>\n",
       "      <td>[Intro]\\nHuh, hell nah, I can't quit\\nHell nah...</td>\n",
       "    </tr>\n",
       "    <tr>\n",
       "      <th>1</th>\n",
       "      <td>T.I.</td>\n",
       "      <td>Trap Muzik</td>\n",
       "      <td>Be Easy</td>\n",
       "      <td>[Intro]\\nUh-uh, uh-uh, uh\\nAye, where the pian...</td>\n",
       "    </tr>\n",
       "    <tr>\n",
       "      <th>2</th>\n",
       "      <td>T.I.</td>\n",
       "      <td>Trap Muzik</td>\n",
       "      <td>No More Talk</td>\n",
       "      <td>[Verse 1]\\nI'm either running for my life or I...</td>\n",
       "    </tr>\n",
       "    <tr>\n",
       "      <th>3</th>\n",
       "      <td>T.I.</td>\n",
       "      <td>Trap Muzik</td>\n",
       "      <td>Doin My Job</td>\n",
       "      <td>[T.I. - talking]\\nAy I'm working here, know wh...</td>\n",
       "    </tr>\n",
       "    <tr>\n",
       "      <th>4</th>\n",
       "      <td>T.I.</td>\n",
       "      <td>Trap Muzik</td>\n",
       "      <td>24's</td>\n",
       "      <td>[Intro]\\nYeah\\nFor all my real ATL niggas, tha...</td>\n",
       "    </tr>\n",
       "  </tbody>\n",
       "</table>\n",
       "</div>"
      ],
      "text/plain": [
       "  artist       album         track  \\\n",
       "0   T.I.  Trap Muzik  I Can't Quit   \n",
       "1   T.I.  Trap Muzik       Be Easy   \n",
       "2   T.I.  Trap Muzik  No More Talk   \n",
       "3   T.I.  Trap Muzik   Doin My Job   \n",
       "4   T.I.  Trap Muzik          24's   \n",
       "\n",
       "                                              lyrics  \n",
       "0  [Intro]\\nHuh, hell nah, I can't quit\\nHell nah...  \n",
       "1  [Intro]\\nUh-uh, uh-uh, uh\\nAye, where the pian...  \n",
       "2  [Verse 1]\\nI'm either running for my life or I...  \n",
       "3  [T.I. - talking]\\nAy I'm working here, know wh...  \n",
       "4  [Intro]\\nYeah\\nFor all my real ATL niggas, tha...  "
      ]
     },
     "execution_count": 3,
     "metadata": {},
     "output_type": "execute_result"
    }
   ],
   "source": [
    "tracks_by_artist.head()"
   ]
  },
  {
   "cell_type": "code",
   "execution_count": 14,
   "metadata": {},
   "outputs": [
    {
     "data": {
      "text/plain": [
       "'[Intro]\\nHuh, hell nah, I can\\'t quit\\nHell nah, man, we got too much money to be getting shot up\\nStay down, Grand Hustle\\n\\n[Verse 1]\\nLook, I\\'m this far from being a star and just that close to quitting\\nI never should\\'ve came close to missing\\nBut I want to be a musician, pimping, not a politician\\nListen, feel my position, it\\'s a rough transition\\nPlus I\\'m way too deep in the game to be trying to change\\nFor fortune and fame and glamour, I can be in the slammer\\nOr six feet up under Atlanta\\nIt\\'s a blessing to breathe\\nI walk the streets with seven felonies, I\\'m blessed to be free\\nLong as somebody up in heaven who keep blessing a G\\nT.I.P.\\'ll still be blessing CD\\'s\\nSo haters you can see these\\nCause I\\'m back now with something to prove\\nEverything to gain, pimping, nothing to lose\\nI ought to start smacking niggas when it\\'s nothing to do\\nThey too big shoot them in the leg and even the odds\\nCause you ain\\'t hard\\nUnless you ran with Cap and C-Rod\\nTrapped with K.T. and robbed with J.R\\nFucked hoes with D.P\\nBroke bread with J.G\\nSwitched labels like K.P\\nWho the fuck did all that, pimp?\\nMe, even though I\\'d rather go back to slanging drugs and shit\\nIt\\'s a gang of niggas and bitches really love this shit\\nI can\\'t quit\\n\\n[Hook]\\nEven though polices hate, I\\'m legit\\nAnd rappers hate it cause they know I\\'m the shit\\nHell nah, I can\\'t quit\\nSome niggas hating on the money I\\'m getting\\nMost of them hate it cause I\\'m fucking they bitches\\nNah, pimping, I can\\'t quit\\nSome niggas hating on the rocks and the rings\\nSome of them hate cause they don\\'t think I\\'m the King\\nHell nah, I can\\'t quit\\nPeople hate it when you better than them\\nThey ain\\'t hating, start worrying then\\nAye, I\\'m winning, I can\\'t quit\\n\\n[Verse 2]\\nIt\\'s been ten years, an album, and two deals\\nFor real, we all know I should have sold two mill, at least\\nIt\\'s all good though, I flow for the streets\\nI do it for y\\'all\\nEvery weekend see who in the mall\\nStill in the trap signing your shirts, giving you dap\\nKicking it with you then get you and your folk in the club\\nPosing for pictures with girls\\nGive them kisses and hugs\\nPouring out liquor at shows\\nPassing niggas the dro\\nOne of the realest rappers niggas\\'ll know\\nBut niggas be hating\\nTo the point that they be calling the station (\"Don\\'t play his record\")\\nBut they respect it cause I\\'m ready and focused\\nAnd I see they petty and bogus\\nI want you to know this\\nBut most of you know this\\nNiggas in the game ain\\'t real\\nGot to stay selling records cause the fame ain\\'t shit\\nAnd fuck the units that they name will sell\\nIt\\'ll break your heart to see your favorite rappers lame as hell\\nI can\\'t quit\\n\\n[Hook]\\nEven though polices hate, I\\'m legit\\nAnd rappers hate it, cause they know I\\'m the shit\\nHell nah, I can\\'t quit\\nSome niggas hating on the money I\\'m getting\\nMost of them hate it cause I\\'m fucking they bitches\\nNah, pimping, I can\\'t quit\\nSome niggas hating on the rocks and the rings\\nSome of them hate cause they know I\\'m the King\\nHell nah, I can\\'t quit\\nPeople hate it when you better than them\\nThey ain\\'t hating start worrying then\\nAye, I\\'m winning, I can\\'t quit\\n\\n[Verse 3]\\nYou can please some of the people, some of the time\\nWith some of your rhymes\\nBut they may not like one of the lines\\nI\\'ll tell you what\\nI\\'ll let you criticize me one at a time\\nThose of you who think I\\'m too cocky, get in front of the line\\nWhether you don\\'t like my ego or my arrogant flow\\nDon\\'t like that when you say I\\'m tight, I say, \"I already know\"\\nDon\\'t like how I was talking shit before my album could blow\\nThinking I need to calm it down be more like the average Joe\\nSo, fuck you, them thoughts, and that little house you think I\\'m in\\nGet a Benz, I\\'ll value your opinion then\\nThink I give a fuck how many time my record spin?\\nFuck what you recommend\\nI\\'m back again! (Look, pimping)\\nI can\\'t quit\\n\\n[Hook]\\nEven though polices hate, I\\'m legit\\nAnd rappers hate it, cause they know I\\'m the shit\\nHell nah, I can\\'t quit\\nSome niggas hating on the money I\\'m getting\\nMost of them hate it cause I\\'m fucking they bitches\\nNah, pimping, I can\\'t quit\\nSome niggas hating on the rocks and the rings\\nSome of them hate cause they know I\\'m the King\\nHell nah, I can\\'t quit\\nPeople hate it when you better than them\\nThey ain\\'t hating start worrying then\\nAye, I\\'m winning, I can\\'t quit'"
      ]
     },
     "execution_count": 14,
     "metadata": {},
     "output_type": "execute_result"
    }
   ],
   "source": [
    "tracks_by_artist[\"lyrics\"].values[0]"
   ]
  },
  {
   "cell_type": "code",
   "execution_count": 12,
   "metadata": {},
   "outputs": [
    {
     "data": {
      "text/plain": [
       "['[Intro]\\nHuh, hell nah, I can\\'t quit\\nHell nah, man, we got too much money to be getting shot up\\nStay down, Grand Hustle\\n\\n[Verse 1]\\nLook, I\\'m this far from being a star and just that close to quitting\\nI never should\\'ve came close to missing\\nBut I want to be a musician, pimping, not a politician\\nListen, feel my position, it\\'s a rough transition\\nPlus I\\'m way too deep in the game to be trying to change\\nFor fortune and fame and glamour, I can be in the slammer\\nOr six feet up under Atlanta\\nIt\\'s a blessing to breathe\\nI walk the streets with seven felonies, I\\'m blessed to be free\\nLong as somebody up in heaven who keep blessing a G\\nT.I.P.\\'ll still be blessing CD\\'s\\nSo haters you can see these\\nCause I\\'m back now with something to prove\\nEverything to gain, pimping, nothing to lose\\nI ought to start smacking niggas when it\\'s nothing to do\\nThey too big shoot them in the leg and even the odds\\nCause you ain\\'t hard\\nUnless you ran with Cap and C-Rod\\nTrapped with K.T. and robbed with J.R\\nFucked hoes with D.P\\nBroke bread with J.G\\nSwitched labels like K.P\\nWho the fuck did all that, pimp?\\nMe, even though I\\'d rather go back to slanging drugs and shit\\nIt\\'s a gang of niggas and bitches really love this shit\\nI can\\'t quit\\n\\n[Hook]\\nEven though polices hate, I\\'m legit\\nAnd rappers hate it cause they know I\\'m the shit\\nHell nah, I can\\'t quit\\nSome niggas hating on the money I\\'m getting\\nMost of them hate it cause I\\'m fucking they bitches\\nNah, pimping, I can\\'t quit\\nSome niggas hating on the rocks and the rings\\nSome of them hate cause they don\\'t think I\\'m the King\\nHell nah, I can\\'t quit\\nPeople hate it when you better than them\\nThey ain\\'t hating, start worrying then\\nAye, I\\'m winning, I can\\'t quit\\n\\n[Verse 2]\\nIt\\'s been ten years, an album, and two deals\\nFor real, we all know I should have sold two mill, at least\\nIt\\'s all good though, I flow for the streets\\nI do it for y\\'all\\nEvery weekend see who in the mall\\nStill in the trap signing your shirts, giving you dap\\nKicking it with you then get you and your folk in the club\\nPosing for pictures with girls\\nGive them kisses and hugs\\nPouring out liquor at shows\\nPassing niggas the dro\\nOne of the realest rappers niggas\\'ll know\\nBut niggas be hating\\nTo the point that they be calling the station (\"Don\\'t play his record\")\\nBut they respect it cause I\\'m ready and focused\\nAnd I see they petty and bogus\\nI want you to know this\\nBut most of you know this\\nNiggas in the game ain\\'t real\\nGot to stay selling records cause the fame ain\\'t shit\\nAnd fuck the units that they name will sell\\nIt\\'ll break your heart to see your favorite rappers lame as hell\\nI can\\'t quit\\n\\n[Hook]\\nEven though polices hate, I\\'m legit\\nAnd rappers hate it, cause they know I\\'m the shit\\nHell nah, I can\\'t quit\\nSome niggas hating on the money I\\'m getting\\nMost of them hate it cause I\\'m fucking they bitches\\nNah, pimping, I can\\'t quit\\nSome niggas hating on the rocks and the rings\\nSome of them hate cause they know I\\'m the King\\nHell nah, I can\\'t quit\\nPeople hate it when you better than them\\nThey ain\\'t hating start worrying then\\nAye, I\\'m winning, I can\\'t quit\\n\\n[Verse 3]\\nYou can please some of the people, some of the time\\nWith some of your rhymes\\nBut they may not like one of the lines\\nI\\'ll tell you what\\nI\\'ll let you criticize me one at a time\\nThose of you who think I\\'m too cocky, get in front of the line\\nWhether you don\\'t like my ego or my arrogant flow\\nDon\\'t like that when you say I\\'m tight, I say, \"I already know\"\\nDon\\'t like how I was talking shit before my album could blow\\nThinking I need to calm it down be more like the average Joe\\nSo, fuck you, them thoughts, and that little house you think I\\'m in\\nGet a Benz, I\\'ll value your opinion then\\nThink I give a fuck how many time my record spin?\\nFuck what you recommend\\nI\\'m back again! (Look, pimping)\\nI can\\'t quit\\n\\n[Hook]\\nEven though polices hate, I\\'m legit\\nAnd rappers hate it, cause they know I\\'m the shit\\nHell nah, I can\\'t quit\\nSome niggas hating on the money I\\'m getting\\nMost of them hate it cause I\\'m fucking they bitches\\nNah, pimping, I can\\'t quit\\nSome niggas hating on the rocks and the rings\\nSome of them hate cause they know I\\'m the King\\nHell nah, I can\\'t quit\\nPeople hate it when you better than them\\nThey ain\\'t hating start worrying then\\nAye, I\\'m winning, I can\\'t quit',\n",
       " '[Intro]\\nUh-uh, uh-uh, uh\\nAye, where the piano at shawty?\\nYe-ye-ye-yeah\\nY\\'all ain\\'t never seen a dope boy play the piano and rap at the same time, have you?\\nI\\'mma show you somethin\\', dig this\\n\\n[Verse 1]\\nI\\'m 22 and a vet in the game\\nSay I\\'m, I\\'m supercool, still a threat at the same time\\nRhyme \\'bout the times I invested in \\'caine\\nPleasure and pain in every aspect of the game\\nI\\'m the answer to your prayers if you prayin\\' for change\\nSo, I dare you compare us and say we the same\\nWhen I\\'m, I\\'m climbin\\' the ladder, they stuck in the same mindframe\\nThey accomplishments are nothin\\' to gain\\nEventually, see I\\'m outta your range\\nExcept this rose gold glow from my wrist and my chain\\nI entertain young niggas who slang\\nLike a picture, no frame, see it\\'s simple and plain\\nMy shit bang, spit flames, put niggas to shame\\nFlow so insane, lyrics sick and derranged\\nNow you can\\'t, mention my city unless you mention my name\\nT-I-P-I-M-P, I\\'m the man\\n\\n[Hook]\\nAy be easy - you don\\'t want no trouble with me\\nJust be easy - the drama ain\\'t nothin\\' to me\\nAy be easy - before you have problems just breathe\\nAy be easy - you ain\\'t worth dyin\\', believe me\\nJust be easy - you don\\'t want yo mama to grieve\\nBe easy - well mind yo bizness, don\\'t bother the G\\nBe easy - swear you stuntin\\' but you frontin\\' to me\\nBe easy - behind the scenes or behind yo ?\\nAy, be easy\\n\\n[Verse 2]\\nCame in kissin\\' ass when I came to lead\\nSet the standard for Atlanta, rearranged the lead\\nOkay, so what tha fuck is fame to me?\\nI been plottin\\' since kindergarten, you\\'z a lame to me\\nI give the niggas what they came to see\\nA reflection of one self where they aim to be\\nAs you can see it ain\\'t no change in me\\nAnd you won\\'t meet another nigga off the chain as me\\nI\\'m so fly, no lie, don\\'t deny it, ya feel it\\nSo inspired by my style, decided to try it yoself\\nBet you won\\'t, meet nobody ranked as high as myself\\nThe checks you waitin\\' on, homes, I can sign them myself\\nTote gats, dro smoked that, now I\\'m high\\nSeats way back in the Maybach I ride\\nThrough the streets of the westside, I slap five\\nAnd throw dubs, show love, nigga\\nHate me, why?\\n\\nRepeat Chorus\\n\\n[T.I. talking] (\"Be easy\" in the background)\\nWhat it iz pimp? T.I.P., Trap Muzik, understand that?\\nGrand Hustle pimp! Ay, whus hattnin\\' Toomp?\\nLet\\'s ride out homie! What it iz mayne?\\nP$C, Pimp Squad Click, shawty!\\nUh, uh... A-Town... stay down..\\nKeep it pimpin\\', pimpin\\'!',\n",
       " \"[Verse 1]\\nI'm either running for my life or I'm just waiting to die\\nI'm the supplier of the fire if you're chasing a high\\nIt's never when or why; it's the way that he die\\nDid he stand like a man 'til the day that he die?\\nOr was he reaching for guns or trying to run\\nOr was he outside on the lawn in front of his son\\nAnd if you running your mouth you can die in the slum\\n'Cause in the south where I'm from they dying for crumbs\\nYou can die for your partners or die for your moms\\nOr you could die cause your nigga just heard the alarm, just stealing\\nOr die in a plane—they say it's a bomb\\nWhen they run it into a tower—they just say it's Saddam\\nScreaming Allah the moment that it's hitting the building\\nWith total disregard for all men women and children\\nSee niggas get killed when people mix they money with feelings\\nI'm filling my money up in the wall some in the ceiling\\nI'm just one of the millions of niggas who bucking\\nIt's a war going on and they killing for nothing\\nWe were in denial all awhile they where flicking the buttons\\nI'd rather be dying for something instead of living for nothing\\nEnd of discussion\\n\\n[Hook]\\nHey, ain't no more talk\\nJust start killing niggas off till ain't no more chalk\\nOr no mo' tape, to outline no mo' scenes\\nOr no mo' crimes, no mo' dying for no mo' fiends\\nOr no mo' rims and thing's and no mo' green\\nAnd no mo' chains and ring's that go bling bling\\nAnd no mo' passionate rapping and so it seems\\nIt's just these talent less rappers they all acting\\nAnd I know, so ain't no mo' talk\\nJust start killing niggas off till ain't no mo' chalk\\nOr no mo' tape, to outline no mo' scenes\\nOr no mo' crimes, no mo' dying for no mo' phenes\\nOr no mo' rims and thing's and no mo' green\\nAnd no mo' chains and ring's that go bling bling\\nAnd no mo' passionate rapping and so it seems\\nIt's just these talent less rappers they all acting\\nAnd I know\\n\\n[Verse 2]\\nYeah they said it wasn't no mo' green for no mo' grind\\nNo mo' room for no mo' kings and no more crown to be given but by no means\\nAm I any more conceited than this game needed\\nAnd if I say it believe it, I'm running the region, you see it\\nPopping and blowing, I'm stopping I'm going\\nI'm just, telling, you knowing, you sleeping, or hating\\nAnd I don't care what you niggas is thinking or saying\\nAbout, you know who, the one who say you know what, do you know where\\nBut you the best cuz you goin' care\\nNow I ain't think so either, but we know greed'll make ya\\nDo strange thang's if we ain't people\\nAnd if ya, busting bout nothing, than we ain't equal\\nYou just cussing for nothing and poisoning people\\nAnd it's embarrassing laughing at all of your songs\\nAnd you can hate me right now but you'll miss me 'fore long, when I'm gone\\n\\n[Hook]\",\n",
       " \"[T.I. - talking]\\nAy I'm working here, know what I'm saying\\nTry to put yourself in my shoes for a second\\nIts not personal I'm just sayin though\\n\\n[Verse 1]\\nAy look\\nFrom when the moon came out 'till the sun came up\\nI was supplyin' the days when where they flame up\\nOur mamas passing, by trying to explain us\\nPissing in the bushes like they never house trained us\\nBut, try to understand thats how we came up\\nYou get to know us, you'll love us but you can't change us (naw)\\nReally we rather be rich and famous\\nBut in the mean time were forced to slang dust\\n'Dro or crack cocaine, Penicillin to Rogaine\\nEcstacy, Viagra, whatever'll get the dough mayne\\nI'm tired of people misrepresenting my domain\\nOh you think we out here killing for nothing, hustling\\nFor no gain (picture that)\\n\\n[Hook] (sample playing in the background)\\nHey man I'm just doing my job\\nHey lady, don't mind me I'm just doing my job\\nI don't wanna make your life more harder, I'm just doin my job\\nYou live here, I work here I'm doing my job\\n\\n[Verse 2]\\nI don't know if you don't know, don't care or can't see\\nEvery time something up in the hood, it ain't me\\nAnd I ain't always up to no good and on the creep\\nSo you ain't always gotta pass through the hood without speaking (how you doin'?)\\nWe ain't out here threatening your lives, raping your children\\nWe just out here staying alive, making a million (you know)\\nWorking hard, trying to survive chasing a mill-ion\\nYou hear us talking loud, just think of us as chameleons\\nAdapting to situations, but accusations of stealing\\nAnd burglarizing your house, I mean you just hurting my feelings\\nWe got lives, we wanna live nice too\\nWe got moms, dads, wives, kids just like you\\nBut our options are few, it's hell in high school\\nWhen your helping with the rent lights and the gas bill too\\nSo before you go judging us loving us won't hurt\\nWhen you're under 25, staying alive's hard work\\n\\n[Hook]\\n\\n[Verse 3]\\nAnd for you to see what I'm saying, open eyes will help\\nIf you could think about somebody besides yourself\\nWhy you pointing fingers at me, analyze yourself\\nQuit all that chastising and try to provide some help\\nInstead of calling the law and busting my balls\\nWith all due respect, we don't even be fucking with y'all (maan)\\nAnd we can't help it cause it is like this\\nWe don't like it no more than you that we live like this\\nAlways stuck in the grind, summertime to wintertime\\nCutting school to sell fifty dimes by dinner time\\nSee everything we know we learned from the streets\\nSince thirteen I've been hustling and earning my keep\\n\\n[Hook]\"]"
      ]
     },
     "execution_count": 12,
     "metadata": {},
     "output_type": "execute_result"
    }
   ],
   "source": [
    "r = re.compile(\"\\[(.*)\\]\")\n",
    "\n",
    "tracks_by_artist[\"lyrics\"].values[0]\n",
    "# m = re.findall(r\"\\[(.*)\\]\", example)\n",
    "list(filter(r.match, tracks_by_artist[\"lyrics\"].values[0]))"
   ]
  },
  {
   "cell_type": "code",
   "execution_count": 70,
   "metadata": {},
   "outputs": [
    {
     "name": "stdout",
     "output_type": "stream",
     "text": [
      "[['Intro', 'Verse ', 'Hook', 'Verse ', 'Hook', 'Verse ', 'Hook'], ['Intro', 'Verse ', 'Hook', 'Verse ', 'T.I. talking'], ['Verse ', 'Hook', 'Verse ', 'Hook'], ['T.I. - talking', 'Verse ', 'Hook', 'Verse ', 'Hook', 'Verse ', 'Hook']]\n"
     ]
    }
   ],
   "source": [
    "# def get_song_structure(lyrics):\n",
    "\n",
    "# m = re.findall(r\"\\[([\\w]+)\\]\", example)\n",
    "\n",
    "# m = re.findall(r\"\\[(.*)\\]\", tracks_by_artist[\"lyrics\"].values[0:4])\n",
    "# [word.split(\" \")[0] for word in m]\n",
    "# for track in m:\n",
    "#     for word in track:\n",
    "#         print(''.join([i for i in word if not i.isdigit()]))\n",
    "\n",
    "m = [re.findall(r\"\\[(.*)\\]\", lyrics) for lyrics in tracks_by_artist[\"lyrics\"].values[0:4]]\n",
    "print([[''.join(c for c in word if not c.isdigit()) for word in track] for track in m])"
   ]
  },
  {
   "cell_type": "code",
   "execution_count": 79,
   "metadata": {},
   "outputs": [
    {
     "data": {
      "text/plain": [
       "0           Intro Verse 1 Hook Verse 2 Hook Verse 3 Hook\n",
       "1                Intro Verse 1 Hook Verse 2 T.I. talking\n",
       "2                              Verse 1 Hook Verse 2 Hook\n",
       "3      T.I. - talking Verse 1 Hook Verse 2 Hook Verse...\n",
       "4      Intro Hook Verse 1 Hook Verse 2 Hook Verse 3 Hook\n",
       "5                 Hook Verse 1 Hook Verse 2 Hook Verse 3\n",
       "6                   Ad lib Verse One Hook Verse Two Hook\n",
       "7                 Hook Verse 1 Verse 2 Hook Verse 3 Hook\n",
       "8                        Intro Verse 1 Hook Verse 2 Hook\n",
       "9                                        Rap Verse: T.I.\n",
       "10          Verse 1 Hook Verse 2 Hook Verse 3 Hook Outro\n",
       "11          Intro Verse 1 Hook Verse 2 Hook Verse 3 Hook\n",
       "12                                           Intro Verse\n",
       "13                       Intro Verse 1 Hook Verse 2 Hook\n",
       "14             Intro Verse 1 Hook Verse 2 Hook Hook Hook\n",
       "15      Intro Hook Verse 1 Hook Verse 2 Hook Bridge Hook\n",
       "16     Verse 1: T.I. Hook Verse 2: T.I. Hook Verse 3:...\n",
       "17     T.I. praying over indistinct chatter Verse 1 H...\n",
       "18                     Verse 1 Hook Verse 2 Hook Verse 3\n",
       "20     Intro: Jay Z snippet Verse 1 Chorus Verse 2 Ch...\n",
       "21                          Hook: repeat 2X 2x Hook Hook\n",
       "22     T.I. Talking Verse 1 Chorus Verse 2 Chorus Ver...\n",
       "23            T.I. Lyor Cohen Outro: T.I. Repeat to fade\n",
       "24      Hook Hook Verse 1 Hook Verse 2 Hook Verse 3 Hook\n",
       "26     Intro Hook Verse 1 Hook Verse 2 Hook Verse 3 Hook\n",
       "27     Intro: T.I. T.I. Doug Peterson Repeat to fade ...\n",
       "28          Intro Verse 1 Hook Verse 2 Hook Verse 3 Hook\n",
       "29        Hook Verse 1 Hook Verse 2 Hook Verse 3 Hook 2X\n",
       "30              Hook: T.I. T.I. Hook T.I. Hook T.I. Hook\n",
       "31     T.I.P.: T.I.: T.I.P.: T.I.: T.I.P.: T.I.: T.I....\n",
       "                             ...                        \n",
       "725    Intro: Tech N9ne Verse 1: Tech N9ne Bridge: Te...\n",
       "726    Intro: Waitress Bridge: Tech N9ne Verse 1: Tec...\n",
       "727    Intro: Tech N9ne & Krizz Kaliko ? ? Verse 1: T...\n",
       "728    Intro: spoken by Jim Jones Hook: Girl & Krizz ...\n",
       "729                              Scenario and Tech N9ne \n",
       "730    Intro Hook Verse 1 Hook Verse 2 Hook Verse 3 H...\n",
       "731               Verse 1 Hook Verse 2 Hook Verse 3 Hook\n",
       "732    Intro Hook Verse 1 Hook Verse 2 Hook Verse 3 B...\n",
       "733                       voice mail Killa C & Tech N9ne\n",
       "734                                 Tech N9ne & Makzilla\n",
       "735    Intro: Tech N9ne Verse 1: Tech N9ne Hook: Kriz...\n",
       "736    Dr. Frazier Verse 1: Tech N9ne Hook: Krizz Kal...\n",
       "738                                                     \n",
       "739    Intro: Tech N9ne Hook: Tech N9ne Shout Verse 1...\n",
       "740    Intro: Tech N9ne Verse 1: Tech N9ne Hook: Tech...\n",
       "741    Intro Verse 1 Hook Verse 2 Hook Verse 3 Hook Hook\n",
       "742                                                     \n",
       "743    Intro Sample & Hook Verse 1 Sample & Hook Vers...\n",
       "744                                                     \n",
       "745    Intro: Tech N9ne & Krizz Kaliko Verse 1: Tech ...\n",
       "746    Intro: Amanda Root & Tech N9ne Verse 1: Tech N...\n",
       "747    Female Announcers Tech N9ne performing the sho...\n",
       "748    Verse 1: Tech N9ne Hook: Tech N9ne Verse 2: Te...\n",
       "749    Verse 1: Tech N9ne Hook: Krizz Kaliko & Tech N...\n",
       "750    Intro: Different people talking Verse 1: Tech ...\n",
       "751    Intro Random Guy Bank Teller and Krizz Kaliko ...\n",
       "752    Intro 1: Krizz Kaliko Interlude: Tech N9ne Hoo...\n",
       "753                                            Tech N9ne\n",
       "754    Verse 1 Bridge Verse 2 Hook Verse 3 Bridge Ver...\n",
       "755    Intro: Tech N9ne Verse 1: Tech N9ne Hook: Kriz...\n",
       "Name: lyrics, Length: 679, dtype: object"
      ]
     },
     "execution_count": 79,
     "metadata": {},
     "output_type": "execute_result"
    }
   ],
   "source": [
    "tracks_by_artist[\"lyrics\"].apply(lambda lyrics: \" \".join(re.findall(r\"\\[(.*)\\]\", lyrics)))"
   ]
  },
  {
   "cell_type": "code",
   "execution_count": 51,
   "metadata": {},
   "outputs": [
    {
     "data": {
      "text/plain": [
       "['Intro']"
      ]
     },
     "execution_count": 51,
     "metadata": {},
     "output_type": "execute_result"
    }
   ],
   "source": [
    "word_tokenize(\"Intro\")"
   ]
  },
  {
   "cell_type": "code",
   "execution_count": null,
   "metadata": {
    "collapsed": true
   },
   "outputs": [],
   "source": [
    "# for hp in hyperparamters:\n",
    "\n",
    "vectorizer = TfidfVectorizer(\n",
    "    stop_words=ENGLISH_STOP_WORDS,\n",
    "#     lowercase=False,\n",
    "    max_df=0.7,\n",
    "#     min_df=5,\n",
    "#     ngram_range=(1,5),\n",
    "#     tokenizer=tokenizer,\n",
    "#     norm=None\n",
    ")\n",
    "\n",
    "tracks_by_artist_copy = tracks_by_artist.copy()\n",
    "tracks_by_artist_copy[\"unnormalised_vectors\"] = list(vectorizer.fit_transform(tracks_by_artist_copy[\"lyrics\"].values).toarray())\n",
    "tracks_by_artist_copy[\"normalised_vectors\"] = tracks_by_artist_copy[\"unnormalised_vectors\"].apply(normalise_vector)\n",
    "tracks_by_artist_copy = tracks_by_artist_copy[tracks_by_artist_copy[\"unnormalised_vectors\"].apply(sum) != 0]"
   ]
  }
 ],
 "metadata": {
  "kernelspec": {
   "display_name": "Python 3",
   "language": "python",
   "name": "python3"
  },
  "language_info": {
   "codemirror_mode": {
    "name": "ipython",
    "version": 3
   },
   "file_extension": ".py",
   "mimetype": "text/x-python",
   "name": "python",
   "nbconvert_exporter": "python",
   "pygments_lexer": "ipython3",
   "version": "3.6.4"
  }
 },
 "nbformat": 4,
 "nbformat_minor": 2
}
