{
 "cells": [
  {
   "cell_type": "markdown",
   "metadata": {},
   "source": [
    "# POS-Tagging with Logistic Regression"
   ]
  },
  {
   "cell_type": "code",
   "execution_count": 84,
   "metadata": {
    "collapsed": true
   },
   "outputs": [],
   "source": [
    "import matplotlib.pyplot as plt\n",
    "import numpy as np\n",
    "import pandas as pd\n",
    "import re\n",
    "from scipy.spatial.distance import cosine\n",
    "from sklearn.feature_extraction.text import TfidfVectorizer, ENGLISH_STOP_WORDS\n",
    "from sklearn.linear_model import LogisticRegression\n",
    "from sklearn.naive_bayes import MultinomialNB\n",
    "from sklearn.metrics import accuracy_score, f1_score\n",
    "from sklearn.metrics import precision_recall_fscore_support\n",
    "from sklearn.model_selection import train_test_split\n",
    "from sklearn.model_selection import StratifiedShuffleSplit\n",
    "from sklearn import utils\n",
    "\n",
    "%matplotlib inline"
   ]
  },
  {
   "cell_type": "code",
   "execution_count": 21,
   "metadata": {
    "collapsed": true
   },
   "outputs": [],
   "source": [
    "tracks_by_artist = pd.read_csv(\"./data/tracks_with_lyrics_for_top_10_artists.csv\")"
   ]
  },
  {
   "cell_type": "code",
   "execution_count": 22,
   "metadata": {
    "collapsed": true
   },
   "outputs": [],
   "source": [
    "tracks_by_artist = tracks_by_artist[~tracks_by_artist[\"lyrics\"].isnull()]"
   ]
  },
  {
   "cell_type": "code",
   "execution_count": 72,
   "metadata": {
    "collapsed": true
   },
   "outputs": [],
   "source": [
    "# Helper functions\n",
    "\n",
    "def tokenizer(raw_lyrics):\n",
    "    # Some choices here are specific to the format of Genius lyrics, want to remove non-vocalised \n",
    "    # text in square brackets, and other text not part of the main song body such as adlibs in \n",
    "    # round brackets\n",
    "    raw_lyrics = re.sub(\"([\\(\\[].*?[\\)\\]])|([^\\w\\d'\\s]+)\", \"\", raw_lyrics)\n",
    "    tokens = nltk.word_tokenize(raw_lyrics)\n",
    "    \n",
    "    # remove stop words\n",
    "    tokens = [token for token in tokens if token not in ENGLISH_STOP_WORDS]\n",
    "    \n",
    "    tagged_tokens = nltk.pos_tag(tokens)\n",
    "    token_list = [\"_\".join(el) for el in tagged_tokens]\n",
    "\n",
    "    return token_list\n",
    "\n",
    "def normalise_vector(vector):\n",
    "    return vector / np.sqrt(np.dot(vector,vector))\n",
    "\n",
    "def add_vectors(vectors):\n",
    "    return normalise_vector(np.sum(vectors, axis=0))\n",
    "\n",
    "def ranked_words_by_weighting(vector, top_n):\n",
    "    return sorted(zip(vectorizer.get_feature_names(), vector), key=lambda x: x[1], reverse=True)[:top_n]\n",
    "\n",
    "def most_representative_songs(vector, tracks_by_artist, top_n):\n",
    "    df = tracks_by_artist.copy()\n",
    "    df[\"dist\"] = df[\"normalised_vectors\"].apply(lambda target: cosine(vector, target))\n",
    "    df.sort_values(\"dist\", inplace=True)\n",
    "    return df[:top_n]\n",
    "\n",
    "def most_similar_artists(vector, artist_vectors, top_n):\n",
    "    df = artist_vectors.reset_index().copy()\n",
    "    df[\"dist\"] = df[\"normalised_vectors\"].apply(lambda target: cosine(vector, target))\n",
    "    df.sort_values(\"dist\", inplace=True)\n",
    "    return df[1:top_n+1]"
   ]
  },
  {
   "cell_type": "code",
   "execution_count": 78,
   "metadata": {},
   "outputs": [],
   "source": [
    "# for hp in hyperparamters:\n",
    "\n",
    "vectorizer = TfidfVectorizer(\n",
    "#     lowercase=False,\n",
    "    max_df=0.7, # <- this is used in successful tf-idf vectoriser\n",
    "#     min_df=5,\n",
    "#     ngram_range=(1,5),\n",
    "    tokenizer=tokenizer,\n",
    "#     norm=None\n",
    ")\n",
    "\n",
    "tracks_by_artist_copy = tracks_by_artist.copy()\n",
    "tracks_by_artist_copy[\"unnormalised_vectors\"] = list(vectorizer.fit_transform(tracks_by_artist_copy[\"lyrics\"].values).toarray())\n",
    "tracks_by_artist_copy[\"normalised_vectors\"] = tracks_by_artist_copy[\"unnormalised_vectors\"].apply(normalise_vector)\n",
    "tracks_by_artist_copy = tracks_by_artist_copy[tracks_by_artist_copy[\"unnormalised_vectors\"].apply(sum) != 0]"
   ]
  },
  {
   "cell_type": "code",
   "execution_count": 79,
   "metadata": {},
   "outputs": [],
   "source": [
    "data_x = tracks_by_artist_copy[['normalised_vectors']].as_matrix()\n",
    "data_y = tracks_by_artist_copy[['artist']].as_matrix()\n",
    "stratified_split = StratifiedShuffleSplit(n_splits=2, test_size=0.3, random_state=34)\n",
    "for train_index, test_index in stratified_split.split(data_x, data_y):\n",
    "    x_train, x_test = data_x[train_index], data_x[test_index]\n",
    "    y_train, y_test = data_y[train_index], data_y[test_index]\n",
    "\n",
    "X_train = [x[0] for x in x_train.tolist()]\n",
    "X_test = [x[0] for x in x_test.tolist()]"
   ]
  },
  {
   "cell_type": "code",
   "execution_count": 80,
   "metadata": {},
   "outputs": [
    {
     "name": "stdout",
     "output_type": "stream",
     "text": [
      "Testing accuracy 0.6813725490196079\n",
      "Testing Precision: 0.696865674374325\n",
      "Testing Recall: 0.6813725490196079\n",
      "Testing FScore: 0.671243427628636\n",
      "Testing Support: None\n"
     ]
    }
   ],
   "source": [
    "logreg = LogisticRegression(n_jobs=1, C=1e6)\n",
    "logreg.fit(X_train, y_train.ravel())\n",
    "y_pred = logreg.predict(X_test)\n",
    "\n",
    "from sklearn.metrics import accuracy_score, f1_score\n",
    "from sklearn.metrics import precision_recall_fscore_support\n",
    "\n",
    "prfs = precision_recall_fscore_support(y_test, y_pred, average='weighted')\n",
    "print('Testing accuracy %s' % accuracy_score(y_test, y_pred))\n",
    "print('Testing Precision: {}'.format(prfs[0]))\n",
    "print('Testing Recall: {}'.format(prfs[1]))\n",
    "print('Testing FScore: {}'.format(prfs[2]))\n",
    "print('Testing Support: {}'.format(prfs[3]))"
   ]
  },
  {
   "cell_type": "code",
   "execution_count": 85,
   "metadata": {},
   "outputs": [
    {
     "name": "stdout",
     "output_type": "stream",
     "text": [
      "Testing accuracy 0.696078431372549\n",
      "Testing Precision: 0.7139386808504457\n",
      "Testing Recall: 0.696078431372549\n",
      "Testing FScore: 0.6857084321961219\n",
      "Testing Support: None\n"
     ]
    }
   ],
   "source": [
    "from sklearn import svm\n",
    "\n",
    "# svc = svm.SVC(gamma='scale', decision_function_shape='ovo')\n",
    "linear_svc = svm.LinearSVC()\n",
    "linear_svc.fit(X_train, y_train.ravel())\n",
    "y_pred = linear_svc.predict(X_test)\n",
    "\n",
    "# Handle case where label not predicted in test case\n",
    "prfs = precision_recall_fscore_support(y_test, y_pred, average='weighted', labels=np.unique(y_pred))\n",
    "print('Testing accuracy %s' % accuracy_score(y_test, y_pred))\n",
    "print('Testing Precision: {}'.format(prfs[0]))\n",
    "print('Testing Recall: {}'.format(prfs[1]))\n",
    "print('Testing FScore: {}'.format(prfs[2]))\n",
    "print('Testing Support: {}'.format(prfs[3]))"
   ]
  },
  {
   "cell_type": "code",
   "execution_count": 86,
   "metadata": {},
   "outputs": [
    {
     "name": "stdout",
     "output_type": "stream",
     "text": [
      "Testing accuracy 0.38235294117647056\n",
      "Testing Precision: 0.5880872943389913\n",
      "Testing Recall: 0.6141732283464567\n",
      "Testing FScore: 0.462120193535331\n",
      "Testing Support: None\n"
     ]
    }
   ],
   "source": [
    "nb = MultinomialNB()\n",
    "nb.fit(X_train, y_train.ravel())\n",
    "y_pred = nb.predict(X_test)\n",
    "\n",
    "# Handle case where label not predicted in test case\n",
    "prfs = precision_recall_fscore_support(y_test, y_pred, average='weighted', labels=np.unique(y_pred))\n",
    "print('Testing accuracy %s' % accuracy_score(y_test, y_pred))\n",
    "print('Testing Precision: {}'.format(prfs[0]))\n",
    "print('Testing Recall: {}'.format(prfs[1]))\n",
    "print('Testing FScore: {}'.format(prfs[2]))\n",
    "print('Testing Support: {}'.format(prfs[3]))"
   ]
  },
  {
   "cell_type": "code",
   "execution_count": null,
   "metadata": {
    "collapsed": true
   },
   "outputs": [],
   "source": []
  }
 ],
 "metadata": {
  "kernelspec": {
   "display_name": "Python 3",
   "language": "python",
   "name": "python3"
  },
  "language_info": {
   "codemirror_mode": {
    "name": "ipython",
    "version": 3
   },
   "file_extension": ".py",
   "mimetype": "text/x-python",
   "name": "python",
   "nbconvert_exporter": "python",
   "pygments_lexer": "ipython3",
   "version": "3.6.4"
  }
 },
 "nbformat": 4,
 "nbformat_minor": 2
}
