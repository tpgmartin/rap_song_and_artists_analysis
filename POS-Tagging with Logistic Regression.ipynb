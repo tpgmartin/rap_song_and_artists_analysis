{
 "cells": [
  {
   "cell_type": "markdown",
   "metadata": {},
   "source": [
    "# POS-Tagging with Logistic Regression"
   ]
  },
  {
   "cell_type": "code",
   "execution_count": 1,
   "metadata": {
    "collapsed": true
   },
   "outputs": [],
   "source": [
    "import matplotlib.pyplot as plt\n",
    "import nltk\n",
    "import numpy as np\n",
    "import pandas as pd\n",
    "import re\n",
    "from scipy.spatial.distance import cosine\n",
    "from sklearn.feature_extraction.text import TfidfVectorizer, ENGLISH_STOP_WORDS\n",
    "from sklearn.linear_model import LogisticRegression\n",
    "from sklearn.model_selection import train_test_split\n",
    "from sklearn import utils\n",
    "\n",
    "%matplotlib inline"
   ]
  },
  {
   "cell_type": "code",
   "execution_count": 2,
   "metadata": {
    "collapsed": true
   },
   "outputs": [],
   "source": [
    "tracks_by_artist = pd.read_csv(\"./data/tracks_with_lyrics_for_top_10_artists.csv\")"
   ]
  },
  {
   "cell_type": "code",
   "execution_count": 3,
   "metadata": {},
   "outputs": [],
   "source": [
    "tracks_by_artist = tracks_by_artist[~tracks_by_artist[\"lyrics\"].isnull()]"
   ]
  },
  {
   "cell_type": "code",
   "execution_count": 22,
   "metadata": {
    "collapsed": true
   },
   "outputs": [],
   "source": [
    "# Helper functions\n",
    "\n",
    "def tokenizer(raw_lyrics):\n",
    "    # Some choices here are specific to the format of Genius lyrics, want to remove non-vocalised \n",
    "    # text in square brackets, and other text not part of the main song body such as adlibs in \n",
    "    # round brackets\n",
    "    raw_lyrics = re.sub(\"([\\(\\[].*?[\\)\\]])|([^\\w\\d'\\s]+)\", \"\", raw_lyrics)\n",
    "    raw_lyrics = re.sub(\"\\n\", \" \", raw_lyrics)\n",
    "    # Ignore case    \n",
    "    raw_lyrics = raw_lyrics.lower()\n",
    "    # pos tagging\n",
    "    tokens = nltk.word_tokenize(raw_lyrics)\n",
    "    tagged_tokens = nltk.pos_tag(tokens)\n",
    "#     token_list = [\"_\".join(el) for el in tagged_tokens]\n",
    "    word_list = raw_lyrics.split()\n",
    "\n",
    "#     return token_list\n",
    "    return word_list\n",
    "\n",
    "def normalise_vector(vector):\n",
    "    return vector / np.sqrt(np.dot(vector,vector))\n",
    "\n",
    "def add_vectors(vectors):\n",
    "    return normalise_vector(np.sum(vectors, axis=0))\n",
    "\n",
    "def ranked_words_by_weighting(vector, top_n):\n",
    "    return sorted(zip(vectorizer.get_feature_names(), vector), key=lambda x: x[1], reverse=True)[:top_n]\n",
    "\n",
    "def most_representative_songs(vector, tracks_by_artist, top_n):\n",
    "    df = tracks_by_artist.copy()\n",
    "    df[\"dist\"] = df[\"normalised_vectors\"].apply(lambda target: cosine(vector, target))\n",
    "    df.sort_values(\"dist\", inplace=True)\n",
    "    return df[:top_n]\n",
    "\n",
    "def most_similar_artists(vector, artist_vectors, top_n):\n",
    "    df = artist_vectors.reset_index().copy()\n",
    "    df[\"dist\"] = df[\"normalised_vectors\"].apply(lambda target: cosine(vector, target))\n",
    "    df.sort_values(\"dist\", inplace=True)\n",
    "    return df[1:top_n+1]"
   ]
  },
  {
   "cell_type": "code",
   "execution_count": null,
   "metadata": {
    "collapsed": true
   },
   "outputs": [],
   "source": [
    "# ignore for time being\n",
    "# hyperparamters = [\n",
    "#     {\"max_df\": 1.0, \"min_df\": 1}, # i.e. default values\n",
    "#     {\"max_df\": 1.0, \"min_df\": 0.001},\n",
    "#     {\"max_df\": 0.7, \"min_df\": 1},\n",
    "#     {\"max_df\": 0.7, \"min_df\": 0.001}\n",
    "# ]"
   ]
  },
  {
   "cell_type": "code",
   "execution_count": 23,
   "metadata": {
    "collapsed": true
   },
   "outputs": [],
   "source": [
    "# for hp in hyperparamters:\n",
    "\n",
    "vectorizer = TfidfVectorizer(\n",
    "    stop_words=ENGLISH_STOP_WORDS,\n",
    "    lowercase=False,\n",
    "    max_df=0.7,\n",
    "    min_df=5,\n",
    "    ngram_range=(1,5),\n",
    "    tokenizer=tokenizer,\n",
    "    norm=None\n",
    ")\n",
    "\n",
    "tracks_by_artist_copy = tracks_by_artist.copy()\n",
    "tracks_by_artist_copy[\"unnormalised_vectors\"] = list(vectorizer.fit_transform(tracks_by_artist_copy[\"lyrics\"].values).toarray())\n",
    "tracks_by_artist_copy[\"normalised_vectors\"] = tracks_by_artist_copy[\"unnormalised_vectors\"].apply(normalise_vector)\n",
    "tracks_by_artist_copy = tracks_by_artist_copy[tracks_by_artist_copy[\"unnormalised_vectors\"].apply(sum) != 0]"
   ]
  },
  {
   "cell_type": "code",
   "execution_count": 24,
   "metadata": {
    "collapsed": true
   },
   "outputs": [],
   "source": [
    "train, test = train_test_split(tracks_by_artist_copy, test_size=0.3, random_state=42)"
   ]
  },
  {
   "cell_type": "code",
   "execution_count": 25,
   "metadata": {
    "collapsed": true
   },
   "outputs": [],
   "source": [
    "y_train, X_train = train[\"artist\"].values.tolist(), train[\"normalised_vectors\"].values.tolist()\n",
    "y_test, X_test = test[\"artist\"].values.tolist(), test[\"normalised_vectors\"].values.tolist()"
   ]
  },
  {
   "cell_type": "code",
   "execution_count": 21,
   "metadata": {},
   "outputs": [
    {
     "name": "stdout",
     "output_type": "stream",
     "text": [
      "Testing accuracy 0.7156862745098039\n",
      "Testing Precision: 0.7553991113576464\n",
      "Testing Recall: 0.7156862745098039\n",
      "Testing FScore: 0.6982026924226737\n",
      "Testing Support: None\n"
     ]
    }
   ],
   "source": [
    "logreg = LogisticRegression(n_jobs=1, C=1e6)\n",
    "logreg.fit(X_train, y_train)\n",
    "y_pred = logreg.predict(X_test)\n",
    "\n",
    "from sklearn.metrics import accuracy_score, f1_score\n",
    "from sklearn.metrics import precision_recall_fscore_support\n",
    "\n",
    "\n",
    "print('Testing accuracy %s' % accuracy_score(y_test, y_pred))\n",
    "print('Testing Precision: {}'.format(precision_recall_fscore_support(y_test, y_pred, average='weighted')[0]))\n",
    "print('Testing Recall: {}'.format(precision_recall_fscore_support(y_test, y_pred, average='weighted')[1]))\n",
    "print('Testing FScore: {}'.format(precision_recall_fscore_support(y_test, y_pred, average='weighted')[2]))\n",
    "print('Testing Support: {}'.format(precision_recall_fscore_support(y_test, y_pred, average='weighted')[3]))"
   ]
  },
  {
   "cell_type": "code",
   "execution_count": 26,
   "metadata": {},
   "outputs": [
    {
     "name": "stdout",
     "output_type": "stream",
     "text": [
      "Testing accuracy 0.7794117647058824\n",
      "Testing Precision: 0.7870900881856219\n",
      "Testing Recall: 0.7794117647058824\n",
      "Testing FScore: 0.7734873810191483\n",
      "Testing Support: None\n"
     ]
    }
   ],
   "source": [
    "logreg = LogisticRegression(n_jobs=1, C=1e6)\n",
    "logreg.fit(X_train, y_train)\n",
    "y_pred = logreg.predict(X_test)\n",
    "\n",
    "from sklearn.metrics import accuracy_score, f1_score\n",
    "from sklearn.metrics import precision_recall_fscore_support\n",
    "\n",
    "\n",
    "print('Testing accuracy %s' % accuracy_score(y_test, y_pred))\n",
    "print('Testing Precision: {}'.format(precision_recall_fscore_support(y_test, y_pred, average='weighted')[0]))\n",
    "print('Testing Recall: {}'.format(precision_recall_fscore_support(y_test, y_pred, average='weighted')[1]))\n",
    "print('Testing FScore: {}'.format(precision_recall_fscore_support(y_test, y_pred, average='weighted')[2]))\n",
    "print('Testing Support: {}'.format(precision_recall_fscore_support(y_test, y_pred, average='weighted')[3]))"
   ]
  },
  {
   "cell_type": "code",
   "execution_count": null,
   "metadata": {
    "collapsed": true
   },
   "outputs": [],
   "source": []
  }
 ],
 "metadata": {
  "kernelspec": {
   "display_name": "Python 3",
   "language": "python",
   "name": "python3"
  },
  "language_info": {
   "codemirror_mode": {
    "name": "ipython",
    "version": 3
   },
   "file_extension": ".py",
   "mimetype": "text/x-python",
   "name": "python",
   "nbconvert_exporter": "python",
   "pygments_lexer": "ipython3",
   "version": "3.6.4"
  }
 },
 "nbformat": 4,
 "nbformat_minor": 2
}
